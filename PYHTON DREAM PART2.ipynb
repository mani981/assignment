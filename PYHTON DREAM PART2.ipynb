{
 "cells": [
  {
   "cell_type": "code",
   "execution_count": 14,
   "id": "603c1c23",
   "metadata": {},
   "outputs": [
    {
     "name": "stdout",
     "output_type": "stream",
     "text": [
      "Enter the year2024\n",
      "it is a leap year\n"
     ]
    }
   ],
   "source": [
    "# to find the leap year\n",
    "year=int(input(\"Enter the year\"))\n",
    "if(year % 400==0)and(year % 100==0):\n",
    "    print(\"it ts a leap year\".format(year))\n",
    "elif(year % 4==0)and(year % 100!=0):\n",
    "    print(\"it is a leap year\".format(year))\n",
    "else:\n",
    "    print(\"it is not a leap year\".format(year))"
   ]
  },
  {
   "cell_type": "code",
   "execution_count": 15,
   "id": "adfac0fa",
   "metadata": {},
   "outputs": [
    {
     "name": "stdout",
     "output_type": "stream",
     "text": [
      "Enter the first number2\n",
      "Enter the secound number5\n",
      "Enter the third number1\n",
      "the number is largest 5\n"
     ]
    }
   ],
   "source": [
    "# largest number among three numbers\n",
    "num1=int(input(\"Enter the first number\"))\n",
    "num2=int(input(\"Enter the secound number\"))\n",
    "num3=int(input(\"Enter the third number\"))\n",
    "if(num1>=num2)and(num1>=num3):\n",
    "    print(\"the number is largest\",num1)\n",
    "if(num2>=num1)and(num2>=num3):\n",
    "    print(\"the number is largest\",num2)\n",
    "else:\n",
    "    print(\"the number is largest\",num3)"
   ]
  },
  {
   "cell_type": "code",
   "execution_count": 17,
   "id": "6098f325",
   "metadata": {},
   "outputs": [
    {
     "name": "stdout",
     "output_type": "stream",
     "text": [
      "[12, 4, 3]\n",
      "[7, 5, 8]\n"
     ]
    }
   ],
   "source": [
    "# transpose of a matrix\n",
    "x=[[12,7],\n",
    "  [4,5],\n",
    "  [3,8]]\n",
    "result=[[0,0,0],\n",
    "       [0,0,0]]\n",
    "for i in range(len(x)):\n",
    "    for j in range(len(x[0])):\n",
    "        result[j][i]=x[i][j]\n",
    "for r in result:\n",
    "    print(r)"
   ]
  },
  {
   "cell_type": "code",
   "execution_count": 20,
   "id": "81d7d487",
   "metadata": {},
   "outputs": [
    {
     "name": "stdout",
     "output_type": "stream",
     "text": [
      "['e', 'j', 'm', 's', 'v']\n"
     ]
    }
   ],
   "source": [
    "list=['e','v','s','j','m']\n",
    "list.sort()\n",
    "print(list)"
   ]
  },
  {
   "cell_type": "code",
   "execution_count": 25,
   "id": "619bfc32",
   "metadata": {},
   "outputs": [
    {
     "name": "stdout",
     "output_type": "stream",
     "text": [
      "Enter the number4\n",
      "4 x 1 = 4\n",
      "4 x 2 = 8\n",
      "4 x 3 = 12\n",
      "4 x 4 = 16\n",
      "4 x 5 = 20\n",
      "4 x 6 = 24\n",
      "4 x 7 = 28\n",
      "4 x 8 = 32\n",
      "4 x 9 = 36\n",
      "4 x 10 = 40\n"
     ]
    }
   ],
   "source": [
    "#print the table\n",
    "num=int(input(\"Enter the number\"))\n",
    "for i in range(1,11):\n",
    "    print(num,'x',i,'=',num*i)"
   ]
  },
  {
   "cell_type": "code",
   "execution_count": 28,
   "id": "f9301665",
   "metadata": {},
   "outputs": [
    {
     "name": "stdout",
     "output_type": "stream",
     "text": [
      "how many numbers4\n",
      "fiboncii seqence:\n",
      "0\n",
      "1\n",
      "1\n",
      "2\n"
     ]
    }
   ],
   "source": [
    "# fiboncii seqence of numbers\n",
    "nterms=int(input(\"how many numbers\"))\n",
    "n1,n2=0,1\n",
    "count=0\n",
    "if nterms<=0:\n",
    "    print(\"please enter the positive numbers\")\n",
    "elif nterms==1:\n",
    "    print(\"fiboncii seqence upto\",nterms,\":\")\n",
    "    print(n1)\n",
    "else:\n",
    "    print(\"fiboncii seqence:\")\n",
    "    while count<nterms:\n",
    "        print(n1)\n",
    "        nth=n1+n2\n",
    "        n1=n2\n",
    "        n2=nth\n",
    "        count+=1"
   ]
  },
  {
   "cell_type": "code",
   "execution_count": 32,
   "id": "9a417e8e",
   "metadata": {},
   "outputs": [
    {
     "name": "stdout",
     "output_type": "stream",
     "text": [
      "Enter the year2022\n",
      "Enter the month6\n",
      "     June 2022\n",
      "Mo Tu We Th Fr Sa Su\n",
      "       1  2  3  4  5\n",
      " 6  7  8  9 10 11 12\n",
      "13 14 15 16 17 18 19\n",
      "20 21 22 23 24 25 26\n",
      "27 28 29 30\n",
      "\n"
     ]
    }
   ],
   "source": [
    "import calendar\n",
    "year=int(input(\"Enter the year\"))\n",
    "month=int(input(\"Enter the month\"))\n",
    "print(calendar.month(year,month))"
   ]
  },
  {
   "cell_type": "code",
   "execution_count": 1,
   "id": "cb3e84c6",
   "metadata": {},
   "outputs": [
    {
     "name": "stdout",
     "output_type": "stream",
     "text": [
      "Enter the first number3\n",
      "Enter the secound number3\n",
      "The L.C.M is None\n"
     ]
    }
   ],
   "source": [
    "def compute_lcm(x,y):\n",
    "    if x>y:\n",
    "        greater=x\n",
    "    else:\n",
    "        greater=y\n",
    "    while(True):\n",
    "        if((greater%x==0)and(greater%y==0)):\n",
    "            lcm=greater\n",
    "            break\n",
    "            greater+=1\n",
    "            return lcm\n",
    "num1=int(input(\"Enter the first number\"))\n",
    "num2=int(input(\"Enter the secound number\"))\n",
    "print(\"The L.C.M is\",compute_lcm(num1,num2))"
   ]
  },
  {
   "cell_type": "code",
   "execution_count": 2,
   "id": "b00b6792",
   "metadata": {},
   "outputs": [
    {
     "name": "stdout",
     "output_type": "stream",
     "text": [
      "Enter the first number3\n",
      "Enter the secound number3\n",
      "The L.C.M is None\n"
     ]
    }
   ],
   "source": [
    "def compute_lcm(x,y):\n",
    "    if x>y:\n",
    "        greater=x\n",
    "    else:\n",
    "        greater=y\n",
    "    while(True):\n",
    "        if((greater%x==0)and(greater%y==0)):\n",
    "            lcm=greater\n",
    "            break\n",
    "            greater+=1\n",
    "            return lcm\n",
    "num1=int(input(\"Enter the first number\"))\n",
    "num2=int(input(\"Enter the secound number\"))\n",
    "print(\"The L.C.M is\",compute_lcm(num1,num2))"
   ]
  },
  {
   "cell_type": "code",
   "execution_count": 6,
   "id": "d737eb4b",
   "metadata": {},
   "outputs": [
    {
     "name": "stdout",
     "output_type": "stream",
     "text": [
      "1\n",
      "2\n",
      "3\n",
      "4\n",
      "5\n",
      "6\n",
      "7\n"
     ]
    }
   ],
   "source": [
    "i=1\n",
    "while i<8:\n",
    "    print(i)\n",
    "    i+=1"
   ]
  },
  {
   "cell_type": "code",
   "execution_count": 14,
   "id": "934ee545",
   "metadata": {},
   "outputs": [
    {
     "name": "stdout",
     "output_type": "stream",
     "text": [
      "1\n",
      "2\n",
      "3\n",
      "4\n",
      "5\n"
     ]
    }
   ],
   "source": [
    "i=1\n",
    "while True:\n",
    "    print(i)\n",
    "    i=i+1\n",
    "    if(i>5):\n",
    "        break"
   ]
  },
  {
   "cell_type": "code",
   "execution_count": 16,
   "id": "09b907c2",
   "metadata": {},
   "outputs": [
    {
     "data": {
      "text/plain": [
       "{'a', 'i', 'n', 'r', 's', 'v'}"
      ]
     },
     "execution_count": 16,
     "metadata": {},
     "output_type": "execute_result"
    }
   ],
   "source": [
    "setsample=['sravani']\n",
    "set('sravani')"
   ]
  },
  {
   "cell_type": "code",
   "execution_count": 6,
   "id": "470ff5df",
   "metadata": {},
   "outputs": [
    {
     "name": "stdout",
     "output_type": "stream",
     "text": [
      "***\n",
      "****\n",
      "*****\n",
      "******\n"
     ]
    }
   ],
   "source": [
    "n=5\n",
    "for i in range(n+1):\n",
    "    for j in range(n+i):\n",
    "        print('*',end='')\n",
    "    print()"
   ]
  },
  {
   "cell_type": "code",
   "execution_count": 13,
   "id": "34c1ba5c",
   "metadata": {},
   "outputs": [
    {
     "name": "stdout",
     "output_type": "stream",
     "text": [
      "* * * * * \n",
      "* * * * * \n",
      "* * * * * \n",
      "* * * * * \n",
      "* * * * * \n"
     ]
    }
   ],
   "source": [
    "n=5\n",
    "for i in range(n):\n",
    "    for j in range(n):\n",
    "        print('*',end=' ')\n",
    "    print()"
   ]
  },
  {
   "cell_type": "code",
   "execution_count": 19,
   "id": "b9511a3a",
   "metadata": {},
   "outputs": [
    {
     "name": "stdout",
     "output_type": "stream",
     "text": [
      "$ $ $ $ $ \n",
      "$ $ $ $ $ \n",
      "$ $ $ $ $ \n",
      "$ $ $ $ $ \n",
      "$ $ $ $ $ \n"
     ]
    }
   ],
   "source": [
    "n=5\n",
    "for i in range(n):\n",
    "    for j in range(n):\n",
    "        print('$',end=' ')\n",
    "    print()"
   ]
  },
  {
   "cell_type": "code",
   "execution_count": 22,
   "id": "51d876a0",
   "metadata": {},
   "outputs": [
    {
     "name": "stdout",
     "output_type": "stream",
     "text": [
      "* \n",
      "* * \n",
      "* * * \n",
      "* * * * \n",
      "* * * * * \n"
     ]
    }
   ],
   "source": [
    "n=5\n",
    "for i in range(n):\n",
    "    for j in range(i+1):\n",
    "        print('*',end=' ')\n",
    "    print()"
   ]
  },
  {
   "cell_type": "code",
   "execution_count": 23,
   "id": "ac4c40cf",
   "metadata": {},
   "outputs": [
    {
     "name": "stdout",
     "output_type": "stream",
     "text": [
      "* * * * * \n",
      "* * * * \n",
      "* * * \n",
      "* * \n",
      "* \n"
     ]
    }
   ],
   "source": [
    "n=5\n",
    "for i in range(n):\n",
    "    for j in range(i,n):\n",
    "        print('*',end=' ')\n",
    "    print()"
   ]
  },
  {
   "cell_type": "code",
   "execution_count": 12,
   "id": "02c9a0ed",
   "metadata": {},
   "outputs": [
    {
     "name": "stdout",
     "output_type": "stream",
     "text": [
      "     * \n",
      "    * * \n",
      "   * * * \n",
      "  * * * * \n",
      " * * * * * \n"
     ]
    }
   ],
   "source": [
    "n=5\n",
    "for i in range(n):\n",
    "    for j in range(i,n):\n",
    "        print('',end=' ')\n",
    "    for j in range(i+1):\n",
    "        print('*',end=' ')\n",
    "    print()"
   ]
  },
  {
   "cell_type": "code",
   "execution_count": 5,
   "id": "44083175",
   "metadata": {},
   "outputs": [
    {
     "name": "stdout",
     "output_type": "stream",
     "text": [
      " * * * * * \n",
      "  * * * * \n",
      "   * * * \n",
      "    * * \n",
      "     * \n"
     ]
    }
   ],
   "source": [
    "n=5\n",
    "for i in range(n):\n",
    "    for j in range(i+1):\n",
    "        print('',end=' ')\n",
    "    for j in range(i,n):\n",
    "        print('*',end=' ')\n",
    "    print()"
   ]
  },
  {
   "cell_type": "markdown",
   "id": "e494686a",
   "metadata": {},
   "source": [
    "# n=5\n",
    "for i in range(n):\n",
    "    for j in range(i+1):\n",
    "        print('',end=' ')\n",
    "    for j in range(i,n):\n",
    "        print('1',end=' ')\n",
    "    print()"
   ]
  },
  {
   "cell_type": "code",
   "execution_count": 22,
   "id": "63e98d62",
   "metadata": {},
   "outputs": [
    {
     "name": "stdout",
     "output_type": "stream",
     "text": [
      " ** ** \n",
      "*  *  *\n",
      "*     *\n",
      " *   * \n",
      "  * *  \n",
      "   *   \n"
     ]
    }
   ],
   "source": [
    "for i in range(6):\n",
    "    for j in range(7):\n",
    "        if(i==0 and j%3!=0) or (i==1 and j%3==0) or (i-j==2) or (i+j==8):\n",
    "            print('*',end='')\n",
    "        else:\n",
    "            print(end=\" \")\n",
    "    print()"
   ]
  },
  {
   "cell_type": "code",
   "execution_count": 1,
   "id": "f6ef7147",
   "metadata": {},
   "outputs": [
    {
     "ename": "IndentationError",
     "evalue": "expected an indented block (Temp/ipykernel_5328/2865904696.py, line 8)",
     "output_type": "error",
     "traceback": [
      "\u001b[1;36m  File \u001b[1;32m\"C:\\Users\\Ammani\\AppData\\Local\\Temp/ipykernel_5328/2865904696.py\"\u001b[1;36m, line \u001b[1;32m8\u001b[0m\n\u001b[1;33m    \u001b[0m\n\u001b[1;37m    ^\u001b[0m\n\u001b[1;31mIndentationError\u001b[0m\u001b[1;31m:\u001b[0m expected an indented block\n"
     ]
    }
   ],
   "source": [
    "num=int(input(\"enter the no of rows:\"))\n",
    "for i in range(1,num+1):\n",
    "    for j in range(1,num-i+1):\n",
    "        print(end=' ')\n",
    "    for j in range(i,0,-1):\n",
    "        print(j,end='')\n",
    "    for j in range(2,i+1):\n",
    "        "
   ]
  },
  {
   "cell_type": "code",
   "execution_count": 24,
   "id": "26d35bd8",
   "metadata": {},
   "outputs": [
    {
     "name": "stdout",
     "output_type": "stream",
     "text": [
      "a, mmani is good girl in house\n"
     ]
    }
   ],
   "source": [
    "a=\"   a, mmani is good girl in house\"\n",
    "print(a.strip())"
   ]
  },
  {
   "cell_type": "code",
   "execution_count": 18,
   "id": "444b0fe3",
   "metadata": {},
   "outputs": [
    {
     "name": "stdout",
     "output_type": "stream",
     "text": [
      "sa\n"
     ]
    }
   ],
   "source": [
    "a=\"sravani\"\n",
    "print(a[::4])"
   ]
  },
  {
   "cell_type": "code",
   "execution_count": 26,
   "id": "79902f28",
   "metadata": {},
   "outputs": [
    {
     "name": "stdout",
     "output_type": "stream",
     "text": [
      "   a, mmani is good girl in house\n"
     ]
    }
   ],
   "source": [
    "a=\"   a, mmani is good girl in HOUSE\"\n",
    "print(a.casefold())"
   ]
  },
  {
   "cell_type": "code",
   "execution_count": null,
   "id": "04f01cfe",
   "metadata": {},
   "outputs": [],
   "source": [
    "num=int(input(\"Enter the number\"))\n",
    "factorial=1\n",
    "if num<0:\n",
    "    print(\"it does not exit the negative numbers\")\n",
    "elif num==1:\n",
    "    print(\"it returns the 1\")\n",
    "for i in range(1,num+1):\n",
    "    factorial=factorial*i\n",
    "print(\"the given number is factorial\",factorial)"
   ]
  },
  {
   "cell_type": "code",
   "execution_count": 7,
   "id": "41598972",
   "metadata": {},
   "outputs": [
    {
     "data": {
      "text/plain": [
       "'abhavyambhavyambhavyaabhavyanbhavyai'"
      ]
     },
     "execution_count": 7,
     "metadata": {},
     "output_type": "execute_result"
    }
   ],
   "source": [
    "a=\"bhavya\"\n",
    "b=\"ammani\"\n",
    "a.join(b)"
   ]
  },
  {
   "cell_type": "code",
   "execution_count": 3,
   "id": "ddce63e5",
   "metadata": {},
   "outputs": [
    {
     "name": "stdout",
     "output_type": "stream",
     "text": [
      "enter the numbers3\n",
      "6\n"
     ]
    }
   ],
   "source": [
    "n=int(input(\"enter the numbers\"))\n",
    "sum=0\n",
    "for i in range(1,n+1):\n",
    "    sum+=i\n",
    "print(sum)"
   ]
  },
  {
   "cell_type": "code",
   "execution_count": null,
   "id": "441ba50e",
   "metadata": {},
   "outputs": [],
   "source": []
  }
 ],
 "metadata": {
  "kernelspec": {
   "display_name": "Python 3 (ipykernel)",
   "language": "python",
   "name": "python3"
  },
  "language_info": {
   "codemirror_mode": {
    "name": "ipython",
    "version": 3
   },
   "file_extension": ".py",
   "mimetype": "text/x-python",
   "name": "python",
   "nbconvert_exporter": "python",
   "pygments_lexer": "ipython3",
   "version": "3.9.7"
  }
 },
 "nbformat": 4,
 "nbformat_minor": 5
}
