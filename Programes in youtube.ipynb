{
 "cells": [
  {
   "cell_type": "code",
   "execution_count": 53,
   "id": "b1df813a",
   "metadata": {},
   "outputs": [
    {
     "name": "stdout",
     "output_type": "stream",
     "text": [
      "Ente5r the length of the rectangle3\n",
      "Enter the width of the rectangle6\n",
      "the area of the rectangle is 18.0\n"
     ]
    }
   ],
   "source": [
    "#Area of the rectangl\n",
    "l=float(input(\"Ente5r the length of the rectangle\"))\n",
    "w=float(input(\"Enter the width of the rectangle\"))\n",
    "area=l*w\n",
    "print(\"the area of the rectangle is\",area)"
   ]
  },
  {
   "cell_type": "code",
   "execution_count": 54,
   "id": "cf111b50",
   "metadata": {},
   "outputs": [
    {
     "name": "stdout",
     "output_type": "stream",
     "text": [
      "The ascii value of +c+is 115\n"
     ]
    }
   ],
   "source": [
    "c='s'\n",
    "print(\"The ascii value of \"'+c+'\"is\",ord(c))"
   ]
  },
  {
   "cell_type": "code",
   "execution_count": 55,
   "id": "d8bfc83c",
   "metadata": {},
   "outputs": [
    {
     "name": "stdout",
     "output_type": "stream",
     "text": [
      "The Ascii value of Ais 65\n"
     ]
    }
   ],
   "source": [
    "#The ascii value of character\n",
    "c='A'\n",
    "print(\"The Ascii value of \"+c+\"is\",ord(c))"
   ]
  },
  {
   "cell_type": "code",
   "execution_count": 56,
   "id": "46959017",
   "metadata": {},
   "outputs": [
    {
     "name": "stdout",
     "output_type": "stream",
     "text": [
      "Enter the number in celsius5\n",
      "celsous to fahrenhit in degrees 5.0 41.0\n"
     ]
    }
   ],
   "source": [
    "#Convert the celsius to fahrenhit\n",
    "celsius=float(input(\"Enter the number in celsius\"))\n",
    "fahrenhit=(celsius*1.8)+32\n",
    "print(\"celsous to fahrenhit in degrees\",celsius,fahrenhit)"
   ]
  },
  {
   "cell_type": "code",
   "execution_count": 57,
   "id": "a3d4379d",
   "metadata": {},
   "outputs": [
    {
     "name": "stdout",
     "output_type": "stream",
     "text": [
      "After swaping a value 30\n",
      "After swaping b value 20\n"
     ]
    }
   ],
   "source": [
    "#Swapping of two numbers\n",
    "a=20\n",
    "b=30\n",
    "temp=a\n",
    "a=b\n",
    "b=temp\n",
    "print(\"After swaping a value\",a)\n",
    "print(\"After swaping b value\",b)"
   ]
  },
  {
   "cell_type": "code",
   "execution_count": 58,
   "id": "511c65f9",
   "metadata": {},
   "outputs": [
    {
     "name": "stdout",
     "output_type": "stream",
     "text": [
      "Enter the number5\n",
      "The given number is odd\n"
     ]
    }
   ],
   "source": [
    "#Even or Odd\n",
    "a=int(input(\"Enter the number\"))\n",
    "if(a%2)==0:\n",
    "    print(\"The given number is even\")\n",
    "else:\n",
    "    print(\"The given number is odd\")"
   ]
  },
  {
   "cell_type": "code",
   "execution_count": 59,
   "id": "36050781",
   "metadata": {},
   "outputs": [
    {
     "name": "stdout",
     "output_type": "stream",
     "text": [
      "Enter a characterf\n",
      "The charcter os constant f\n"
     ]
    }
   ],
   "source": [
    "#Ovel or not\n",
    "ch=input(\"Enter a character\")\n",
    "if(ch=='A' or ch=='a' or ch=='E' or ch=='e' or ch=='I' or ch=='i' or ch=='O' or ch=='o' or ch=='u' or ch=='U'):\n",
    "    print(\"The character is ovel\",ch)\n",
    "else:\n",
    "    print(\"The charcter os constant\",ch)"
   ]
  },
  {
   "cell_type": "code",
   "execution_count": 60,
   "id": "3d472687",
   "metadata": {},
   "outputs": [
    {
     "name": "stdout",
     "output_type": "stream",
     "text": [
      "HELLO\n"
     ]
    }
   ],
   "source": [
    "print(\"HELLO\")"
   ]
  },
  {
   "cell_type": "code",
   "execution_count": 62,
   "id": "f77afc40",
   "metadata": {},
   "outputs": [
    {
     "ename": "IndentationError",
     "evalue": "unindent does not match any outer indentation level (<tokenize>, line 3)",
     "output_type": "error",
     "traceback": [
      "\u001b[1;36m  File \u001b[1;32m\"<tokenize>\"\u001b[1;36m, line \u001b[1;32m3\u001b[0m\n\u001b[1;33m    for i in range(0,len(s),2):\u001b[0m\n\u001b[1;37m    ^\u001b[0m\n\u001b[1;31mIndentationError\u001b[0m\u001b[1;31m:\u001b[0m unindent does not match any outer indentation level\n"
     ]
    }
   ],
   "source": [
    "def(s):\n",
    "     s=list(s)\n",
    "    for i in range(0,len(s),2):\n",
    "        s[i],s[i+1]=s[i+1],s[i]\n",
    "    return ''.join(s)\n",
    "s=\"ammani\"\n",
    "    print(s)"
   ]
  },
  {
   "cell_type": "code",
   "execution_count": 63,
   "id": "2f98780e",
   "metadata": {},
   "outputs": [
    {
     "name": "stdout",
     "output_type": "stream",
     "text": [
      "['m', 'a', 'a', 'm', 'i', 'n']\n"
     ]
    }
   ],
   "source": [
    "s=\"ammani\"\n",
    "s=list(s)\n",
    "for i in range(0,len(s),2):\n",
    "    s[i],s[i+1]=s[i+1],s[i]\n",
    "print(s)   "
   ]
  },
  {
   "cell_type": "code",
   "execution_count": 64,
   "id": "6344140b",
   "metadata": {},
   "outputs": [
    {
     "ename": "IndentationError",
     "evalue": "expected an indented block (Temp/ipykernel_8940/8747272.py, line 2)",
     "output_type": "error",
     "traceback": [
      "\u001b[1;36m  File \u001b[1;32m\"C:\\Users\\Ammani\\AppData\\Local\\Temp/ipykernel_8940/8747272.py\"\u001b[1;36m, line \u001b[1;32m2\u001b[0m\n\u001b[1;33m    for i in s:\u001b[0m\n\u001b[1;37m               ^\u001b[0m\n\u001b[1;31mIndentationError\u001b[0m\u001b[1;31m:\u001b[0m expected an indented block\n"
     ]
    }
   ],
   "source": [
    "s=\"ammani\"\n",
    "for i in s:"
   ]
  },
  {
   "cell_type": "code",
   "execution_count": 53,
   "id": "27bef6e8",
   "metadata": {},
   "outputs": [
    {
     "name": "stdout",
     "output_type": "stream",
     "text": [
      "1  2  3  5  8  13  21  34  55  89  "
     ]
    }
   ],
   "source": [
    "#fibnocii series\n",
    "a=0\n",
    "b=1\n",
    "for i in range(0,10):\n",
    "    t=a+b\n",
    "    a=b\n",
    "    b=t\n",
    "    print(t)"
   ]
  },
  {
   "cell_type": "code",
   "execution_count": null,
   "id": "cc2d3795",
   "metadata": {},
   "outputs": [],
   "source": [
    "n=int(input(\"Enter a number\"))\n",
    "t=0\n",
    "while(n>0):\n",
    "    t+=n%10\n",
    "    t=t//10\n",
    "print(t)"
   ]
  },
  {
   "cell_type": "code",
   "execution_count": 68,
   "id": "8b6d7afd",
   "metadata": {},
   "outputs": [
    {
     "name": "stdout",
     "output_type": "stream",
     "text": [
      "asravanimsravanimsravaniasravaninsravanii\n"
     ]
    }
   ],
   "source": [
    "a=\"ammani\"\n",
    "b=\"sravani\"\n",
    "print(b.join(a))"
   ]
  },
  {
   "cell_type": "code",
   "execution_count": 69,
   "id": "1f2df1ea",
   "metadata": {},
   "outputs": [
    {
     "name": "stdout",
     "output_type": "stream",
     "text": [
      "Hello world\n"
     ]
    }
   ],
   "source": [
    "print(\"Hello world\")"
   ]
  },
  {
   "cell_type": "code",
   "execution_count": 70,
   "id": "194d3b08",
   "metadata": {},
   "outputs": [
    {
     "name": "stdout",
     "output_type": "stream",
     "text": [
      "Enter the year2000\n",
      "the given year is leap year 2000\n"
     ]
    }
   ],
   "source": [
    "year=int(input(\"Enter the year\"))\n",
    "if year%4==0:\n",
    "    if year%100==0:\n",
    "        if year%400==0:\n",
    "            print(\"the given year is leap year\",year)\n",
    "        else:\n",
    "            print(\"the given year is not a leap year\",year)\n",
    "    else:\n",
    "        print(\"the given year is leap year\",year)\n",
    "else:\n",
    "    print(\"the given year is not leap year\",year)"
   ]
  },
  {
   "cell_type": "code",
   "execution_count": 71,
   "id": "bf0fa69e",
   "metadata": {},
   "outputs": [
    {
     "name": "stdout",
     "output_type": "stream",
     "text": [
      "hell\n"
     ]
    }
   ],
   "source": [
    "print(\"hell\")"
   ]
  },
  {
   "cell_type": "code",
   "execution_count": 73,
   "id": "b8a84d56",
   "metadata": {},
   "outputs": [
    {
     "name": "stdout",
     "output_type": "stream",
     "text": [
      "Enter the number4\n",
      "the square of the number 256\n"
     ]
    }
   ],
   "source": [
    "#square of the number\n",
    "digit=int(input(\"Enter the number\"))\n",
    "square=digit**digit\n",
    "print(\"the square of the number\",square)"
   ]
  },
  {
   "cell_type": "code",
   "execution_count": 74,
   "id": "689ccb15",
   "metadata": {},
   "outputs": [
    {
     "name": "stdout",
     "output_type": "stream",
     "text": [
      "64\n"
     ]
    }
   ],
   "source": [
    "data = pow(4, 3)\n",
    "print(data)"
   ]
  },
  {
   "cell_type": "code",
   "execution_count": 75,
   "id": "8afe3c0e",
   "metadata": {},
   "outputs": [
    {
     "name": "stdout",
     "output_type": "stream",
     "text": [
      "the given anser is 8\n"
     ]
    }
   ],
   "source": [
    "base=2\n",
    "exponent=3\n",
    "x=pow(base,exponent)\n",
    "print(\"the given anser is\",x)"
   ]
  },
  {
   "cell_type": "code",
   "execution_count": 76,
   "id": "fa3cf783",
   "metadata": {},
   "outputs": [
    {
     "name": "stdout",
     "output_type": "stream",
     "text": [
      "Enter a number4\n",
      "4 x 1 = 4\n",
      "4 x 2 = 8\n",
      "4 x 3 = 12\n",
      "4 x 4 = 16\n",
      "4 x 5 = 20\n",
      "4 x 6 = 24\n",
      "4 x 7 = 28\n",
      "4 x 8 = 32\n",
      "4 x 9 = 36\n",
      "4 x 10 = 40\n"
     ]
    }
   ],
   "source": [
    "a=int(input(\"Enter a number\"))\n",
    "for i in range(1,11):\n",
    "    print(a,'x',i,'=',a*i)"
   ]
  },
  {
   "cell_type": "code",
   "execution_count": 78,
   "id": "a10c7cde",
   "metadata": {},
   "outputs": [
    {
     "name": "stdout",
     "output_type": "stream",
     "text": [
      "Enter numbers4\n",
      "4\n",
      "4\n",
      "4\n",
      "4\n"
     ]
    }
   ],
   "source": [
    "a=int(input(\"Enter numbers\"))\n",
    "s=0\n",
    "for i in range(0,a):\n",
    "    s=a\n",
    "    a=s\n",
    "    print(a)"
   ]
  },
  {
   "cell_type": "code",
   "execution_count": 79,
   "id": "248aef3f",
   "metadata": {},
   "outputs": [
    {
     "name": "stdout",
     "output_type": "stream",
     "text": [
      "Enter numbers5\n",
      "5\n",
      "5\n",
      "5\n",
      "5\n",
      "5\n"
     ]
    }
   ],
   "source": [
    "a=int(input(\"Enter numbers\"))\n",
    "s=0\n",
    "for i in range(0,a):\n",
    "    s=a\n",
    "    a=s\n",
    "    print(a)"
   ]
  },
  {
   "cell_type": "code",
   "execution_count": 80,
   "id": "4be15304",
   "metadata": {},
   "outputs": [
    {
     "name": "stdout",
     "output_type": "stream",
     "text": [
      "Enter numbers3\n",
      "3\n",
      "3\n",
      "3\n"
     ]
    }
   ],
   "source": [
    "a=int(input(\"Enter numbers\"))\n",
    "s=0\n",
    "for i in range(0,a):\n",
    "    s=a\n",
    "    a=s\n",
    "    print(a)"
   ]
  },
  {
   "cell_type": "code",
   "execution_count": 81,
   "id": "0694f765",
   "metadata": {},
   "outputs": [
    {
     "name": "stdout",
     "output_type": "stream",
     "text": [
      "Enter numbers4\n",
      "4\n",
      "4\n",
      "4\n",
      "4\n"
     ]
    }
   ],
   "source": [
    "a=int(input(\"Enter numbers\"))\n",
    "s=0\n",
    "for i in range(0,a):\n",
    "    s=a\n",
    "    a=s\n",
    "    print(a)"
   ]
  },
  {
   "cell_type": "code",
   "execution_count": 82,
   "id": "cb2c13f1",
   "metadata": {},
   "outputs": [
    {
     "name": "stdout",
     "output_type": "stream",
     "text": [
      "Enter numbers4\n",
      "4\n",
      "4\n",
      "4\n",
      "4\n"
     ]
    }
   ],
   "source": [
    "a=int(input(\"Enter numbers\"))\n",
    "s=0\n",
    "for i in range(0,a):\n",
    "    s=a\n",
    "    a=s\n",
    "    print(a)"
   ]
  },
  {
   "cell_type": "code",
   "execution_count": 83,
   "id": "d3e269d7",
   "metadata": {},
   "outputs": [
    {
     "data": {
      "text/plain": [
       "False"
      ]
     },
     "execution_count": 83,
     "metadata": {},
     "output_type": "execute_result"
    }
   ],
   "source": [
    "a=\"ammani\"\n",
    "a.isupper()"
   ]
  },
  {
   "cell_type": "code",
   "execution_count": 47,
   "id": "b6119926",
   "metadata": {},
   "outputs": [
    {
     "name": "stdout",
     "output_type": "stream",
     "text": [
      "Enter the sum of natural numbers upto:5\n",
      "15\n"
     ]
    }
   ],
   "source": [
    "# sum of the natural numbers\n",
    "n=int(input(\"Enter the sum of natural numbers upto:\"))\n",
    "sum=0\n",
    "for i in range(1,n+1):\n",
    "    sum+=i\n",
    "print(sum)"
   ]
  },
  {
   "cell_type": "code",
   "execution_count": null,
   "id": "1c697e2e",
   "metadata": {},
   "outputs": [],
   "source": [
    "#fibnocii numbers\n",
    "n=int(input(\"Enter the numbers\"))\n",
    "a=0\n",
    "b=1\n",
    "for i in range(n):\n",
    "    print(a)\n",
    "    temp=a\n",
    "    a=b\n",
    "    b=temp+b\n",
    "print(i)"
   ]
  },
  {
   "cell_type": "code",
   "execution_count": 86,
   "id": "b53e3112",
   "metadata": {},
   "outputs": [
    {
     "name": "stdout",
     "output_type": "stream",
     "text": [
      "ammani is a good girl\n"
     ]
    }
   ],
   "source": [
    "#upper to lower\n",
    "s=\"AMMANI IS A GOOD GIRL\"\n",
    "x=s.lower()\n",
    "print(x)"
   ]
  },
  {
   "cell_type": "code",
   "execution_count": 87,
   "id": "544a39dd",
   "metadata": {},
   "outputs": [
    {
     "name": "stdout",
     "output_type": "stream",
     "text": [
      "AMMANI IS A GOOD GIRL\n"
     ]
    }
   ],
   "source": [
    "#lower to upper\n",
    "s=\"ammani is a good girl\"\n",
    "x=s.upper()\n",
    "print(x)"
   ]
  },
  {
   "cell_type": "code",
   "execution_count": 88,
   "id": "ea517158",
   "metadata": {},
   "outputs": [
    {
     "name": "stdout",
     "output_type": "stream",
     "text": [
      "54321\n"
     ]
    }
   ],
   "source": [
    "n=\"12345\"\n",
    "print(n[::-1])"
   ]
  },
  {
   "cell_type": "code",
   "execution_count": 89,
   "id": "dd33e3c2",
   "metadata": {},
   "outputs": [],
   "source": [
    "n=12345\n",
    "l=[]\n",
    "for n in l:\n",
    "    print(len(l))"
   ]
  },
  {
   "cell_type": "code",
   "execution_count": 90,
   "id": "d9732881",
   "metadata": {},
   "outputs": [
    {
     "name": "stdout",
     "output_type": "stream",
     "text": [
      "Enter the numbers upto range10\n",
      "3\n",
      "5\n",
      "5\n",
      "5\n",
      "7\n",
      "7\n",
      "7\n",
      "7\n",
      "7\n",
      "9\n"
     ]
    }
   ],
   "source": [
    "n=int(input(\"Enter the numbers upto range\"))\n",
    "for x in range(n):\n",
    "    if x>1:\n",
    "        for i in range(2,x):\n",
    "            if(x%i)==0:\n",
    "                break\n",
    "            else:\n",
    "                print(x)\n",
    "                "
   ]
  },
  {
   "cell_type": "code",
   "execution_count": 3,
   "id": "fd8a0c13",
   "metadata": {},
   "outputs": [
    {
     "name": "stdout",
     "output_type": "stream",
     "text": [
      "Enter a number3\n",
      "* * * \n",
      "* * * \n",
      "* * * \n"
     ]
    }
   ],
   "source": [
    "#pascal triangle\n",
    "n=int(input(\"Enter a number\"))\n",
    "for i in range(n):\n",
    "    for j in range(n-i-1):\n",
    "        print(\"*\",end=\" \")\n",
    "    for j in range(i+1):\n",
    "        print(\"*\",end=\" \")\n",
    "    print()\n",
    "        "
   ]
  },
  {
   "cell_type": "code",
   "execution_count": 7,
   "id": "3bb5c2e8",
   "metadata": {},
   "outputs": [
    {
     "name": "stdout",
     "output_type": "stream",
     "text": [
      "Enter the lower range2\n",
      "Enter the upper range10\n",
      "2\n",
      "3\n",
      "5\n",
      "7\n"
     ]
    }
   ],
   "source": [
    "#prime numbers two ranges\n",
    "start=int(input(\"Enter the lower range\"))\n",
    "stop=int(input(\"Enter the upper range\"))\n",
    "for x in range(start,stop):\n",
    "    if x>1:\n",
    "        for i in range(2,x):\n",
    "            if(x%i)==0:\n",
    "                break\n",
    "        else:\n",
    "            print(x)\n",
    "        "
   ]
  },
  {
   "cell_type": "code",
   "execution_count": 26,
   "id": "1c7dc4c4",
   "metadata": {},
   "outputs": [
    {
     "name": "stdout",
     "output_type": "stream",
     "text": [
      "Enter the numbers upto:10\n",
      "2\n",
      "3\n",
      "5\n",
      "7\n"
     ]
    }
   ],
   "source": [
    "#prime no upto \n",
    "n=int(input(\"Enter the numbers upto:\"))\n",
    "for i in range(n):\n",
    "    if i>1:\n",
    "        for x in range(2,i):\n",
    "            if(i%x)==0:\n",
    "                break\n",
    "        else:\n",
    "            print(i)"
   ]
  },
  {
   "cell_type": "code",
   "execution_count": 13,
   "id": "9153da7a",
   "metadata": {},
   "outputs": [
    {
     "name": "stdout",
     "output_type": "stream",
     "text": [
      "Enter the numbers2\n",
      "1\n",
      "2\n"
     ]
    }
   ],
   "source": [
    "#factors of the given numbers\n",
    "n=int(input(\"Enter the numbers\"))\n",
    "for i in range(1,n+1):\n",
    "    if n%i==0:\n",
    "        print(i)   "
   ]
  },
  {
   "cell_type": "code",
   "execution_count": 12,
   "id": "89ad887a",
   "metadata": {},
   "outputs": [
    {
     "name": "stdout",
     "output_type": "stream",
     "text": [
      "Enter the decimal number12\n",
      "the decimal number is\n",
      "0b1100 in binary.\n",
      "0o14 in octal.\n",
      "0xc in hexadecimal.\n"
     ]
    }
   ],
   "source": [
    "#bin to dec and oct\n",
    "dec=int(input(\"Enter the decimal number\"))\n",
    "print(\"the decimal number is\")\n",
    "print(bin(dec),\"in binary.\")\n",
    "print(oct(dec),\"in octal.\")\n",
    "print(hex(dec),\"in hexadecimal.\")"
   ]
  },
  {
   "cell_type": "code",
   "execution_count": 33,
   "id": "4a836eb5",
   "metadata": {},
   "outputs": [
    {
     "name": "stdout",
     "output_type": "stream",
     "text": [
      "Enter the decimal number3\n",
      "enter the binary number\n",
      "0o3 in octal.\n",
      "0x3 in hexadecimal.\n"
     ]
    }
   ],
   "source": [
    "bin=int(input(\"Enter the decimal number\"))\n",
    "print(\"enter the binary number\")\n",
    "print(oct(bin),\"in octal.\")\n",
    "print(hex(bin),\"in hexadecimal.\")"
   ]
  },
  {
   "cell_type": "code",
   "execution_count": 35,
   "id": "20267c94",
   "metadata": {},
   "outputs": [
    {
     "name": "stdout",
     "output_type": "stream",
     "text": [
      "10\n"
     ]
    }
   ],
   "source": [
    "#count the digits in interger\n",
    "num=1234567893\n",
    "print(len(str(num)))"
   ]
  },
  {
   "cell_type": "code",
   "execution_count": 42,
   "id": "9ff4386b",
   "metadata": {},
   "outputs": [
    {
     "name": "stdout",
     "output_type": "stream",
     "text": [
      "number of digits:0\n"
     ]
    }
   ],
   "source": [
    "#count the digits in integer\n",
    "num=123345\n",
    "count=0\n",
    "while count!=0:\n",
    "    num//10\n",
    "    count+=1\n",
    "print(\"number of digits:\"+ str(count))"
   ]
  },
  {
   "cell_type": "code",
   "execution_count": 46,
   "id": "dd8d0e03",
   "metadata": {},
   "outputs": [
    {
     "name": "stdout",
     "output_type": "stream",
     "text": [
      "4321\n"
     ]
    }
   ],
   "source": [
    "#reverse the numbers\n",
    "num=\"1234\"\n",
    "print(num[::-1])"
   ]
  },
  {
   "cell_type": "code",
   "execution_count": 51,
   "id": "0c2160cb",
   "metadata": {},
   "outputs": [
    {
     "ename": "KeyboardInterrupt",
     "evalue": "",
     "output_type": "error",
     "traceback": [
      "\u001b[1;31m---------------------------------------------------------------------------\u001b[0m",
      "\u001b[1;31mKeyboardInterrupt\u001b[0m                         Traceback (most recent call last)",
      "\u001b[1;32m~\\AppData\\Local\\Temp/ipykernel_9256/2855577666.py\u001b[0m in \u001b[0;36m<module>\u001b[1;34m\u001b[0m\n\u001b[0;32m      3\u001b[0m \u001b[1;32mwhile\u001b[0m \u001b[0mnum\u001b[0m\u001b[1;33m!=\u001b[0m\u001b[1;36m0\u001b[0m\u001b[1;33m:\u001b[0m\u001b[1;33m\u001b[0m\u001b[1;33m\u001b[0m\u001b[0m\n\u001b[0;32m      4\u001b[0m     \u001b[0mdigit\u001b[0m\u001b[1;33m=\u001b[0m\u001b[0mnum\u001b[0m\u001b[1;33m%\u001b[0m\u001b[1;36m10\u001b[0m\u001b[1;33m\u001b[0m\u001b[1;33m\u001b[0m\u001b[0m\n\u001b[1;32m----> 5\u001b[1;33m     \u001b[0mreversed_num\u001b[0m\u001b[1;33m=\u001b[0m\u001b[0mreversed_num\u001b[0m\u001b[1;33m*\u001b[0m\u001b[1;36m10\u001b[0m\u001b[1;33m+\u001b[0m\u001b[0mdigit\u001b[0m\u001b[1;33m\u001b[0m\u001b[1;33m\u001b[0m\u001b[0m\n\u001b[0m\u001b[0;32m      6\u001b[0m     \u001b[0mnum\u001b[0m\u001b[1;33m//\u001b[0m\u001b[1;36m10\u001b[0m\u001b[1;33m\u001b[0m\u001b[1;33m\u001b[0m\u001b[0m\n\u001b[0;32m      7\u001b[0m \u001b[0mprint\u001b[0m\u001b[1;33m(\u001b[0m\u001b[0mstr\u001b[0m\u001b[1;33m(\u001b[0m\u001b[0mreversed_num\u001b[0m\u001b[1;33m)\u001b[0m\u001b[1;33m)\u001b[0m\u001b[1;33m\u001b[0m\u001b[1;33m\u001b[0m\u001b[0m\n",
      "\u001b[1;31mKeyboardInterrupt\u001b[0m: "
     ]
    }
   ],
   "source": [
    "num=1234\n",
    "reversed_num=0\n",
    "while num!=0:\n",
    "    digit=num%10\n",
    "    reversed_num=reversed_num*10+digit\n",
    "    num//10\n",
    "print(str(reversed_num))"
   ]
  },
  {
   "cell_type": "code",
   "execution_count": 52,
   "id": "394b22a4",
   "metadata": {},
   "outputs": [
    {
     "name": "stdout",
     "output_type": "stream",
     "text": [
      "hello\n"
     ]
    }
   ],
   "source": [
    "print(\"hello\")"
   ]
  },
  {
   "cell_type": "code",
   "execution_count": 54,
   "id": "0d2392f3",
   "metadata": {},
   "outputs": [
    {
     "name": "stdout",
     "output_type": "stream",
     "text": [
      "Enter the string:ammani\n",
      "The number is not palindrome\n"
     ]
    }
   ],
   "source": [
    "#string is palindrome or not\n",
    "string=input(\"Enter the string:\")\n",
    "if(string==string[::-1]):\n",
    "    print(\"The string is palindrome\")\n",
    "else:\n",
    "    print(\"The number is not palindrome\")"
   ]
  },
  {
   "cell_type": "code",
   "execution_count": 2,
   "id": "3b7a9949",
   "metadata": {},
   "outputs": [
    {
     "name": "stdout",
     "output_type": "stream",
     "text": [
      "Enter the number12\n"
     ]
    },
    {
     "ename": "TypeError",
     "evalue": "'int' object is not subscriptable",
     "output_type": "error",
     "traceback": [
      "\u001b[1;31m---------------------------------------------------------------------------\u001b[0m",
      "\u001b[1;31mTypeError\u001b[0m                                 Traceback (most recent call last)",
      "\u001b[1;32m~\\AppData\\Local\\Temp/ipykernel_5388/2768449783.py\u001b[0m in \u001b[0;36m<module>\u001b[1;34m\u001b[0m\n\u001b[0;32m      1\u001b[0m \u001b[1;31m#digit palindrome or not\u001b[0m\u001b[1;33m\u001b[0m\u001b[1;33m\u001b[0m\u001b[0m\n\u001b[0;32m      2\u001b[0m \u001b[0mnum\u001b[0m\u001b[1;33m=\u001b[0m\u001b[0mint\u001b[0m\u001b[1;33m(\u001b[0m\u001b[0minput\u001b[0m\u001b[1;33m(\u001b[0m\u001b[1;34m\"Enter the number\"\u001b[0m\u001b[1;33m)\u001b[0m\u001b[1;33m)\u001b[0m\u001b[1;33m\u001b[0m\u001b[1;33m\u001b[0m\u001b[0m\n\u001b[1;32m----> 3\u001b[1;33m \u001b[1;32mif\u001b[0m \u001b[0mstr\u001b[0m\u001b[1;33m(\u001b[0m\u001b[0mnum\u001b[0m\u001b[1;33m==\u001b[0m\u001b[0mnum\u001b[0m\u001b[1;33m[\u001b[0m\u001b[1;33m:\u001b[0m\u001b[1;33m:\u001b[0m\u001b[1;33m-\u001b[0m\u001b[1;36m1\u001b[0m\u001b[1;33m]\u001b[0m\u001b[1;33m)\u001b[0m\u001b[1;33m:\u001b[0m\u001b[1;33m\u001b[0m\u001b[1;33m\u001b[0m\u001b[0m\n\u001b[0m\u001b[0;32m      4\u001b[0m     \u001b[0mprint\u001b[0m\u001b[1;33m(\u001b[0m\u001b[0mstr\u001b[0m\u001b[1;33m(\u001b[0m\u001b[1;34m\"palindrome\"\u001b[0m\u001b[1;33m)\u001b[0m\u001b[1;33m)\u001b[0m\u001b[1;33m\u001b[0m\u001b[1;33m\u001b[0m\u001b[0m\n\u001b[0;32m      5\u001b[0m \u001b[1;32melse\u001b[0m\u001b[1;33m:\u001b[0m\u001b[1;33m\u001b[0m\u001b[1;33m\u001b[0m\u001b[0m\n",
      "\u001b[1;31mTypeError\u001b[0m: 'int' object is not subscriptable"
     ]
    }
   ],
   "source": [
    "#digit palindrome or not\n",
    "num=int(input(\"Enter the number\"))\n",
    "if str(num==num[::-1]):\n",
    "    print(str(\"palindrome\"))\n",
    "else:\n",
    "    print(str(\"not palindrome\"))"
   ]
  },
  {
   "cell_type": "code",
   "execution_count": 68,
   "id": "681ad6c4",
   "metadata": {},
   "outputs": [
    {
     "name": "stdout",
     "output_type": "stream",
     "text": [
      "Enter the number121\n",
      "The number is palindrome\n"
     ]
    }
   ],
   "source": [
    "#number is palindrome or not\n",
    "num=int(input(\"Enter the number\"))\n",
    "temp=num\n",
    "rev=0\n",
    "while(num>0):\n",
    "    dig=num%10\n",
    "    rev=rev*10+dig\n",
    "    num=num//10\n",
    "if(temp==rev):\n",
    "    print(\"The number is palindrome\")\n",
    "else:\n",
    "    print(\"the number is not palindrome\")"
   ]
  },
  {
   "cell_type": "code",
   "execution_count": 14,
   "id": "6eb09b8c",
   "metadata": {},
   "outputs": [
    {
     "name": "stdout",
     "output_type": "stream",
     "text": [
      "Enter the number2\n",
      "1\n",
      "2\n"
     ]
    }
   ],
   "source": [
    "n=int(input(\"Enter the number\"))\n",
    "for i in range(1,n+1):\n",
    "    if n%i==0:\n",
    "        print(i)  "
   ]
  },
  {
   "cell_type": "code",
   "execution_count": 17,
   "id": "0762452b",
   "metadata": {},
   "outputs": [
    {
     "name": "stdout",
     "output_type": "stream",
     "text": [
      "Enter the number123\n",
      "The sum of digits 6\n"
     ]
    }
   ],
   "source": [
    "#summation of digits\n",
    "n=int(input(\"Enter the number\"))\n",
    "sum=0\n",
    "while(n>0):\n",
    "    dig=n%10\n",
    "    sum=sum+dig\n",
    "    n=n//10\n",
    "print(\"The sum of digits\",sum)"
   ]
  },
  {
   "cell_type": "code",
   "execution_count": 28,
   "id": "8de916e4",
   "metadata": {},
   "outputs": [
    {
     "name": "stdout",
     "output_type": "stream",
     "text": [
      "Enter the number153\n",
      "it is not amstrong number 153\n"
     ]
    }
   ],
   "source": [
    "#Amstrong number\n",
    "n=int(input(\"Enter the number\"))\n",
    "order=len(str(n))\n",
    "sum=0\n",
    "temp=num\n",
    "while(temp>0):\n",
    "    digit=temp%10\n",
    "    sum+=digit**order\n",
    "    temp//=10\n",
    "if num==sum:\n",
    "    print(\"it an Amstrong number\",n)\n",
    "else:\n",
    "    print(\"it is not amstrong number\",n)"
   ]
  },
  {
   "cell_type": "code",
   "execution_count": 38,
   "id": "f179f328",
   "metadata": {},
   "outputs": [
    {
     "name": "stdout",
     "output_type": "stream",
     "text": [
      "Enter the number153\n",
      "0 is an Armstrong number\n"
     ]
    }
   ],
   "source": [
    "num=int(input(\"Enter the number\"))\n",
    "order=len(str(num))\n",
    "sum=0\n",
    "num=temp\n",
    "while temp>0:\n",
    "   digit=temp%10\n",
    "   sum+=digit**order\n",
    "   temp//=10\n",
    "if num==sum:\n",
    "   print(num,\"is an Armstrong number\")\n",
    "else:\n",
    "   print(num,\"is not an Armstrong number\")\n"
   ]
  },
  {
   "cell_type": "code",
   "execution_count": 44,
   "id": "720bac13",
   "metadata": {},
   "outputs": [
    {
     "name": "stdout",
     "output_type": "stream",
     "text": [
      "Enter the number153\n",
      "amstrong number 0\n"
     ]
    }
   ],
   "source": [
    "#amstrong number\n",
    "n=int(input(\"Enter the number\"))\n",
    "sum=0\n",
    "n=temp\n",
    "while(n>0):\n",
    "    digit=temp%10\n",
    "    sum+=digit**10\n",
    "    temp=temp//10\n",
    "if num==sum:\n",
    "    print(\"amstrong number\",n)\n",
    "else:\n",
    "    print(\"not a amstrong number\",n)"
   ]
  },
  {
   "cell_type": "markdown",
   "id": "79ce2f05",
   "metadata": {},
   "source": [
    "# Programes using Arrays"
   ]
  },
  {
   "cell_type": "code",
   "execution_count": 56,
   "id": "5d67e5a1",
   "metadata": {},
   "outputs": [
    {
     "name": "stdout",
     "output_type": "stream",
     "text": [
      "Enter the numbers10\n",
      "1  2  3  5  8  13  21  34  55  89  144  "
     ]
    }
   ],
   "source": [
    "#Fibnocii using arrays\n",
    "n=int(input(\"Enter the numbers\"))\n",
    "a=0\n",
    "b=1\n",
    "for i in range(a,n+1):\n",
    "    t=a+b\n",
    "    a=b\n",
    "    b=t\n",
    "    print(t,end=\"  \")"
   ]
  },
  {
   "cell_type": "code",
   "execution_count": 59,
   "id": "e874bbe7",
   "metadata": {},
   "outputs": [
    {
     "name": "stdout",
     "output_type": "stream",
     "text": [
      "[10, 20, 50]\n",
      "50\n"
     ]
    }
   ],
   "source": [
    "#Largest among n numbers in array\n",
    "array=[10,20,50]\n",
    "array.sort()\n",
    "print(array)\n",
    "print(max(array))"
   ]
  },
  {
   "cell_type": "code",
   "execution_count": 61,
   "id": "47f8f8fb",
   "metadata": {},
   "outputs": [],
   "source": [
    "#smallest among n numbers in array"
   ]
  },
  {
   "cell_type": "code",
   "execution_count": null,
   "id": "05d3c367",
   "metadata": {},
   "outputs": [],
   "source": []
  },
  {
   "cell_type": "code",
   "execution_count": null,
   "id": "968a3941",
   "metadata": {},
   "outputs": [],
   "source": []
  }
 ],
 "metadata": {
  "kernelspec": {
   "display_name": "Python 3 (ipykernel)",
   "language": "python",
   "name": "python3"
  },
  "language_info": {
   "codemirror_mode": {
    "name": "ipython",
    "version": 3
   },
   "file_extension": ".py",
   "mimetype": "text/x-python",
   "name": "python",
   "nbconvert_exporter": "python",
   "pygments_lexer": "ipython3",
   "version": "3.9.7"
  }
 },
 "nbformat": 4,
 "nbformat_minor": 5
}
