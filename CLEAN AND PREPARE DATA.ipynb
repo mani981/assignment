{
 "cells": [
  {
   "cell_type": "code",
   "execution_count": 3,
   "id": "4b0052c3",
   "metadata": {},
   "outputs": [
    {
     "name": "stdout",
     "output_type": "stream",
     "text": [
      "   Employee name   Age  Salary Category  Working hours\n",
      "0       1.Ammani  25.0  30,000    Vipro            8.0\n",
      "1      2.Sravani  18.0  18,000     Tata            9.0\n",
      "2       3.Bhavya  22.0  22,000      Sve           10.0\n",
      "3       4.Anusha  30.0  33,000    Motor            NaN\n",
      "4       5.Monika  35.0  40,000      Tlc            8.0\n",
      "5       6.Pavani  17.0  20,000      Cse           11.0\n",
      "6      7.Lavanya  24.0  42,000      Amg           13.0\n",
      "7            NaN   NaN     NaN      NaN            NaN\n",
      "8      9.Kavitha  36.0  46,000      NaN            9.0\n",
      "9      10.Nalini  45.0  50,000      Bmw            6.0\n",
      "10      11.Kavya  26.0  24,000      Ded            9.0\n",
      "-----\n",
      "   Employee name   Age  Salary Category  Working hours\n",
      "0       1.Ammani  25.0  30,000    Vipro            8.0\n",
      "1      2.Sravani  18.0  18,000     Tata            9.0\n",
      "2       3.Bhavya  22.0  22,000      Sve           10.0\n",
      "4       5.Monika  35.0  40,000      Tlc            8.0\n",
      "5       6.Pavani  17.0  20,000      Cse           11.0\n",
      "6      7.Lavanya  24.0  42,000      Amg           13.0\n",
      "9      10.Nalini  45.0  50,000      Bmw            6.0\n",
      "10      11.Kavya  26.0  24,000      Ded            9.0\n",
      "------\n",
      "---\n"
     ]
    },
    {
     "ename": "NameError",
     "evalue": "name 's' is not defined",
     "output_type": "error",
     "traceback": [
      "\u001b[1;31m---------------------------------------------------------------------------\u001b[0m",
      "\u001b[1;31mNameError\u001b[0m                                 Traceback (most recent call last)",
      "\u001b[1;32m~\\AppData\\Local\\Temp/ipykernel_4132/1612285041.py\u001b[0m in \u001b[0;36m<module>\u001b[1;34m\u001b[0m\n\u001b[0;32m      8\u001b[0m \u001b[1;31m#print(new_df.to_string())\u001b[0m\u001b[1;33m\u001b[0m\u001b[1;33m\u001b[0m\u001b[0m\n\u001b[0;32m      9\u001b[0m \u001b[0mprint\u001b[0m\u001b[1;33m(\u001b[0m\u001b[1;34m\"---\"\u001b[0m\u001b[1;33m)\u001b[0m\u001b[1;33m\u001b[0m\u001b[1;33m\u001b[0m\u001b[0m\n\u001b[1;32m---> 10\u001b[1;33m \u001b[0ms\u001b[0m\u001b[1;33m\u001b[0m\u001b[1;33m\u001b[0m\u001b[0m\n\u001b[0m",
      "\u001b[1;31mNameError\u001b[0m: name 's' is not defined"
     ]
    }
   ],
   "source": [
    "import pandas as pd\n",
    "df=pd.read_csv('Employe.csv')\n",
    "new_df=df.dropna()\n",
    "print(df)\n",
    "print(\"-----\")\n",
    "print(new_df)\n",
    "print(\"------\")\n",
    "#print(new_df.to_string())\n",
    "print(\"---\")\n",
    "s\n"
   ]
  },
  {
   "cell_type": "code",
   "execution_count": 4,
   "id": "4b9b7007",
   "metadata": {},
   "outputs": [
    {
     "name": "stdout",
     "output_type": "stream",
     "text": [
      "   Employee name   Age  Salary Category  Working hours\n",
      "0       1.Ammani  25.0  30,000    Vipro            8.0\n",
      "1      2.Sravani  18.0  18,000     Tata            9.0\n",
      "2       3.Bhavya  22.0  22,000      Sve           10.0\n",
      "3       4.Anusha  30.0  33,000    Motor            NaN\n",
      "4       5.Monika  35.0  40,000      Tlc            8.0\n",
      "5       6.Pavani  17.0  20,000      Cse           11.0\n",
      "6      7.Lavanya  24.0  42,000      Amg           13.0\n",
      "8      9.Kavitha  36.0  46,000      NaN            9.0\n",
      "9      10.Nalini  45.0  50,000      Bmw            6.0\n",
      "10      11.Kavya  26.0  24,000      Ded            9.0\n"
     ]
    }
   ],
   "source": [
    "import pandas as pd\n",
    "df=pd.read_csv('Employe.csv')\n",
    "x=df.dropna(how=\"all\")\n",
    "print(x)"
   ]
  },
  {
   "cell_type": "code",
   "execution_count": 53,
   "id": "a5a2a730",
   "metadata": {},
   "outputs": [
    {
     "name": "stdout",
     "output_type": "stream",
     "text": [
      "   Employee name   Age  Salary Category  Working hours\n",
      "0       1.Ammani  25.0  30,000    Vipro            8.0\n",
      "1      2.Sravani  18.0  18,000     Tata            9.0\n",
      "2       3.Bhavya  22.0  22,000      Sve           10.0\n",
      "3       4.Anusha  30.0  33,000    Motor            NaN\n",
      "4       5.Monika  35.0  40,000      Tlc            8.0\n",
      "5       6.Pavani  17.0  20,000      Cse           11.0\n",
      "6      7.Lavanya  24.0  42,000      Amg           13.0\n",
      "7            NaN  27.8     NaN      NaN            NaN\n",
      "8      9.Kavitha  36.0  46,000      NaN            9.0\n",
      "9      10.Nalini  45.0  50,000      Bmw            6.0\n",
      "10      11.Kavya  26.0  24,000      Ded            9.0\n"
     ]
    }
   ],
   "source": [
    "import pandas as pd\n",
    "df = pd.read_csv('Employe.csv')\n",
    "x = df[\"Age\"].mean()\n",
    "df[\"Age\"].fillna(x, inplace = True)\n",
    "print(df)"
   ]
  },
  {
   "cell_type": "code",
   "execution_count": 30,
   "id": "1cdd060d",
   "metadata": {},
   "outputs": [
    {
     "name": "stdout",
     "output_type": "stream",
     "text": [
      "   Employee name   Age  Salary Category  Working hours\n",
      "0       1.Ammani  25.0  30,000    Vipro            8.0\n",
      "1      2.Sravani  18.0  18,000     Tata            9.0\n",
      "2       3.Bhavya  22.0  22,000      Sve           10.0\n",
      "4       5.Monika  35.0  40,000      Tlc            8.0\n",
      "5       6.Pavani  17.0  20,000      Cse           11.0\n",
      "6      7.Lavanya  24.0  42,000      Amg           13.0\n",
      "9      10.Nalini  45.0  50,000      Bmw            6.0\n",
      "10      11.Kavya  26.0  24,000      Ded            9.0\n"
     ]
    }
   ],
   "source": [
    "import pandas as pd\n",
    "df=pd.read_csv('Employe.csv')\n",
    "new_df=df.dropna()\n",
    "print(nw_df)"
   ]
  },
  {
   "cell_type": "code",
   "execution_count": 20,
   "id": "6e7ae559",
   "metadata": {},
   "outputs": [],
   "source": [
    "df.dropna(subset=['Working hours'],inplace = True)"
   ]
  },
  {
   "cell_type": "code",
   "execution_count": 61,
   "id": "61eebd5e",
   "metadata": {},
   "outputs": [
    {
     "name": "stdout",
     "output_type": "stream",
     "text": [
      "   Employee name   Age  Salary Category  Working hours\n",
      "0       1.Ammani  25.0  30,000    Vipro            8.0\n",
      "1      2.Sravani  18.0  18,000     Tata            9.0\n",
      "2       3.Bhavya  22.0  22,000      Sve           10.0\n",
      "3       4.Anusha  30.0  33,000    Motor            NaN\n",
      "4       5.Monika  35.0  40,000      Tlc            8.0\n",
      "5       6.Pavani  17.0  20,000      Cse           11.0\n",
      "6      7.Lavanya  45.0  42,000      Amg           13.0\n",
      "7            NaN   NaN     NaN      NaN            NaN\n",
      "8      9.Kavitha  36.0  46,000      NaN            9.0\n",
      "9      10.Nalini  45.0  50,000      Bmw            6.0\n",
      "10      11.Kavya  26.0  24,000      Ded            9.0\n"
     ]
    }
   ],
   "source": [
    "import pandas as pd\n",
    "df=pd.read_csv(\"Employe.csv\")\n",
    "df.loc[6, 'Age']=45\n",
    "print(df)"
   ]
  },
  {
   "cell_type": "code",
   "execution_count": 23,
   "id": "559e0919",
   "metadata": {},
   "outputs": [
    {
     "name": "stdout",
     "output_type": "stream",
     "text": [
      "   Employee name    Age  Salary Category  Working hours\n",
      "0       1.Ammani   25.0  30,000    Vipro            8.0\n",
      "1      2.Sravani   18.0  18,000     Tata            9.0\n",
      "2       3.Bhavya   22.0  22,000      Sve           10.0\n",
      "3       4.Anusha   30.0  33,000    Motor          100.0\n",
      "4       5.Monika   35.0  40,000      Tlc            8.0\n",
      "5       6.Pavani   17.0  20,000      Cse           11.0\n",
      "6      7.Lavanya   24.0  42,000      Amg           13.0\n",
      "7            100  100.0     100      100          100.0\n",
      "8      9.Kavitha   36.0  46,000      100            9.0\n",
      "9      10.Nalini   45.0  50,000      Bmw            6.0\n",
      "10      11.Kavya   26.0  24,000      Ded            9.0\n"
     ]
    }
   ],
   "source": [
    "import pandas as pd\n",
    "df=pd.read_csv('Employe.csv')\n",
    "df.fillna(100,inplace=True)\n",
    "print(df)"
   ]
  },
  {
   "cell_type": "code",
   "execution_count": 7,
   "id": "4239fe4a",
   "metadata": {},
   "outputs": [
    {
     "data": {
      "text/html": [
       "<div>\n",
       "<style scoped>\n",
       "    .dataframe tbody tr th:only-of-type {\n",
       "        vertical-align: middle;\n",
       "    }\n",
       "\n",
       "    .dataframe tbody tr th {\n",
       "        vertical-align: top;\n",
       "    }\n",
       "\n",
       "    .dataframe thead th {\n",
       "        text-align: right;\n",
       "    }\n",
       "</style>\n",
       "<table border=\"1\" class=\"dataframe\">\n",
       "  <thead>\n",
       "    <tr style=\"text-align: right;\">\n",
       "      <th></th>\n",
       "      <th>Employee name</th>\n",
       "      <th>Age</th>\n",
       "      <th>Salary</th>\n",
       "      <th>Category</th>\n",
       "      <th>Working hours</th>\n",
       "    </tr>\n",
       "  </thead>\n",
       "  <tbody>\n",
       "    <tr>\n",
       "      <th>0</th>\n",
       "      <td>False</td>\n",
       "      <td>False</td>\n",
       "      <td>False</td>\n",
       "      <td>False</td>\n",
       "      <td>False</td>\n",
       "    </tr>\n",
       "    <tr>\n",
       "      <th>1</th>\n",
       "      <td>False</td>\n",
       "      <td>False</td>\n",
       "      <td>False</td>\n",
       "      <td>False</td>\n",
       "      <td>False</td>\n",
       "    </tr>\n",
       "    <tr>\n",
       "      <th>2</th>\n",
       "      <td>False</td>\n",
       "      <td>False</td>\n",
       "      <td>False</td>\n",
       "      <td>False</td>\n",
       "      <td>False</td>\n",
       "    </tr>\n",
       "    <tr>\n",
       "      <th>3</th>\n",
       "      <td>False</td>\n",
       "      <td>False</td>\n",
       "      <td>False</td>\n",
       "      <td>False</td>\n",
       "      <td>True</td>\n",
       "    </tr>\n",
       "    <tr>\n",
       "      <th>4</th>\n",
       "      <td>False</td>\n",
       "      <td>False</td>\n",
       "      <td>False</td>\n",
       "      <td>False</td>\n",
       "      <td>False</td>\n",
       "    </tr>\n",
       "    <tr>\n",
       "      <th>5</th>\n",
       "      <td>False</td>\n",
       "      <td>False</td>\n",
       "      <td>False</td>\n",
       "      <td>False</td>\n",
       "      <td>False</td>\n",
       "    </tr>\n",
       "    <tr>\n",
       "      <th>6</th>\n",
       "      <td>False</td>\n",
       "      <td>False</td>\n",
       "      <td>False</td>\n",
       "      <td>False</td>\n",
       "      <td>False</td>\n",
       "    </tr>\n",
       "    <tr>\n",
       "      <th>7</th>\n",
       "      <td>True</td>\n",
       "      <td>True</td>\n",
       "      <td>True</td>\n",
       "      <td>True</td>\n",
       "      <td>True</td>\n",
       "    </tr>\n",
       "    <tr>\n",
       "      <th>8</th>\n",
       "      <td>False</td>\n",
       "      <td>False</td>\n",
       "      <td>False</td>\n",
       "      <td>True</td>\n",
       "      <td>False</td>\n",
       "    </tr>\n",
       "    <tr>\n",
       "      <th>9</th>\n",
       "      <td>False</td>\n",
       "      <td>False</td>\n",
       "      <td>False</td>\n",
       "      <td>False</td>\n",
       "      <td>False</td>\n",
       "    </tr>\n",
       "    <tr>\n",
       "      <th>10</th>\n",
       "      <td>False</td>\n",
       "      <td>False</td>\n",
       "      <td>False</td>\n",
       "      <td>False</td>\n",
       "      <td>False</td>\n",
       "    </tr>\n",
       "  </tbody>\n",
       "</table>\n",
       "</div>"
      ],
      "text/plain": [
       "    Employee name    Age  Salary  Category  Working hours\n",
       "0           False  False   False     False          False\n",
       "1           False  False   False     False          False\n",
       "2           False  False   False     False          False\n",
       "3           False  False   False     False           True\n",
       "4           False  False   False     False          False\n",
       "5           False  False   False     False          False\n",
       "6           False  False   False     False          False\n",
       "7            True   True    True      True           True\n",
       "8           False  False   False      True          False\n",
       "9           False  False   False     False          False\n",
       "10          False  False   False     False          False"
      ]
     },
     "execution_count": 7,
     "metadata": {},
     "output_type": "execute_result"
    }
   ],
   "source": [
    "import pandas as pd\n",
    "df=pd.read_csv(\"Employe.csv\")\n",
    "df.isnull()"
   ]
  },
  {
   "cell_type": "code",
   "execution_count": 63,
   "id": "74bbad0a",
   "metadata": {},
   "outputs": [
    {
     "data": {
      "text/plain": [
       "Employee name    1\n",
       "Age              1\n",
       "Salary           1\n",
       "Category         2\n",
       "Working hours    2\n",
       "dtype: int64"
      ]
     },
     "execution_count": 63,
     "metadata": {},
     "output_type": "execute_result"
    }
   ],
   "source": [
    "df.isnull().sum()"
   ]
  },
  {
   "cell_type": "code",
   "execution_count": 10,
   "id": "ffdbfe39",
   "metadata": {},
   "outputs": [
    {
     "data": {
      "text/plain": [
       "7"
      ]
     },
     "execution_count": 10,
     "metadata": {},
     "output_type": "execute_result"
    }
   ],
   "source": [
    "df.isnull().sum().sum()"
   ]
  },
  {
   "cell_type": "code",
   "execution_count": 14,
   "id": "3ba433b0",
   "metadata": {},
   "outputs": [
    {
     "name": "stdout",
     "output_type": "stream",
     "text": [
      "   Employee name   Age  Salary Category  Working hours\n",
      "0       1.Ammani  25.0  30,000    Vipro            8.0\n",
      "1      2.Sravani  18.0  18,000     Tata            9.0\n",
      "2       3.Bhavya  22.0  22,000      Sve           10.0\n",
      "3       4.Anusha  30.0  33,000    Motor            NaN\n",
      "4       5.Monika  35.0  40,000      Tlc            8.0\n",
      "5       6.Pavani  17.0  20,000      Cse           11.0\n",
      "6      7.Lavanya  24.0  42,000      Amg           13.0\n",
      "7            NaN   NaN     NaN      NaN            NaN\n",
      "8      9.Kavitha  36.0  46,000      NaN            9.0\n",
      "9      10.Nalini  45.0  50,000      Bmw            6.0\n",
      "10      11.Kavya  26.0  24,000      Ded            9.0\n"
     ]
    }
   ],
   "source": [
    "import pandas as pd\n",
    "df=pd.read_csv(\"Employe.csv\")\n",
    "print(df)"
   ]
  },
  {
   "cell_type": "code",
   "execution_count": 8,
   "id": "4df52342",
   "metadata": {},
   "outputs": [
    {
     "name": "stdout",
     "output_type": "stream",
     "text": [
      "   Employee name   Age  Salary Category  Working hours\n",
      "0       1.Ammani  25.0  30,000    Vipro            8.0\n",
      "1      2.Sravani  18.0  18,000     Tata            9.0\n",
      "2       3.Bhavya  22.0  22,000      Sve           10.0\n",
      "3       4.Anusha  30.0  33,000    Motor            3.0\n",
      "4       5.Monika  35.0  40,000      Tlc            8.0\n",
      "5       6.Pavani  17.0  20,000      Cse           11.0\n",
      "6      7.Lavanya  24.0  42,000      Amg           13.0\n",
      "7              3   3.0       3        3            3.0\n",
      "8      9.Kavitha  36.0  46,000        3            9.0\n",
      "9      10.Nalini  45.0  50,000      Bmw            6.0\n",
      "10      11.Kavya  26.0  24,000      Ded            9.0\n"
     ]
    }
   ],
   "source": [
    "df=df.fillna(value=3)\n",
    "print(df)"
   ]
  },
  {
   "cell_type": "code",
   "execution_count": 35,
   "id": "421d0f26",
   "metadata": {},
   "outputs": [
    {
     "name": "stdout",
     "output_type": "stream",
     "text": [
      "   Employee name   Age  Salary Category Working hours\n",
      "0       1.Ammani  25.0  30,000    Vipro           8.0\n",
      "1      2.Sravani  18.0  18,000     Tata           9.0\n",
      "2       3.Bhavya  22.0  22,000      Sve          10.0\n",
      "3       4.Anusha  30.0  33,000    Motor          ammu\n",
      "4       5.Monika  35.0  40,000      Tlc           8.0\n",
      "5       6.Pavani  17.0  20,000      Cse          11.0\n",
      "6      7.Lavanya  24.0  42,000      Amg          13.0\n",
      "7           ammu  ammu    ammu     ammu          ammu\n",
      "8      9.Kavitha  36.0  46,000     ammu           9.0\n",
      "9      10.Nalini  45.0  50,000      Bmw           6.0\n",
      "10      11.Kavya  26.0  24,000      Ded           9.0\n"
     ]
    }
   ],
   "source": [
    "df=pd.read_csv(\"Employe.csv\")\n",
    "df.fillna(\"ammu\",inplace=True)\n",
    "print(df)"
   ]
  },
  {
   "cell_type": "code",
   "execution_count": 64,
   "id": "0c34d0bf",
   "metadata": {},
   "outputs": [
    {
     "name": "stdout",
     "output_type": "stream",
     "text": [
      "   Employee name   Age  Salary Category  Working hours\n",
      "0       1.Ammani  25.0  30,000    Vipro            8.0\n",
      "1      2.Sravani  18.0  18,000     Tata            9.0\n",
      "2       3.Bhavya  22.0  22,000      Sve           10.0\n",
      "4       5.Monika  35.0  40,000      Tlc            8.0\n",
      "5       6.Pavani  17.0  20,000      Cse           11.0\n",
      "6      7.Lavanya  45.0  42,000      Amg           13.0\n",
      "8      9.Kavitha  36.0  46,000      NaN            9.0\n",
      "9      10.Nalini  45.0  50,000      Bmw            6.0\n",
      "10      11.Kavya  26.0  24,000      Ded            9.0\n"
     ]
    }
   ],
   "source": [
    "df.dropna(subset=[\"Working hours\"],inplace=True)\n",
    "print(df)"
   ]
  },
  {
   "cell_type": "code",
   "execution_count": 37,
   "id": "4869675f",
   "metadata": {},
   "outputs": [
    {
     "name": "stdout",
     "output_type": "stream",
     "text": [
      "   Employee name   Age  Salary Category Working hours\n",
      "0       1.Ammani  25.0  30,000    Vipro           8.0\n",
      "1      2.Sravani  18.0  18,000     Tata           9.0\n",
      "2       3.Bhavya  22.0  22,000      Sve          10.0\n",
      "3       4.Anusha  30.0  33,000    Motor          ammu\n",
      "4       5.Monika  35.0  40,000      Tlc           8.0\n",
      "5       6.Pavani  17.0  20,000      Cse          11.0\n",
      "6      7.Lavanya  24.0  42,000      Amg          13.0\n",
      "7           ammu  ammu    ammu     ammu          ammu\n",
      "8      9.Kavitha  36.0  46,000     ammu           9.0\n",
      "9      10.Nalini  45.0  50,000      Bmw           6.0\n",
      "10      11.Kavya  26.0  24,000      Ded           9.0\n"
     ]
    }
   ],
   "source": [
    "df=df.fillna(method='bfill')\n",
    "print(df)"
   ]
  },
  {
   "cell_type": "code",
   "execution_count": 2,
   "id": "b29f52f9",
   "metadata": {},
   "outputs": [
    {
     "ename": "NameError",
     "evalue": "name 'data' is not defined",
     "output_type": "error",
     "traceback": [
      "\u001b[1;31m---------------------------------------------------------------------------\u001b[0m",
      "\u001b[1;31mNameError\u001b[0m                                 Traceback (most recent call last)",
      "\u001b[1;32m~\\AppData\\Local\\Temp/ipykernel_4132/391604064.py\u001b[0m in \u001b[0;36m<module>\u001b[1;34m\u001b[0m\n\u001b[1;32m----> 1\u001b[1;33m \u001b[0mdata\u001b[0m\u001b[1;33m\u001b[0m\u001b[1;33m\u001b[0m\u001b[0m\n\u001b[0m",
      "\u001b[1;31mNameError\u001b[0m: name 'data' is not defined"
     ]
    }
   ],
   "source": []
  },
  {
   "cell_type": "code",
   "execution_count": 7,
   "id": "6396be2f",
   "metadata": {},
   "outputs": [
    {
     "name": "stdout",
     "output_type": "stream",
     "text": [
      "   Employee name   Age  Salary Category Working hours\n",
      "0       1.Ammani  25.0  30,000    Vipro           8.0\n",
      "1      2.Sravani  18.0  18,000     Tata           9.0\n",
      "2       3.Bhavya  22.0  22,000      Sve          10.0\n",
      "3       4.Anusha  30.0  33,000    Motor           NaN\n",
      "4       5.Monika  35.0  40,000      Tlc           8.0\n",
      "5       6.Pavani  17.0  20,000      Cse          11.0\n",
      "6      7.Lavanya  24.0  42,000      Amg          13.0\n",
      "7            NaN   NaN     NaN      NaN           NaN\n",
      "8      9.Kavitha  36.0  46,000      9.0           9.0\n",
      "9      10.Nalini  45.0  50,000      Bmw           6.0\n",
      "10      11.Kavya  26.0  24,000      Ded           9.0\n"
     ]
    }
   ],
   "source": [
    "y=df.fillna(method=\"bfill\",axis=1)\n",
    "print(y)"
   ]
  },
  {
   "cell_type": "code",
   "execution_count": 6,
   "id": "7a609e2b",
   "metadata": {},
   "outputs": [
    {
     "name": "stdout",
     "output_type": "stream",
     "text": [
      "  name  class    age subject  marks\n",
      "0    a    1.0   10.0      cd    3.0\n",
      "2    c    2.0   12.0      cd    4.0\n",
      "3    d    3.0  130.0      wt    2.0\n",
      "4    e    4.0   13.0     coa    7.0\n",
      "7    g    6.0   16.0     ior    9.0\n"
     ]
    }
   ],
   "source": [
    "x=df.dropna(how=\"any\")\n",
    "print(x)"
   ]
  },
  {
   "cell_type": "code",
   "execution_count": 5,
   "id": "6497a424",
   "metadata": {},
   "outputs": [
    {
     "name": "stdout",
     "output_type": "stream",
     "text": [
      "  name  class    age subject  marks\n",
      "0    a    1.0   10.0      cd    3.0\n",
      "1    b    NaN   11.0     dsp    6.0\n",
      "2    c    2.0   12.0      cd    4.0\n",
      "3    d    3.0  130.0      wt    2.0\n",
      "4    e    4.0   13.0     coa    7.0\n",
      "5    f    5.0   14.0      wt    NaN\n",
      "6  NaN    NaN   15.0     NaN    NaN\n",
      "7    g    6.0   16.0     ior    9.0\n",
      "8    h    7.0   17.0     NaN    6.0\n"
     ]
    }
   ],
   "source": [
    "import pandas as pd\n",
    "df=pd.read_csv(\"sample.csv\")\n",
    "df[\"age\"].fillna(130,inplace=True)\n",
    "print(df)"
   ]
  },
  {
   "cell_type": "code",
   "execution_count": 7,
   "id": "b4433dac",
   "metadata": {},
   "outputs": [
    {
     "name": "stdout",
     "output_type": "stream",
     "text": [
      "5.285714285714286\n"
     ]
    }
   ],
   "source": [
    "x=df[\"marks\"].mean()\n",
    "print(x)"
   ]
  },
  {
   "cell_type": "code",
   "execution_count": 8,
   "id": "9f5ee46d",
   "metadata": {},
   "outputs": [
    {
     "name": "stdout",
     "output_type": "stream",
     "text": [
      "9.0\n"
     ]
    }
   ],
   "source": [
    "x=df[\"marks\"].max()\n",
    "print(x)"
   ]
  },
  {
   "cell_type": "code",
   "execution_count": 9,
   "id": "e7e5e900",
   "metadata": {},
   "outputs": [
    {
     "name": "stdout",
     "output_type": "stream",
     "text": [
      "10.0\n"
     ]
    }
   ],
   "source": [
    "x=df[\"age\"].min()\n",
    "print(x)"
   ]
  },
  {
   "cell_type": "code",
   "execution_count": 10,
   "id": "b9d2c2e1",
   "metadata": {},
   "outputs": [
    {
     "name": "stdout",
     "output_type": "stream",
     "text": [
      "14.0\n"
     ]
    }
   ],
   "source": [
    "x=df[\"age\"].median()\n",
    "print(x)"
   ]
  },
  {
   "cell_type": "code",
   "execution_count": 11,
   "id": "aba020e7",
   "metadata": {},
   "outputs": [
    {
     "name": "stdout",
     "output_type": "stream",
     "text": [
      "  name  class    age subject  marks\n",
      "0    a    1.0   10.0      cd    3.0\n",
      "1    b    NaN   11.0     dsp    6.0\n",
      "2    c    2.0   12.0      cd    4.0\n",
      "3    d    3.0  130.0      wt    2.0\n",
      "4    e    4.0   13.0     coa    7.0\n",
      "5    f    5.0   14.0      wt   14.0\n",
      "6  NaN    NaN   15.0     NaN   14.0\n",
      "7    g    6.0   16.0     ior    9.0\n",
      "8    h    7.0   17.0     NaN    6.0\n"
     ]
    }
   ],
   "source": [
    "df[\"marks\"].fillna(x,inplace=True)\n",
    "print(df)"
   ]
  },
  {
   "cell_type": "code",
   "execution_count": 15,
   "id": "48bfa930",
   "metadata": {},
   "outputs": [
    {
     "name": "stdout",
     "output_type": "stream",
     "text": [
      "     name  class    age subject  marks\n",
      "0       a    1.0   10.0      cd    3.0\n",
      "1       b    NaN   11.0     dsp    6.0\n",
      "2       c    2.0   12.0      cd    4.0\n",
      "3       d    3.0  130.0      wt    2.0\n",
      "4       e    4.0   13.0     coa    7.0\n",
      "5       f    5.0   14.0      wt   14.0\n",
      "6  ammani    NaN   15.0     NaN   14.0\n",
      "7       g    6.0   16.0     ior    9.0\n",
      "8       h    7.0   17.0     NaN    6.0\n"
     ]
    }
   ],
   "source": [
    "df.loc[6,'name']=\"ammani\"\n",
    "print(df)"
   ]
  },
  {
   "cell_type": "code",
   "execution_count": 17,
   "id": "c8f53286",
   "metadata": {},
   "outputs": [
    {
     "name": "stdout",
     "output_type": "stream",
     "text": [
      "0    False\n",
      "1    False\n",
      "2    False\n",
      "3    False\n",
      "4    False\n",
      "5    False\n",
      "6    False\n",
      "7    False\n",
      "8    False\n",
      "dtype: bool\n"
     ]
    }
   ],
   "source": [
    "df=df.duplicated()\n",
    "print(df)"
   ]
  },
  {
   "cell_type": "code",
   "execution_count": 35,
   "id": "bb8bdf06",
   "metadata": {},
   "outputs": [
    {
     "name": "stdout",
     "output_type": "stream",
     "text": [
      "   Employee name   Age  Salary Category  Working hours\n",
      "0       1.Ammani  25.0  30,000    Vipro            8.0\n",
      "1      2.Sravani  18.0  18,000     Tata            9.0\n",
      "2       3.Bhavya  22.0  22,000      Sve           10.0\n",
      "3       4.Anusha  30.0  33,000    Motor            NaN\n",
      "4       5.Monika  35.0  40,000      Tlc            8.0\n",
      "5       6.Pavani  17.0  20,000      Cse           11.0\n",
      "6      7.Lavanya  24.0  42,000      Amg           13.0\n",
      "7            NaN   NaN     NaN      NaN            NaN\n",
      "8      9.Kavitha  36.0  46,000      NaN            9.0\n",
      "9      10.Nalini  45.0  50,000      Bmw            6.0\n",
      "10      11.Kavya  26.0  24,000      Ded            9.0\n"
     ]
    }
   ],
   "source": [
    "import pandas as pd\n",
    "df=pd.read_csv(\"Employe.csv\")\n",
    "df.drop_duplicates(inplace=True)\n",
    "print(df)"
   ]
  },
  {
   "cell_type": "code",
   "execution_count": 33,
   "id": "e66971c9",
   "metadata": {},
   "outputs": [
    {
     "name": "stdout",
     "output_type": "stream",
     "text": [
      "  name  class   age subject  marks\n",
      "0    a    1.0  10.0      cd    3.0\n",
      "1    b    NaN  11.0     dsp    6.0\n",
      "2    c    2.0  12.0      cd    4.0\n",
      "3    d    3.0   NaN      wt    2.0\n",
      "4    e    4.0  13.0     coa    7.0\n",
      "5    f    5.0  14.0      wt    NaN\n",
      "6  NaN    NaN  15.0     NaN    NaN\n",
      "7    g    6.0  16.0     ior    9.0\n",
      "8    h    7.0  17.0     NaN    6.0\n"
     ]
    }
   ],
   "source": [
    "import pandas as pd\n",
    "\n",
    "df = pd.read_csv('sample.csv')\n",
    "\n",
    "df.drop_duplicates(inplace = True)\n",
    "\n",
    "print(df.to_string())"
   ]
  },
  {
   "cell_type": "code",
   "execution_count": 58,
   "id": "0f9f5453",
   "metadata": {},
   "outputs": [
    {
     "data": {
      "text/html": [
       "<div>\n",
       "<style scoped>\n",
       "    .dataframe tbody tr th:only-of-type {\n",
       "        vertical-align: middle;\n",
       "    }\n",
       "\n",
       "    .dataframe tbody tr th {\n",
       "        vertical-align: top;\n",
       "    }\n",
       "\n",
       "    .dataframe thead th {\n",
       "        text-align: right;\n",
       "    }\n",
       "</style>\n",
       "<table border=\"1\" class=\"dataframe\">\n",
       "  <thead>\n",
       "    <tr style=\"text-align: right;\">\n",
       "      <th></th>\n",
       "      <th>Employee name</th>\n",
       "      <th>Age</th>\n",
       "      <th>Salary</th>\n",
       "      <th>Category</th>\n",
       "      <th>Working hours</th>\n",
       "    </tr>\n",
       "  </thead>\n",
       "  <tbody>\n",
       "    <tr>\n",
       "      <th>0</th>\n",
       "      <td>1.Ammani</td>\n",
       "      <td>25.0</td>\n",
       "      <td>30,000</td>\n",
       "      <td>Vipro</td>\n",
       "      <td>8.0</td>\n",
       "    </tr>\n",
       "    <tr>\n",
       "      <th>1</th>\n",
       "      <td>2.Sravani</td>\n",
       "      <td>18.0</td>\n",
       "      <td>18,000</td>\n",
       "      <td>Tata</td>\n",
       "      <td>9.0</td>\n",
       "    </tr>\n",
       "    <tr>\n",
       "      <th>2</th>\n",
       "      <td>3.Bhavya</td>\n",
       "      <td>22.0</td>\n",
       "      <td>22,000</td>\n",
       "      <td>Sve</td>\n",
       "      <td>10.0</td>\n",
       "    </tr>\n",
       "    <tr>\n",
       "      <th>3</th>\n",
       "      <td>4.Anusha</td>\n",
       "      <td>30.0</td>\n",
       "      <td>33,000</td>\n",
       "      <td>Motor</td>\n",
       "      <td>NaN</td>\n",
       "    </tr>\n",
       "    <tr>\n",
       "      <th>4</th>\n",
       "      <td>5.Monika</td>\n",
       "      <td>35.0</td>\n",
       "      <td>40,000</td>\n",
       "      <td>Tlc</td>\n",
       "      <td>8.0</td>\n",
       "    </tr>\n",
       "    <tr>\n",
       "      <th>5</th>\n",
       "      <td>6.Pavani</td>\n",
       "      <td>17.0</td>\n",
       "      <td>20,000</td>\n",
       "      <td>Cse</td>\n",
       "      <td>11.0</td>\n",
       "    </tr>\n",
       "    <tr>\n",
       "      <th>6</th>\n",
       "      <td>7.Lavanya</td>\n",
       "      <td>24.0</td>\n",
       "      <td>42,000</td>\n",
       "      <td>Amg</td>\n",
       "      <td>13.0</td>\n",
       "    </tr>\n",
       "    <tr>\n",
       "      <th>8</th>\n",
       "      <td>9.Kavitha</td>\n",
       "      <td>36.0</td>\n",
       "      <td>46,000</td>\n",
       "      <td>NaN</td>\n",
       "      <td>9.0</td>\n",
       "    </tr>\n",
       "    <tr>\n",
       "      <th>9</th>\n",
       "      <td>10.Nalini</td>\n",
       "      <td>45.0</td>\n",
       "      <td>50,000</td>\n",
       "      <td>Bmw</td>\n",
       "      <td>6.0</td>\n",
       "    </tr>\n",
       "    <tr>\n",
       "      <th>10</th>\n",
       "      <td>11.Kavya</td>\n",
       "      <td>26.0</td>\n",
       "      <td>24,000</td>\n",
       "      <td>Ded</td>\n",
       "      <td>9.0</td>\n",
       "    </tr>\n",
       "  </tbody>\n",
       "</table>\n",
       "</div>"
      ],
      "text/plain": [
       "   Employee name   Age  Salary Category  Working hours\n",
       "0       1.Ammani  25.0  30,000    Vipro            8.0\n",
       "1      2.Sravani  18.0  18,000     Tata            9.0\n",
       "2       3.Bhavya  22.0  22,000      Sve           10.0\n",
       "3       4.Anusha  30.0  33,000    Motor            NaN\n",
       "4       5.Monika  35.0  40,000      Tlc            8.0\n",
       "5       6.Pavani  17.0  20,000      Cse           11.0\n",
       "6      7.Lavanya  24.0  42,000      Amg           13.0\n",
       "8      9.Kavitha  36.0  46,000      NaN            9.0\n",
       "9      10.Nalini  45.0  50,000      Bmw            6.0\n",
       "10      11.Kavya  26.0  24,000      Ded            9.0"
      ]
     },
     "execution_count": 58,
     "metadata": {},
     "output_type": "execute_result"
    }
   ],
   "source": [
    "import pandas as pd\n",
    "df=pd.read_csv(\"Employe.csv\")\n",
    "df.dropna(subset=[\"Age\"],inplace=True)\n",
    "df"
   ]
  },
  {
   "cell_type": "code",
   "execution_count": 36,
   "id": "370bdc24",
   "metadata": {},
   "outputs": [
    {
     "ename": "AttributeError",
     "evalue": "'NoneType' object has no attribute 'mean'",
     "output_type": "error",
     "traceback": [
      "\u001b[1;31m---------------------------------------------------------------------------\u001b[0m",
      "\u001b[1;31mAttributeError\u001b[0m                            Traceback (most recent call last)",
      "\u001b[1;32m~\\AppData\\Local\\Temp/ipykernel_9204/3737856569.py\u001b[0m in \u001b[0;36m<module>\u001b[1;34m\u001b[0m\n\u001b[0;32m      1\u001b[0m \u001b[1;32mimport\u001b[0m \u001b[0mpandas\u001b[0m \u001b[1;32mas\u001b[0m \u001b[0mpd\u001b[0m\u001b[1;33m\u001b[0m\u001b[1;33m\u001b[0m\u001b[0m\n\u001b[0;32m      2\u001b[0m \u001b[0mdf\u001b[0m \u001b[1;33m=\u001b[0m \u001b[0mpd\u001b[0m\u001b[1;33m.\u001b[0m\u001b[0mread_csv\u001b[0m\u001b[1;33m(\u001b[0m\u001b[1;34m'Employe.csv'\u001b[0m\u001b[1;33m)\u001b[0m\u001b[1;33m\u001b[0m\u001b[1;33m\u001b[0m\u001b[0m\n\u001b[1;32m----> 3\u001b[1;33m \u001b[0mdf\u001b[0m\u001b[1;33m[\u001b[0m\u001b[1;34m\"Age\"\u001b[0m\u001b[1;33m]\u001b[0m\u001b[1;33m.\u001b[0m\u001b[0mfillna\u001b[0m\u001b[1;33m(\u001b[0m\u001b[1;36m100\u001b[0m\u001b[1;33m,\u001b[0m\u001b[0minplace\u001b[0m \u001b[1;33m=\u001b[0m \u001b[1;32mTrue\u001b[0m\u001b[1;33m)\u001b[0m\u001b[1;33m.\u001b[0m\u001b[0mmean\u001b[0m\u001b[1;33m\u001b[0m\u001b[1;33m\u001b[0m\u001b[0m\n\u001b[0m\u001b[0;32m      4\u001b[0m \u001b[0mprint\u001b[0m\u001b[1;33m(\u001b[0m\u001b[0mdf\u001b[0m\u001b[1;33m)\u001b[0m\u001b[1;33m\u001b[0m\u001b[1;33m\u001b[0m\u001b[0m\n",
      "\u001b[1;31mAttributeError\u001b[0m: 'NoneType' object has no attribute 'mean'"
     ]
    }
   ],
   "source": [
    "import pandas as pd\n",
    "df = pd.read_csv('Employe.csv')\n",
    "df[\"Age\"].fillna(100,inplace = True)\n",
    "print(df)"
   ]
  },
  {
   "cell_type": "code",
   "execution_count": 50,
   "id": "0423d0b3",
   "metadata": {},
   "outputs": [
    {
     "name": "stdout",
     "output_type": "stream",
     "text": [
      "   Employee name    Age  Salary Category  Working hours\n",
      "0       1.Ammani   25.0  30,000    Vipro            8.0\n",
      "1      2.Sravani   18.0  18,000     Tata            9.0\n",
      "2       3.Bhavya   22.0  22,000      Sve           10.0\n",
      "3       4.Anusha   30.0  33,000    Motor            NaN\n",
      "4       5.Monika   35.0  40,000      Tlc            8.0\n",
      "5       6.Pavani   17.0  20,000      Cse           11.0\n",
      "6      7.Lavanya   24.0  42,000      Amg           13.0\n",
      "7            NaN  100.0     NaN      NaN            NaN\n",
      "8      9.Kavitha   36.0  46,000      NaN            9.0\n",
      "9      10.Nalini   45.0  50,000      Bmw            6.0\n",
      "10      11.Kavya   26.0  24,000      Ded            9.0\n"
     ]
    }
   ],
   "source": [
    "x=df[\"Age\"].mean()\n",
    "df[\"Age\"].fillna(x,inplace=True)\n",
    "print(df)"
   ]
  },
  {
   "cell_type": "code",
   "execution_count": 55,
   "id": "8b18580e",
   "metadata": {},
   "outputs": [
    {
     "data": {
      "text/html": [
       "<div>\n",
       "<style scoped>\n",
       "    .dataframe tbody tr th:only-of-type {\n",
       "        vertical-align: middle;\n",
       "    }\n",
       "\n",
       "    .dataframe tbody tr th {\n",
       "        vertical-align: top;\n",
       "    }\n",
       "\n",
       "    .dataframe thead th {\n",
       "        text-align: right;\n",
       "    }\n",
       "</style>\n",
       "<table border=\"1\" class=\"dataframe\">\n",
       "  <thead>\n",
       "    <tr style=\"text-align: right;\">\n",
       "      <th></th>\n",
       "      <th>Employee name</th>\n",
       "      <th>Age</th>\n",
       "      <th>Salary</th>\n",
       "      <th>Category</th>\n",
       "      <th>Working hours</th>\n",
       "    </tr>\n",
       "  </thead>\n",
       "  <tbody>\n",
       "    <tr>\n",
       "      <th>0</th>\n",
       "      <td>1.Ammani</td>\n",
       "      <td>25.0</td>\n",
       "      <td>30,000</td>\n",
       "      <td>Vipro</td>\n",
       "      <td>8.0</td>\n",
       "    </tr>\n",
       "    <tr>\n",
       "      <th>1</th>\n",
       "      <td>2.Sravani</td>\n",
       "      <td>18.0</td>\n",
       "      <td>18,000</td>\n",
       "      <td>Tata</td>\n",
       "      <td>9.0</td>\n",
       "    </tr>\n",
       "    <tr>\n",
       "      <th>2</th>\n",
       "      <td>3.Bhavya</td>\n",
       "      <td>22.0</td>\n",
       "      <td>22,000</td>\n",
       "      <td>Sve</td>\n",
       "      <td>10.0</td>\n",
       "    </tr>\n",
       "    <tr>\n",
       "      <th>3</th>\n",
       "      <td>4.Anusha</td>\n",
       "      <td>30.0</td>\n",
       "      <td>33,000</td>\n",
       "      <td>Motor</td>\n",
       "      <td>NaN</td>\n",
       "    </tr>\n",
       "    <tr>\n",
       "      <th>4</th>\n",
       "      <td>5.Monika</td>\n",
       "      <td>35.0</td>\n",
       "      <td>40,000</td>\n",
       "      <td>Tlc</td>\n",
       "      <td>8.0</td>\n",
       "    </tr>\n",
       "    <tr>\n",
       "      <th>5</th>\n",
       "      <td>6.Pavani</td>\n",
       "      <td>17.0</td>\n",
       "      <td>20,000</td>\n",
       "      <td>Cse</td>\n",
       "      <td>11.0</td>\n",
       "    </tr>\n",
       "    <tr>\n",
       "      <th>6</th>\n",
       "      <td>7.Lavanya</td>\n",
       "      <td>24.0</td>\n",
       "      <td>42,000</td>\n",
       "      <td>Amg</td>\n",
       "      <td>13.0</td>\n",
       "    </tr>\n",
       "    <tr>\n",
       "      <th>7</th>\n",
       "      <td>NaN</td>\n",
       "      <td>27.8</td>\n",
       "      <td>NaN</td>\n",
       "      <td>NaN</td>\n",
       "      <td>NaN</td>\n",
       "    </tr>\n",
       "    <tr>\n",
       "      <th>8</th>\n",
       "      <td>9.Kavitha</td>\n",
       "      <td>36.0</td>\n",
       "      <td>46,000</td>\n",
       "      <td>NaN</td>\n",
       "      <td>9.0</td>\n",
       "    </tr>\n",
       "    <tr>\n",
       "      <th>9</th>\n",
       "      <td>10.Nalini</td>\n",
       "      <td>45.0</td>\n",
       "      <td>50,000</td>\n",
       "      <td>Bmw</td>\n",
       "      <td>6.0</td>\n",
       "    </tr>\n",
       "    <tr>\n",
       "      <th>10</th>\n",
       "      <td>11.Kavya</td>\n",
       "      <td>26.0</td>\n",
       "      <td>24,000</td>\n",
       "      <td>Ded</td>\n",
       "      <td>9.0</td>\n",
       "    </tr>\n",
       "  </tbody>\n",
       "</table>\n",
       "</div>"
      ],
      "text/plain": [
       "   Employee name   Age  Salary Category  Working hours\n",
       "0       1.Ammani  25.0  30,000    Vipro            8.0\n",
       "1      2.Sravani  18.0  18,000     Tata            9.0\n",
       "2       3.Bhavya  22.0  22,000      Sve           10.0\n",
       "3       4.Anusha  30.0  33,000    Motor            NaN\n",
       "4       5.Monika  35.0  40,000      Tlc            8.0\n",
       "5       6.Pavani  17.0  20,000      Cse           11.0\n",
       "6      7.Lavanya  24.0  42,000      Amg           13.0\n",
       "7            NaN  27.8     NaN      NaN            NaN\n",
       "8      9.Kavitha  36.0  46,000      NaN            9.0\n",
       "9      10.Nalini  45.0  50,000      Bmw            6.0\n",
       "10      11.Kavya  26.0  24,000      Ded            9.0"
      ]
     },
     "execution_count": 55,
     "metadata": {},
     "output_type": "execute_result"
    }
   ],
   "source": [
    "df.dropna(subset=[\"Age\"],inplace=True)\n",
    "df"
   ]
  },
  {
   "cell_type": "code",
   "execution_count": null,
   "id": "57f69754",
   "metadata": {},
   "outputs": [],
   "source": []
  }
 ],
 "metadata": {
  "kernelspec": {
   "display_name": "Python 3 (ipykernel)",
   "language": "python",
   "name": "python3"
  },
  "language_info": {
   "codemirror_mode": {
    "name": "ipython",
    "version": 3
   },
   "file_extension": ".py",
   "mimetype": "text/x-python",
   "name": "python",
   "nbconvert_exporter": "python",
   "pygments_lexer": "ipython3",
   "version": "3.9.7"
  }
 },
 "nbformat": 4,
 "nbformat_minor": 5
}
