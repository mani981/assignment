{
 "cells": [
  {
   "cell_type": "code",
   "execution_count": null,
   "id": "2a23b131",
   "metadata": {},
   "outputs": [],
   "source": [
    "str=\"Heloo Python\"\n",
    "print(str)"
   ]
  },
  {
   "cell_type": "code",
   "execution_count": null,
   "id": "3bd919e9",
   "metadata": {},
   "outputs": [],
   "source": [
    "num1=int(input(\"Enter first number\"))\n",
    "num2=int(input(\"Enter secound number\"))\n",
    "sum=num1+num2\n",
    "print(sum)"
   ]
  },
  {
   "cell_type": "code",
   "execution_count": null,
   "id": "000bc7a4",
   "metadata": {},
   "outputs": [],
   "source": [
    "# arthemetic operations\n",
    "num1=int(input(\"Enter first number\"))\n",
    "num2=int(input(\"Enter secound number\"))\n",
    "sum=num1+num2\n",
    "print(sum)\n",
    "mult=num1*num2\n",
    "print(mult)\n",
    "sub=num1-num2\n",
    "print(sub)\n",
    "div=num1/num2\n",
    "print(div)\n"
   ]
  },
  {
   "cell_type": "code",
   "execution_count": null,
   "id": "8231eb8e",
   "metadata": {},
   "outputs": [],
   "source": [
    "#squre root of a number\n",
    "num=int(input(\"Enter a number\"))\n",
    "num_sqrt=num**0.5\n",
    "print(\"the sqrt of num is\",(num,num_sqrt))\n"
   ]
  },
  {
   "cell_type": "code",
   "execution_count": null,
   "id": "5a4475ae",
   "metadata": {},
   "outputs": [],
   "source": [
    "# The area of triangle\n",
    "a=int(input(\"Enter first number\"))\n",
    "b=int(input(\"Enter secound number\"))\n",
    "c=int(input(\"Enter third number\"))\n",
    "s=(a+b+c)/2\n",
    "area=(s*(s-a)*(s-b)*(s-c))**0.5\n",
    "print(\"the area of the triangle is\" ,area)"
   ]
  },
  {
   "cell_type": "code",
   "execution_count": null,
   "id": "b8df09ea",
   "metadata": {},
   "outputs": [],
   "source": [
    "# swap two variables\n",
    "a=int(input(\"enter a value\"))\n",
    "b=int(input(\"enter b value\"))\n",
    "temp=a\n",
    "a=b\n",
    "b=temp\n",
    "print(\"the a value of after swapping\",a)\n",
    "print(\"the a value of after swapping\",b)"
   ]
  },
  {
   "cell_type": "code",
   "execution_count": null,
   "id": "d09fd0f1",
   "metadata": {},
   "outputs": [],
   "source": [
    "for i in range(5):\n",
    "    print(\"hello\")\n"
   ]
  },
  {
   "cell_type": "code",
   "execution_count": null,
   "id": "53ea8a71",
   "metadata": {},
   "outputs": [],
   "source": [
    "# print 5 times in name\n",
    "x=\"ammani\"\n",
    "for i in x:\n",
    "    print(x)"
   ]
  },
  {
   "cell_type": "code",
   "execution_count": null,
   "id": "f937cdb1",
   "metadata": {},
   "outputs": [],
   "source": [
    "import random \n",
    "print(random.randint(0,100))      "
   ]
  },
  {
   "cell_type": "code",
   "execution_count": null,
   "id": "33c1264c",
   "metadata": {},
   "outputs": [],
   "source": [
    "# print even or odd\n",
    "num=int(input(\"Enter the number\"))\n",
    "if(num%2)==0:\n",
    "    print(\"the number is even\")\n",
    "else:\n",
    "    print(\"the num is odd\")"
   ]
  },
  {
   "cell_type": "code",
   "execution_count": null,
   "id": "19d6179d",
   "metadata": {},
   "outputs": [],
   "source": [
    "# print positive or negative or zero\n",
    "num=int(input(\"Enter the number\"))\n",
    "if num>0:\n",
    "    print(\"the number is positive\")\n",
    "elif num<0:\n",
    "    print(\"the number is negative\")\n",
    "else:\n",
    "    print(\"the number is zero\")"
   ]
  },
  {
   "cell_type": "code",
   "execution_count": null,
   "id": "386f9568",
   "metadata": {},
   "outputs": [],
   "source": [
    "list=[10,50,20,30,40]\n",
    "list.sort()\n",
    "print(\"largest number is:\",list[-1])"
   ]
  },
  {
   "cell_type": "code",
   "execution_count": null,
   "id": "e6c79232",
   "metadata": {},
   "outputs": [],
   "source": [
    "# prime number or not\n",
    "num=int(input(\"Enter a number\"))\n",
    "flag=False\n",
    "if num>1:\n",
    "    for i in range(2,num):\n",
    "        if(num%i)==0:\n",
    "            flag=True\n",
    "            break\n",
    "if flag:\n",
    "    print(num,\"is not a prime number\")\n",
    "else:\n",
    "    print(num,\"is a prime number\")\n",
    "                "
   ]
  },
  {
   "cell_type": "markdown",
   "id": "c55e50d6",
   "metadata": {},
   "source": [
    "factprial of a number"
   ]
  },
  {
   "cell_type": "code",
   "execution_count": null,
   "id": "7d1bfaec",
   "metadata": {},
   "outputs": [],
   "source": [
    "# to print factorial of a number\n",
    "num=int(input(\"Enter a number\"))\n",
    "factorial=1\n",
    "if num<0:\n",
    "    print(\"factorial number is does not exist for the negative number\")\n",
    "elif num==0:\n",
    "    print(\"the factorial of 0 is 1\")\n",
    "else:\n",
    "    for i in range(1,num+1):\n",
    "        factorial=factorial*i\n",
    "    print(\"the factorial of\", num, \"is\",factorial)"
   ]
  },
  {
   "cell_type": "code",
   "execution_count": null,
   "id": "a1d43a2e",
   "metadata": {},
   "outputs": [],
   "source": [
    "c='A'\n",
    "print(\"the ascii value of '\"+c+\"'is\",ord(c))"
   ]
  },
  {
   "cell_type": "code",
   "execution_count": null,
   "id": "af67c1b2",
   "metadata": {},
   "outputs": [],
   "source": [
    "from datetime import date\n",
    "today=date.today()\n",
    "print(\"Today is date:\",today)"
   ]
  },
  {
   "cell_type": "code",
   "execution_count": null,
   "id": "17bb50ae",
   "metadata": {},
   "outputs": [],
   "source": [
    "from datetime import datetime\n",
    "now=datetime.now()\n",
    "current_time=now.strftime(\"%H:%M:%S\")\n",
    "print(\"Current Time=\",current_time)\n"
   ]
  },
  {
   "cell_type": "code",
   "execution_count": null,
   "id": "75f91915",
   "metadata": {},
   "outputs": [],
   "source": [
    "print(\"hello world\")"
   ]
  },
  {
   "cell_type": "markdown",
   "id": "03f27775",
   "metadata": {},
   "source": [
    "# p "
   ]
  },
  {
   "cell_type": "code",
   "execution_count": null,
   "id": "ef8042bb",
   "metadata": {},
   "outputs": [],
   "source": [
    "print(\"Hello world\")"
   ]
  },
  {
   "cell_type": "code",
   "execution_count": null,
   "id": "a8d5c6ac",
   "metadata": {},
   "outputs": [],
   "source": [
    "# sum of n natural numbers\n",
    "num=int(input(\"Enter the number\"))\n",
    "if num<0:\n",
    "    print(\"Enter the positive numbers\")\n",
    "else:\n",
    "    sum=0\n",
    "    while(num>0):\n",
    "        sum+=num\n",
    "        num-=1\n",
    "        print(\"The sum is\",sum)\n",
    "        "
   ]
  },
  {
   "cell_type": "code",
   "execution_count": null,
   "id": "11bd38ec",
   "metadata": {},
   "outputs": [],
   "source": [
    "#fibonacci sequence\n",
    "def recur_fibo(n):\n",
    "    if n <= 1:\n",
    "        return n\n",
    "    else:\n",
    "        return(recur_fibo(n-1)+recur_fibo(n-2))\n",
    "nterms=int(input(\"Enter the number\"))\n",
    "if nterms<=0:\n",
    "    print(\"Please enter the positive numbers\")\n",
    "else:\n",
    "    print(\"Fibonacci sequence:\")\n",
    "     for i in range(nterms):\n",
    "    print(recur_fibo(i))"
   ]
  },
  {
   "cell_type": "code",
   "execution_count": null,
   "id": "0d380749",
   "metadata": {},
   "outputs": [],
   "source": [
    "# add two maricess\n",
    "x=[[1,2,3,4],\n",
    "   [5,6,7,8],\n",
    "   [8,4,6,7]]\n",
    "y=[[4,3,2,3],\n",
    "  [5,6,7,2],\n",
    "  [8,5,1,3]]\n",
    "result=[[0,0,0,0],\n",
    "       [0,0,0,0],\n",
    "       [0,0,0,0]]\n",
    "for i in range(len(x)):\n",
    "    for j in range(len(x[0])):\n",
    "        result[i][j]=x[i][j]+y[i][j]\n",
    "for r in result:\n",
    "    print(r)"
   ]
  },
  {
   "cell_type": "code",
   "execution_count": null,
   "id": "92cfc4f0",
   "metadata": {},
   "outputs": [],
   "source": [
    "# string is palindrome or not\n",
    "my_str=\"akka\"\n",
    "rev_str=reversed(my_str)\n",
    "if list(my_str)==list(rev_str):\n",
    "    print(\"the string is palindrom.\")\n",
    "else:\n",
    "    print(\"the given string is not palindrom\")"
   ]
  },
  {
   "cell_type": "code",
   "execution_count": null,
   "id": "50e41f52",
   "metadata": {},
   "outputs": [],
   "source": [
    "#print lcm of two numbers\n",
    "def compute_lcm(x,y):\n",
    "    if x>y:\n",
    "        greater=x\n",
    "    else:\n",
    "        greater=y\n",
    "    while(True):\n",
    "        if((greater%x==0)and(greater%y==0)):\n",
    "            lcm=greater\n",
    "            break\n",
    "            greater+=1\n",
    "            return lcm\n",
    "num1=int(input(\"Enter the first number\"))\n",
    "num2=int(input(\"Enter the secound number\"))\n",
    "print(\"The L.C.M is\",compute_lcm(num1,num2))\n",
    "        "
   ]
  },
  {
   "cell_type": "code",
   "execution_count": null,
   "id": "bdcac783",
   "metadata": {},
   "outputs": [],
   "source": [
    "a=\"hello i am python coder\"\n",
    "words=a.split()\n",
    "words.sort()\n",
    "for word in words:\n",
    "    print(word)"
   ]
  },
  {
   "cell_type": "code",
   "execution_count": null,
   "id": "6ce3a966",
   "metadata": {},
   "outputs": [],
   "source": [
    "list=[4,9,3,5]\n",
    "list.sort()\n",
    "print(list)\n"
   ]
  },
  {
   "cell_type": "code",
   "execution_count": null,
   "id": "958cbed2",
   "metadata": {},
   "outputs": [],
   "source": [
    "for i in range(lower,upper+1):\n",
    "    print(i)"
   ]
  },
  {
   "cell_type": "code",
   "execution_count": null,
   "id": "b18e0bc5",
   "metadata": {},
   "outputs": [],
   "source": [
    "for i in range(1,10,2):\n",
    "    print(i)"
   ]
  },
  {
   "cell_type": "code",
   "execution_count": null,
   "id": "bc11e0be",
   "metadata": {},
   "outputs": [],
   "source": [
    "num1=int(input(\"enter the start value:\"))\n",
    "num2=int(input(\"enter the secound value:\"))\n",
    "print(\"the prime numbers in the range:\")\n",
    "for number in range(num1,num2+1):\n",
    "    if number>1:\n",
    "        for i in range(2,number):\n",
    "            if(number%i)==0:\n",
    "                break\n",
    "            else:\n",
    "                print(number)"
   ]
  },
  {
   "cell_type": "code",
   "execution_count": null,
   "id": "6905e82d",
   "metadata": {},
   "outputs": [],
   "source": [
    "#print n number of prime numbers\n",
    "num1 = int(input (\"Please, Enter the Lowest Range Value: \"))  \n",
    "num2 = int(input (\"Please, Enter the Upper Range Value: \"))  \n",
    "  \n",
    "print (\"The Prime Numbers in the range are: \")  \n",
    "for number in range (num1, num2):  \n",
    "    if number > 1:  \n",
    "        for i in range (2, number):  \n",
    "            if (number % i) == 0:  \n",
    "                break  \n",
    "        else:  \n",
    "            print (number) "
   ]
  },
  {
   "cell_type": "code",
   "execution_count": null,
   "id": "2b903fa4",
   "metadata": {},
   "outputs": [],
   "source": [
    "i=1\n",
    "while i<10:\n",
    "    print(i)\n",
    "    i+=1"
   ]
  },
  {
   "cell_type": "code",
   "execution_count": null,
   "id": "3f323bf9",
   "metadata": {},
   "outputs": [],
   "source": [
    "str='ammani'\n",
    "print(str)"
   ]
  },
  {
   "cell_type": "code",
   "execution_count": null,
   "id": "bd0d3691",
   "metadata": {},
   "outputs": [],
   "source": [
    "print(str.swapcase())"
   ]
  },
  {
   "cell_type": "code",
   "execution_count": null,
   "id": "020beb02",
   "metadata": {},
   "outputs": [],
   "source": [
    "name='python'\n",
    "print(dir(name))"
   ]
  },
  {
   "cell_type": "code",
   "execution_count": null,
   "id": "de6a9ffa",
   "metadata": {},
   "outputs": [],
   "source": [
    "str='python'\n",
    "print(help(str))"
   ]
  },
  {
   "cell_type": "code",
   "execution_count": null,
   "id": "92ccc64e",
   "metadata": {},
   "outputs": [],
   "source": [
    "dict={'ammani':2,'sravani':3}\n",
    "print(dict)"
   ]
  },
  {
   "cell_type": "code",
   "execution_count": null,
   "id": "98e68fdb",
   "metadata": {},
   "outputs": [],
   "source": [
    "dict[\"ramana\"]=5\n",
    "print(dict)"
   ]
  },
  {
   "cell_type": "code",
   "execution_count": null,
   "id": "7a4595e0",
   "metadata": {},
   "outputs": [],
   "source": [
    "dict.keys()"
   ]
  },
  {
   "cell_type": "code",
   "execution_count": null,
   "id": "007919f4",
   "metadata": {},
   "outputs": [],
   "source": [
    "dict.values()"
   ]
  },
  {
   "cell_type": "code",
   "execution_count": null,
   "id": "1943ee2e",
   "metadata": {},
   "outputs": [],
   "source": [
    "n=5\n",
    "for i in range(n):\n",
    "    for j in range(i,n):\n",
    "        print(' ',end='')\n",
    "    for j in range(i+1):\n",
    "        print('*',end='')\n",
    "    print()\n",
    "    "
   ]
  },
  {
   "cell_type": "code",
   "execution_count": null,
   "id": "ad3596c5",
   "metadata": {},
   "outputs": [],
   "source": [
    "n=5\n",
    "for i in range(n):\n",
    "    for j in range(i+1):\n",
    "        print(' ',end='')\n",
    "    for j in range(i,n):\n",
    "        print('*',end='')\n",
    "    print()"
   ]
  },
  {
   "cell_type": "code",
   "execution_count": null,
   "id": "ee9cf2ed",
   "metadata": {},
   "outputs": [],
   "source": [
    "n=5\n",
    "for i in range(n):\n",
    "    for j in range(i,n):\n",
    "        print(' ',end='')\n",
    "    for j in range(i+1):\n",
    "        print('*',end='')\n",
    "    for j in range(i+1):\n",
    "        print('*',end='')\n",
    "    print()\n",
    "    "
   ]
  },
  {
   "cell_type": "code",
   "execution_count": null,
   "id": "be3a4777",
   "metadata": {},
   "outputs": [],
   "source": [
    "n=5\n",
    "for i in range(n):\n",
    "    for j in range(i+1):\n",
    "        print(i+1,end='')\n",
    "    print()"
   ]
  },
  {
   "cell_type": "code",
   "execution_count": null,
   "id": "bc374012",
   "metadata": {},
   "outputs": [],
   "source": [
    "n=5\n",
    "for i in range(n):\n",
    "    for j in range(i+1):\n",
    "        print(n,end='')\n",
    "    n-=1\n",
    "    print()"
   ]
  },
  {
   "cell_type": "code",
   "execution_count": null,
   "id": "d9b02753",
   "metadata": {},
   "outputs": [],
   "source": [
    "n=5\n",
    "p=0\n",
    "for i in range(n):\n",
    "    for j in range(i+1):\n",
    "        print(p,end='')\n",
    "    p+=2\n",
    "    print()"
   ]
  },
  {
   "cell_type": "code",
   "execution_count": null,
   "id": "88357fd0",
   "metadata": {},
   "outputs": [],
   "source": [
    "n=5\n",
    "for i in range(n):\n",
    "    for j in range(i+1):\n",
    "        if(i%2==0):\n",
    "            print('$',end='')\n",
    "        else:\n",
    "            print('*',end='')\n",
    "    print()"
   ]
  },
  {
   "cell_type": "code",
   "execution_count": null,
   "id": "b0aadbb9",
   "metadata": {},
   "outputs": [],
   "source": [
    "n=5\n",
    "for i in range(n):\n",
    "    p=1\n",
    "    for j in range(i+1):\n",
    "        print(p,end='')\n",
    "        p+=1\n",
    "    print()"
   ]
  },
  {
   "cell_type": "code",
   "execution_count": null,
   "id": "971c0496",
   "metadata": {},
   "outputs": [],
   "source": [
    "#factorial number\n",
    "num=int(input(\"Enter the number\"))\n",
    "factorial=1\n",
    "if num<0:\n",
    "    print(\"factorial does not exist the negative numbers\")\n",
    "if num==0:\n",
    "    print(\"the factorial of 0 is 1\")\n",
    "else:\n",
    "    for i in range(1,num+1):\n",
    "        factorial=factorial*i\n",
    "    print(\"the factorial of num is\",factorial)"
   ]
  },
  {
   "cell_type": "code",
   "execution_count": null,
   "id": "4ffc96f4",
   "metadata": {},
   "outputs": [],
   "source": [
    "#perfect number\n",
    "num=int(input(\"enter the number:\"))\n",
    "result=0\n",
    "for i in range(1,num):\n",
    "    if(num%i==0):\n",
    "        result=result+i\n",
    "if(result==num):\n",
    "    print(\"the number is a perfect number\")\n",
    "else:\n",
    "    print(\"the number is not a perfect number\")"
   ]
  },
  {
   "cell_type": "code",
   "execution_count": null,
   "id": "6d0e8110",
   "metadata": {},
   "outputs": [],
   "source": [
    "import random\n",
    "print(random.randint(1,60))"
   ]
  },
  {
   "cell_type": "code",
   "execution_count": null,
   "id": "11906260",
   "metadata": {},
   "outputs": [],
   "source": [
    "#fibonacii series\n",
    "n=int(input(\"enter the how many numbers you want in series:\"))\n",
    "num1=0\n",
    "num2=1\n",
    "for i in range(n):\n",
    "    print(num1)\n",
    "    temp=num1\n",
    "    num1=num2\n",
    "    num2=temp+num2"
   ]
  },
  {
   "cell_type": "code",
   "execution_count": null,
   "id": "da7d81b9",
   "metadata": {},
   "outputs": [],
   "source": [
    "#anagram or not\n",
    "str1='silent'\n",
    "str2='listen'\n",
    "if(len(str1)==len(str2)):\n",
    "    sorted_str1=sorted(str1)\n",
    "    sorted_str2=sorted(str2)\n",
    "    if(sorted_str1==sorted_str2):\n",
    "        print(\"the given string is anagram\",str1,str2)\n",
    "else:\n",
    "    print(\"the given both strings is not anagram\",str1,str2)"
   ]
  },
  {
   "cell_type": "code",
   "execution_count": null,
   "id": "ca879e84",
   "metadata": {},
   "outputs": [],
   "source": [
    "#Amstrong number\n",
    "num=int(input(\"Enter the number:\"))\n",
    "sum=0\n",
    "temp=num\n",
    "while temp>0:\n",
    "    digit=temp%10\n",
    "    sum+=digit**3\n",
    "    temp//=10\n",
    "if num==sum:\n",
    "    print(\"the given number is amstrong number\",num)\n",
    "else:\n",
    "    print(\"the given number is not amstrong number\",num)"
   ]
  },
  {
   "cell_type": "code",
   "execution_count": null,
   "id": "603dce53",
   "metadata": {},
   "outputs": [],
   "source": [
    "#to certain condition for amstrong number\n",
    "for i in range(1,101):\n",
    "    num=i\n",
    "    sum=0\n",
    "    while(i>=0):\n",
    "        digit=sum%10\n",
    "        num+=digit**3\n",
    "        sum//=10\n",
    "if num==sum:\n",
    "    print(\"the given no is amstrong number\",num)\n",
    "else:\n",
    "    print(\"the give no is not amstrong number\",num)\n",
    "        "
   ]
  },
  {
   "cell_type": "code",
   "execution_count": null,
   "id": "32fe2138",
   "metadata": {},
   "outputs": [],
   "source": [
    "x=\"ammani\"\n",
    "print(type(x))"
   ]
  },
  {
   "cell_type": "code",
   "execution_count": null,
   "id": "c34c27c6",
   "metadata": {},
   "outputs": [],
   "source": [
    "x=int(2)\n",
    "y=str('anu')\n",
    "print(x)\n",
    "print(y)"
   ]
  },
  {
   "cell_type": "code",
   "execution_count": null,
   "id": "87efa475",
   "metadata": {},
   "outputs": [],
   "source": [
    "for i in \"ammani\":\n",
    "    print(i)"
   ]
  },
  {
   "cell_type": "code",
   "execution_count": null,
   "id": "49cf996f",
   "metadata": {},
   "outputs": [],
   "source": [
    "import random\n",
    "random.randrange(1,60)"
   ]
  },
  {
   "cell_type": "code",
   "execution_count": null,
   "id": "b8cad607",
   "metadata": {},
   "outputs": [],
   "source": [
    "a=\"ammani is good girl\"\n",
    "print(a[1:5])"
   ]
  },
  {
   "cell_type": "code",
   "execution_count": null,
   "id": "f527cfbe",
   "metadata": {},
   "outputs": [],
   "source": [
    "num1=20\n",
    "num2=30\n",
    "num3=2\n",
    "if(num1>=num2)and(num1>=num3):\n",
    "    print(\"num1 is largest\")\n",
    "elif(num2>=num1)and(num2>=num3):\n",
    "    print(\"num2 is largest\")\n",
    "else:\n",
    "    print(\"num3 largest\")"
   ]
  },
  {
   "cell_type": "code",
   "execution_count": null,
   "id": "c516064b",
   "metadata": {},
   "outputs": [],
   "source": [
    "year=int(input(\"Enter the year\"))\n",
    "if year%4==0:\n",
    "    if year%100==0:\n",
    "        if year%400==0:\n",
    "            print(\"the given year is leap year\",year)\n",
    "        else:\n",
    "            print(\"the given year is not a leap year\",year)\n",
    "    else:\n",
    "        print(\"the given year is leap year\",year)\n",
    "else:\n",
    "    print(\"The given year is not a leap year\",year)"
   ]
  },
  {
   "cell_type": "code",
   "execution_count": null,
   "id": "a262cd1f",
   "metadata": {},
   "outputs": [],
   "source": [
    "num=int(input(\"Enter the number\"))\n",
    "factorial=1\n",
    "if num<0:\n",
    "    print(\"it does not exit the negative numbers\")\n",
    "elif num==1:\n",
    "    print(\"it returns the 1\")\n",
    "for i in range(1,num+1):\n",
    "    factorial=factorial*i\n",
    "print(\"the given number is factorial\",factorial)"
   ]
  },
  {
   "cell_type": "code",
   "execution_count": null,
   "id": "2ce1b44b",
   "metadata": {},
   "outputs": [],
   "source": []
  },
  {
   "cell_type": "code",
   "execution_count": null,
   "id": "6ec4c900",
   "metadata": {},
   "outputs": [],
   "source": []
  },
  {
   "cell_type": "code",
   "execution_count": null,
   "id": "9aca4cb7",
   "metadata": {},
   "outputs": [],
   "source": []
  },
  {
   "cell_type": "code",
   "execution_count": null,
   "id": "6f445c2c",
   "metadata": {},
   "outputs": [],
   "source": []
  },
  {
   "cell_type": "code",
   "execution_count": null,
   "id": "59414ca1",
   "metadata": {},
   "outputs": [],
   "source": []
  },
  {
   "cell_type": "code",
   "execution_count": null,
   "id": "8dad7d24",
   "metadata": {},
   "outputs": [],
   "source": []
  }
 ],
 "metadata": {
  "kernelspec": {
   "display_name": "Python 3 (ipykernel)",
   "language": "python",
   "name": "python3"
  },
  "language_info": {
   "codemirror_mode": {
    "name": "ipython",
    "version": 3
   },
   "file_extension": ".py",
   "mimetype": "text/x-python",
   "name": "python",
   "nbconvert_exporter": "python",
   "pygments_lexer": "ipython3",
   "version": "3.9.7"
  }
 },
 "nbformat": 4,
 "nbformat_minor": 5
}
