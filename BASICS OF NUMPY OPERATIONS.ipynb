{
 "cells": [
  {
   "cell_type": "code",
   "execution_count": 8,
   "id": "67210a3b",
   "metadata": {},
   "outputs": [
    {
     "name": "stdout",
     "output_type": "stream",
     "text": [
      "<module 'numpy.version' from 'C:\\\\ProgramData\\\\Anaconda3\\\\a\\\\lib\\\\site-packages\\\\numpy\\\\version.py'>\n",
      "blas_mkl_info:\n",
      "    libraries = ['mkl_rt']\n",
      "    library_dirs = ['C:/ProgramData/Anaconda3/a\\\\Library\\\\lib']\n",
      "    define_macros = [('SCIPY_MKL_H', None), ('HAVE_CBLAS', None)]\n",
      "    include_dirs = ['C:/ProgramData/Anaconda3/a\\\\Library\\\\include']\n",
      "blas_opt_info:\n",
      "    libraries = ['mkl_rt']\n",
      "    library_dirs = ['C:/ProgramData/Anaconda3/a\\\\Library\\\\lib']\n",
      "    define_macros = [('SCIPY_MKL_H', None), ('HAVE_CBLAS', None)]\n",
      "    include_dirs = ['C:/ProgramData/Anaconda3/a\\\\Library\\\\include']\n",
      "lapack_mkl_info:\n",
      "    libraries = ['mkl_rt']\n",
      "    library_dirs = ['C:/ProgramData/Anaconda3/a\\\\Library\\\\lib']\n",
      "    define_macros = [('SCIPY_MKL_H', None), ('HAVE_CBLAS', None)]\n",
      "    include_dirs = ['C:/ProgramData/Anaconda3/a\\\\Library\\\\include']\n",
      "lapack_opt_info:\n",
      "    libraries = ['mkl_rt']\n",
      "    library_dirs = ['C:/ProgramData/Anaconda3/a\\\\Library\\\\lib']\n",
      "    define_macros = [('SCIPY_MKL_H', None), ('HAVE_CBLAS', None)]\n",
      "    include_dirs = ['C:/ProgramData/Anaconda3/a\\\\Library\\\\include']\n",
      "None\n"
     ]
    }
   ],
   "source": [
    "import numpy as np\n",
    "print(np.version)\n",
    "print(np.show_config())"
   ]
  },
  {
   "cell_type": "code",
   "execution_count": 9,
   "id": "293e0038",
   "metadata": {},
   "outputs": [
    {
     "name": "stdout",
     "output_type": "stream",
     "text": [
      "add(x1, x2, /, out=None, *, where=True, casting='same_kind', order='K', dtype=None, subok=True[, signature, extobj])\n",
      "\n",
      "Add arguments element-wise.\n",
      "\n",
      "Parameters\n",
      "----------\n",
      "x1, x2 : array_like\n",
      "    The arrays to be added.\n",
      "    If ``x1.shape != x2.shape``, they must be broadcastable to a common\n",
      "    shape (which becomes the shape of the output).\n",
      "out : ndarray, None, or tuple of ndarray and None, optional\n",
      "    A location into which the result is stored. If provided, it must have\n",
      "    a shape that the inputs broadcast to. If not provided or None,\n",
      "    a freshly-allocated array is returned. A tuple (possible only as a\n",
      "    keyword argument) must have length equal to the number of outputs.\n",
      "where : array_like, optional\n",
      "    This condition is broadcast over the input. At locations where the\n",
      "    condition is True, the `out` array will be set to the ufunc result.\n",
      "    Elsewhere, the `out` array will retain its original value.\n",
      "    Note that if an uninitialized `out` array is created via the default\n",
      "    ``out=None``, locations within it where the condition is False will\n",
      "    remain uninitialized.\n",
      "**kwargs\n",
      "    For other keyword-only arguments, see the\n",
      "    :ref:`ufunc docs <ufuncs.kwargs>`.\n",
      "\n",
      "Returns\n",
      "-------\n",
      "add : ndarray or scalar\n",
      "    The sum of `x1` and `x2`, element-wise.\n",
      "    This is a scalar if both `x1` and `x2` are scalars.\n",
      "\n",
      "Notes\n",
      "-----\n",
      "Equivalent to `x1` + `x2` in terms of array broadcasting.\n",
      "\n",
      "Examples\n",
      "--------\n",
      ">>> np.add(1.0, 4.0)\n",
      "5.0\n",
      ">>> x1 = np.arange(9.0).reshape((3, 3))\n",
      ">>> x2 = np.arange(3.0)\n",
      ">>> np.add(x1, x2)\n",
      "array([[  0.,   2.,   4.],\n",
      "       [  3.,   5.,   7.],\n",
      "       [  6.,   8.,  10.]])\n",
      "\n",
      "The ``+`` operator can be used as a shorthand for ``np.add`` on ndarrays.\n",
      "\n",
      ">>> x1 = np.arange(9.0).reshape((3, 3))\n",
      ">>> x2 = np.arange(3.0)\n",
      ">>> x1 + x2\n",
      "array([[ 0.,  2.,  4.],\n",
      "       [ 3.,  5.,  7.],\n",
      "       [ 6.,  8., 10.]])\n",
      "None\n"
     ]
    }
   ],
   "source": [
    "print(np.info(np.add))"
   ]
  },
  {
   "cell_type": "code",
   "execution_count": 14,
   "id": "edee64f3",
   "metadata": {},
   "outputs": [
    {
     "name": "stdout",
     "output_type": "stream",
     "text": [
      "orginal array\n",
      "[1 2 3 4]\n",
      "all the none of the values of given array is zero\n",
      "True\n",
      "orginal array\n",
      "[0 1 2 3]\n",
      "all the none of values of given array is zero\n",
      "False\n"
     ]
    }
   ],
   "source": [
    "import numpy as np\n",
    "x=np.array([1,2,3,4])\n",
    "print(\"orginal array\")\n",
    "print(x)\n",
    "print(\"all the none of the values of given array is zero\")\n",
    "print(np.all(x))\n",
    "x=np.array([0,1,2,3])\n",
    "print(\"orginal array\")\n",
    "print(x)\n",
    "print(\"all the none of values of given array is zero\")\n",
    "print(np.all(x))"
   ]
  },
  {
   "cell_type": "code",
   "execution_count": 16,
   "id": "458b35ae",
   "metadata": {},
   "outputs": [
    {
     "name": "stdout",
     "output_type": "stream",
     "text": [
      "orginal array\n",
      "[1 0 0 0]\n",
      "test any of the elements in array is nonezero\n",
      "True\n",
      "orginal array\n",
      "[0 0 0 0]\n",
      "test if any one of the elements in array is nonezero\n",
      "False\n"
     ]
    }
   ],
   "source": [
    "import numpy as np\n",
    "x=np.array([1,0,0,0])\n",
    "print(\"orginal array\")\n",
    "print(x)\n",
    "print(\"test any of the elements in array is nonezero\")\n",
    "print(np.any(x))\n",
    "x=np.array([0,0,0,0])\n",
    "print(\"orginal array\")\n",
    "print(x)\n",
    "print(\"test if any one of the elements in array is nonezero\")\n",
    "print(np.any(x))"
   ]
  },
  {
   "cell_type": "code",
   "execution_count": 18,
   "id": "2223da4a",
   "metadata": {},
   "outputs": [
    {
     "name": "stdout",
     "output_type": "stream",
     "text": [
      "orginal array\n",
      "[ 1.  0. nan inf]\n",
      "Test the given array numbers wise are finiteness:\n",
      "<ufunc 'isfinite'>\n"
     ]
    }
   ],
   "source": [
    "import numpy as np\n",
    "x=np.array([1,0,np.nan,np.inf])\n",
    "print(\"orginal array\")\n",
    "print(x)\n",
    "print(\"Test the given array numbers wise are finiteness:\")\n",
    "print(np.isfinite)"
   ]
  },
  {
   "cell_type": "code",
   "execution_count": 25,
   "id": "0866f89b",
   "metadata": {},
   "outputs": [
    {
     "name": "stdout",
     "output_type": "stream",
     "text": [
      "orginal array\n",
      "[ 0.  1. nan inf]\n",
      "the given number is positive or negative or infinity:\n",
      "[False False False  True]\n"
     ]
    }
   ],
   "source": [
    "#the given array is positive or negative infinity\n",
    "import numpy as np\n",
    "x=np.array([0,1,np.nan,np.inf])\n",
    "print(\"orginal array\")\n",
    "print(x)\n",
    "print(\"the given number is positive or negative or infinity:\")\n",
    "print(np.isinf(x))"
   ]
  },
  {
   "cell_type": "code",
   "execution_count": 33,
   "id": "45110284",
   "metadata": {},
   "outputs": [
    {
     "name": "stdout",
     "output_type": "stream",
     "text": [
      "orginal array\n",
      "[ 0.  1. nan inf]\n",
      "Test the element wise nan:\n",
      "[False False  True False]\n"
     ]
    }
   ],
   "source": [
    "import numpy as np\n",
    "x=np.array([0,1,np.nan,np.inf])\n",
    "print(\"orginal array\")\n",
    "print(x)\n",
    "print(\"Test the element wise nan:\")\n",
    "print(np.isnan(x))"
   ]
  },
  {
   "cell_type": "code",
   "execution_count": 36,
   "id": "0421f40a",
   "metadata": {},
   "outputs": [
    {
     "name": "stdout",
     "output_type": "stream",
     "text": [
      "orginal array\n",
      "[1. +1.j 1. +0.j 4.5+0.j 3. +0.j 2. +0.j 0. +2.j]\n",
      "checking for complex numbers:\n",
      "[ True False False False False  True]\n",
      "checking for real numbers:\n",
      "[False  True  True  True  True False]\n",
      "checking for scalar type:\n",
      "True\n",
      "True\n"
     ]
    }
   ],
   "source": [
    "import numpy as np\n",
    "x=np.array([1+1j,1+0j,4.5,3,2,2j])\n",
    "print(\"orginal array\")\n",
    "print(x)\n",
    "print(\"checking for complex numbers:\")\n",
    "print(np.iscomplex(x))\n",
    "print(\"checking for real numbers:\")\n",
    "print(np.isreal(x))\n",
    "print(\"checking for scalar type:\")\n",
    "print(np.isscalar(3.1))\n",
    "print(np.isscalar(3.2))"
   ]
  },
  {
   "cell_type": "code",
   "execution_count": 2,
   "id": "426f043d",
   "metadata": {},
   "outputs": [
    {
     "name": "stdout",
     "output_type": "stream",
     "text": [
      "orginal numbers:\n",
      "[3 5]\n",
      "[2 5]\n",
      "camparision-greater\n",
      "[ True False]\n",
      "camparision-greater_equal\n",
      "[ True  True]\n",
      "camparision-less\n",
      "[False False]\n",
      "camparision less_equal\n",
      "[False  True]\n"
     ]
    }
   ],
   "source": [
    "import numpy as np\n",
    "x=np.array([3,5])\n",
    "y=np.array([2,5])\n",
    "print(\"orginal numbers:\")\n",
    "print(x)\n",
    "print(y)\n",
    "print(\"camparision-greater\")\n",
    "print(np.greater(x,y))\n",
    "print(\"camparision-greater_equal\")\n",
    "print(np.greater_equal(x,y))\n",
    "print(\"camparision-less\")\n",
    "print(np.less(x,y))\n",
    "print(\"camparision less_equal\")\n",
    "print(np.less_equal(x,y))"
   ]
  },
  {
   "cell_type": "code",
   "execution_count": 4,
   "id": "24be258a",
   "metadata": {},
   "outputs": [
    {
     "name": "stdout",
     "output_type": "stream",
     "text": [
      "orginal array\n",
      "[ 10  50  44 100]\n",
      "size of the memory occupaid an array\n",
      "16 bytes\n"
     ]
    }
   ],
   "source": [
    "import numpy as np\n",
    "x=np.array([10,50,44,100])\n",
    "print(\"orginal array\")\n",
    "print(x)\n",
    "print(\"size of the memory occupaid an array\")\n",
    "print(\"%d bytes\"%(x.size*x.itemsize))\n",
    "\n"
   ]
  },
  {
   "cell_type": "code",
   "execution_count": 6,
   "id": "436aa7c6",
   "metadata": {},
   "outputs": [
    {
     "name": "stdout",
     "output_type": "stream",
     "text": [
      "an array is 10 zeros:\n",
      "[0. 0. 0. 0. 0. 0. 0. 0. 0. 0.]\n",
      "an array is 10 onces:\n",
      "[1. 1. 1. 1. 1. 1. 1. 1. 1. 1.]\n",
      "an array of 10 fives:\n",
      "[5. 5. 5. 5. 5. 5. 5. 5. 5. 5.]\n"
     ]
    }
   ],
   "source": [
    "import numpy as np\n",
    "array=np.zeros(10)\n",
    "print(\"an array is 10 zeros:\")\n",
    "print(array)\n",
    "array=np.ones(10)\n",
    "print(\"an array is 10 onces:\")\n",
    "print(array)\n",
    "array=np.ones(10)*5\n",
    "print(\"an array of 10 fives:\")\n",
    "print(array)"
   ]
  },
  {
   "cell_type": "code",
   "execution_count": 7,
   "id": "361a71cf",
   "metadata": {},
   "outputs": [
    {
     "name": "stdout",
     "output_type": "stream",
     "text": [
      "array of integers from 1 to 100\n",
      "[ 1  2  3  4  5  6  7  8  9 10 11 12 13 14 15 16 17 18 19 20 21 22 23 24\n",
      " 25 26 27 28 29 30 31 32 33 34 35 36 37 38 39 40 41 42 43 44 45 46 47 48\n",
      " 49 50 51 52 53 54 55 56 57 58 59 60 61 62 63 64 65 66 67 68 69 70 71 72\n",
      " 73 74 75 76 77 78 79 80 81 82 83 84 85 86 87 88 89 90 91 92 93 94 95 96\n",
      " 97 98 99]\n"
     ]
    }
   ],
   "source": [
    "import numpy as np\n",
    "array=np.arange(1,100)\n",
    "print(\"array of integers from 1 to 100\")\n",
    "print(array)\n"
   ]
  },
  {
   "cell_type": "code",
   "execution_count": 2,
   "id": "4cd3974d",
   "metadata": {},
   "outputs": [
    {
     "name": "stdout",
     "output_type": "stream",
     "text": [
      "5x5 matrix:\n",
      "[[1. 0. 0. 0. 0.]\n",
      " [0. 1. 0. 0. 0.]\n",
      " [0. 0. 1. 0. 0.]\n",
      " [0. 0. 0. 1. 0.]\n",
      " [0. 0. 0. 0. 1.]]\n"
     ]
    }
   ],
   "source": [
    "import numpy as np\n",
    "array_2D=np.identity(5)\n",
    "print('5x5 matrix:')\n",
    "print(array_2D)"
   ]
  },
  {
   "cell_type": "code",
   "execution_count": 12,
   "id": "dd219726",
   "metadata": {},
   "outputs": [
    {
     "name": "stdout",
     "output_type": "stream",
     "text": [
      "random number between 0 and 1:\n",
      "1.236078112527942\n"
     ]
    }
   ],
   "source": [
    "import numpy as np\n",
    "rand_num=np.random.normal(0,10)\n",
    "print(\"random number between 0 and 1:\")\n",
    "print(rand_num)"
   ]
  },
  {
   "cell_type": "code",
   "execution_count": 14,
   "id": "bfb689bb",
   "metadata": {},
   "outputs": [
    {
     "name": "stdout",
     "output_type": "stream",
     "text": [
      "15 random numbers:\n",
      "[ 1.59730582  0.0679723   0.07160245  0.05882901  0.08972548 -0.02292071\n",
      " -0.43198101 -0.20498158  0.01692123  0.46290602 -0.66803029  0.54614786\n",
      "  0.51066381 -1.49410806 -0.75139693]\n"
     ]
    }
   ],
   "source": [
    "import numpy as np\n",
    "rand_num=np.random.normal(0,1,15)\n",
    "print(\"15 random numbers:\")\n",
    "print(rand_num)"
   ]
  },
  {
   "cell_type": "code",
   "execution_count": 19,
   "id": "9b14fdaf",
   "metadata": {},
   "outputs": [
    {
     "name": "stdout",
     "output_type": "stream",
     "text": [
      "orginal vector\n",
      "[15 16 17 18 19 20 21 22 23 24 25 26 27 28 29 30 31 32 33 34 35 36 37 38\n",
      " 39 40 41 42 43 44 45 46 47 48 49 50 51 52 53 54]\n",
      "all values except first and last values said to be vector:\n",
      "[16 17 18 19 20 21 22 23 24 25 26 27 28 29 30 31 32 33 34 35 36 37 38 39\n",
      " 40 41 42 43 44 45 46 47 48 49 50 51 52 53]\n"
     ]
    }
   ],
   "source": [
    "import numpy as np\n",
    "v=np.arange(15,55)\n",
    "print(\"orginal vector\")\n",
    "print(v)\n",
    "print(\"all values except first and last values said to be vector:\")\n",
    "print(v[1:-1])"
   ]
  },
  {
   "cell_type": "code",
   "execution_count": 25,
   "id": "e5d312fe",
   "metadata": {},
   "outputs": [
    {
     "name": "stdout",
     "output_type": "stream",
     "text": [
      "orginal array\n",
      "[[10 11 12 13]\n",
      " [14 15 16 17]\n",
      " [18 19 20 21]]\n",
      "each element of the array is:\n",
      "10 11 12 13 14 15 16 17 18 19 20 21 "
     ]
    }
   ],
   "source": [
    "import numpy as np\n",
    "a=np.arange(10,22).reshape((3,4))\n",
    "print(\"orginal array\")\n",
    "print(a)\n",
    "print(\"each element of the array is:\")\n",
    "for x in np.nditer(a):\n",
    "    print(x,end=\" \")"
   ]
  },
  {
   "cell_type": "code",
   "execution_count": 27,
   "id": "2ab35728",
   "metadata": {},
   "outputs": [
    {
     "name": "stdout",
     "output_type": "stream",
     "text": [
      "length 10 with values evenly distributed in the values 5 and 50: \n",
      "[10. 20. 30. 40. 50.]\n"
     ]
    }
   ],
   "source": [
    "import numpy as np\n",
    "v=np.linspace(10,50,5)\n",
    "print(\"length 10 with values evenly distributed in the values 5 and 50: \")\n",
    "print(v)"
   ]
  },
  {
   "cell_type": "code",
   "execution_count": 29,
   "id": "967e90f3",
   "metadata": {},
   "outputs": [
    {
     "name": "stdout",
     "output_type": "stream",
     "text": [
      "orginal array\n",
      "[ 0  1  2  3  4  5  6  7  8  9 10 11 12 13 14 15 16 17 18 19 20]\n",
      "after changing the numbers of the range from 9 to 15:\n",
      "[  0   1   2   3   4   5   6   7   8  -9 -10 -11 -12 -13 -14 -15  16  17\n",
      "  18  19  20]\n"
     ]
    }
   ],
   "source": [
    "import numpy as np\n",
    "x=np.arange(21)\n",
    "print(\"orginal array\")\n",
    "print(x)\n",
    "print(\"after changing the numbers of the range from 9 to 15:\")\n",
    "x[(x>=9)&(x<=15)]*=-1\n",
    "print(x)"
   ]
  },
  {
   "cell_type": "code",
   "execution_count": 1,
   "id": "fdd7fd96",
   "metadata": {},
   "outputs": [
    {
     "name": "stdout",
     "output_type": "stream",
     "text": [
      "vector of length is 5 filled with arbitary intgers from 0 to 11\n",
      "[7 2 3 9 0]\n"
     ]
    }
   ],
   "source": [
    "import numpy as np\n",
    "x=np.random.randint(0,11,5)\n",
    "print(\"vector of length is 5 filled with arbitary intgers from 0 to 11\")\n",
    "print(x)\n"
   ]
  },
  {
   "cell_type": "code",
   "execution_count": 9,
   "id": "0ff12dfa",
   "metadata": {},
   "outputs": [
    {
     "name": "stdout",
     "output_type": "stream",
     "text": [
      "vector-1\n",
      "[1 8 3 5]\n",
      "vector-2\n",
      "[ 1 10  1  7]\n",
      "multiply the values of the two vectors:\n",
      "[ 1 80  3 35]\n"
     ]
    }
   ],
   "source": [
    "import numpy as np\n",
    "x = np.array([1,8,3,5])\n",
    "print(\"vector-1\")\n",
    "print(x)\n",
    "y = np.random.randint(0,11,4)\n",
    "print(\"vector-2\")\n",
    "print(y)\n",
    "result = x * y\n",
    "print(\"multiply the values of the two vectors:\")\n",
    "print(result)"
   ]
  },
  {
   "cell_type": "code",
   "execution_count": 8,
   "id": "1511f9ad",
   "metadata": {},
   "outputs": [
    {
     "name": "stdout",
     "output_type": "stream",
     "text": [
      "Vector-1\n",
      "[1 8 3 5]\n",
      "Vector-2\n",
      "[ 2 10  2  7]\n",
      "Multiply the values of two said vectors:\n",
      "[ 2 80  6 35]\n"
     ]
    }
   ],
   "source": [
    "import numpy as np\n",
    "x = np.array([1, 8, 3, 5])\n",
    "print(\"Vector-1\")\n",
    "print(x)\n",
    "y= np.random.randint(0, 11, 4)\n",
    "print(\"Vector-2\")\n",
    "print(y)\n",
    "result = x * y\n",
    "print(\"Multiply the values of two said vectors:\")\n",
    "print(result)"
   ]
  },
  {
   "cell_type": "code",
   "execution_count": 17,
   "id": "de2f9e2b",
   "metadata": {},
   "outputs": [
    {
     "name": "stdout",
     "output_type": "stream",
     "text": [
      "orginal matrix:\n",
      "[[10 11 12 13]\n",
      " [14 15 16 17]\n",
      " [18 19 20 21]\n",
      " [22 23 24 25]]\n",
      "the number of rows and columns of the matrix:\n",
      "(4, 4)\n"
     ]
    }
   ],
   "source": [
    "import numpy as np\n",
    "x=np.arange(10,26).reshape((4,4))\n",
    "print(\"orginal matrix:\")\n",
    "print(x)\n",
    "print(\"the number of rows and columns of the matrix:\")\n",
    "print(x.shape)"
   ]
  },
  {
   "cell_type": "code",
   "execution_count": 19,
   "id": "460a36e0",
   "metadata": {},
   "outputs": [
    {
     "name": "stdout",
     "output_type": "stream",
     "text": [
      "[[1. 0. 0.]\n",
      " [0. 1. 0.]\n",
      " [0. 0. 1.]]\n"
     ]
    }
   ],
   "source": [
    "import numpy as np\n",
    "x=np.eye(3)\n",
    "print(x)"
   ]
  },
  {
   "cell_type": "code",
   "execution_count": 20,
   "id": "a3b3d39f",
   "metadata": {},
   "outputs": [
    {
     "name": "stdout",
     "output_type": "stream",
     "text": [
      "[[1. 1. 1. 1. 1. 1. 1. 1. 1. 1.]\n",
      " [1. 0. 0. 0. 0. 0. 0. 0. 0. 1.]\n",
      " [1. 0. 0. 0. 0. 0. 0. 0. 0. 1.]\n",
      " [1. 0. 0. 0. 0. 0. 0. 0. 0. 1.]\n",
      " [1. 0. 0. 0. 0. 0. 0. 0. 0. 1.]\n",
      " [1. 0. 0. 0. 0. 0. 0. 0. 0. 1.]\n",
      " [1. 0. 0. 0. 0. 0. 0. 0. 0. 1.]\n",
      " [1. 0. 0. 0. 0. 0. 0. 0. 0. 1.]\n",
      " [1. 0. 0. 0. 0. 0. 0. 0. 0. 1.]\n",
      " [1. 1. 1. 1. 1. 1. 1. 1. 1. 1.]]\n"
     ]
    }
   ],
   "source": [
    "import numpy as np\n",
    "x=np.ones((10,10))\n",
    "x[1:-1,1:-1]=0\n",
    "print(x)"
   ]
  },
  {
   "cell_type": "code",
   "execution_count": 21,
   "id": "f68fa8d5",
   "metadata": {},
   "outputs": [
    {
     "name": "stdout",
     "output_type": "stream",
     "text": [
      "[[1 0 0 0 0]\n",
      " [0 2 0 0 0]\n",
      " [0 0 3 0 0]\n",
      " [0 0 0 4 0]\n",
      " [0 0 0 0 5]]\n"
     ]
    }
   ],
   "source": [
    "import numpy as np\n",
    "x=np.diag([1,2,3,4,5])\n",
    "print(x)"
   ]
  },
  {
   "cell_type": "code",
   "execution_count": 24,
   "id": "17a2e53d",
   "metadata": {},
   "outputs": [
    {
     "name": "stdout",
     "output_type": "stream",
     "text": [
      "[[0. 1. 0. 1.]\n",
      " [1. 0. 1. 0.]\n",
      " [0. 1. 0. 1.]\n",
      " [1. 0. 1. 0.]]\n"
     ]
    }
   ],
   "source": [
    "import numpy as np\n",
    "x=np.zeros((4,4))\n",
    "x[::2,1::2]=1\n",
    "x[1::2,::2]=1\n",
    "print(x)"
   ]
  },
  {
   "cell_type": "code",
   "execution_count": 27,
   "id": "373efdbd",
   "metadata": {},
   "outputs": [
    {
     "name": "stdout",
     "output_type": "stream",
     "text": [
      "[[[0.56812207 0.25759282 0.99039751]\n",
      "  [0.76841899 0.17950682 0.99042834]\n",
      "  [0.13575    0.64735357 0.34229997]]\n",
      "\n",
      " [[0.90169221 0.31856002 0.7352031 ]\n",
      "  [0.06960575 0.83497329 0.07758244]\n",
      "  [0.06249683 0.42355873 0.82566877]]\n",
      "\n",
      " [[0.37121305 0.5978562  0.99711868]\n",
      "  [0.18483862 0.05231175 0.18700353]\n",
      "  [0.01495067 0.36913282 0.31461042]]]\n"
     ]
    }
   ],
   "source": [
    "import numpy as np\n",
    "x=np.random.random((3,3,3))\n",
    "print(x)"
   ]
  },
  {
   "cell_type": "code",
   "execution_count": 28,
   "id": "5264ecf0",
   "metadata": {},
   "outputs": [
    {
     "name": "stdout",
     "output_type": "stream",
     "text": [
      "orginal array\n",
      "[[0 1]\n",
      " [2 3]]\n",
      "sum of all elements:\n",
      "6\n",
      "sum of each column:\n",
      "[2 4]\n",
      "sum of each row:\n",
      "[1 5]\n"
     ]
    }
   ],
   "source": [
    "import numpy as np\n",
    "x=np.array([[0,1],[2,3]])\n",
    "print(\"orginal array\")\n",
    "print(x)\n",
    "print(\"sum of all elements:\")\n",
    "print(np.sum(x))\n",
    "print(\"sum of each column:\")\n",
    "print(np.sum(x,axis=0))\n",
    "print(\"sum of each row:\")\n",
    "print(np.sum(x,axis=1))"
   ]
  },
  {
   "cell_type": "code",
   "execution_count": 29,
   "id": "fec9cb62",
   "metadata": {},
   "outputs": [
    {
     "name": "stdout",
     "output_type": "stream",
     "text": [
      "orginal vectors\n",
      "[4 5]\n",
      "[ 7 10]\n",
      "inner product of the vector is:\n",
      "78\n"
     ]
    }
   ],
   "source": [
    "import numpy as np\n",
    "x=np.array([4,5])\n",
    "y=np.array([7,10])\n",
    "print(\"orginal vectors\")\n",
    "print(x)\n",
    "print(y)\n",
    "print(\"inner product of the vector is:\")\n",
    "print(np.dot(x,y))"
   ]
  },
  {
   "cell_type": "code",
   "execution_count": 1,
   "id": "889d9bc9",
   "metadata": {},
   "outputs": [
    {
     "name": "stdout",
     "output_type": "stream",
     "text": [
      "orginal array\n",
      "[[ 0  1  2]\n",
      " [ 3  4  5]\n",
      " [ 6  7  8]\n",
      " [ 9 10 11]]\n",
      "After loading,content of the text file:\n",
      "[[ 0.  1.  2.]\n",
      " [ 3.  4.  5.]\n",
      " [ 6.  7.  8.]\n",
      " [ 9. 10. 11.]]\n"
     ]
    }
   ],
   "source": [
    "import numpy as np\n",
    "import os\n",
    "x=np.arange(12).reshape(4,3)\n",
    "print(\"orginal array\")\n",
    "print(x)\n",
    "header='col1 col2 col3'\n",
    "np.savetxt('temp.txt',x,fmt=\"%d\",header=header)\n",
    "print(\"After loading,content of the text file:\")\n",
    "result=np.loadtxt('temp.txt')\n",
    "print(result)"
   ]
  },
  {
   "cell_type": "code",
   "execution_count": 2,
   "id": "84cf24cb",
   "metadata": {},
   "outputs": [
    {
     "name": "stdout",
     "output_type": "stream",
     "text": [
      "orginal array\n",
      "[1 2 3 4 5 6]\n",
      "After loading,content of the text file:\n",
      "[1 2 3 4 5 6]\n",
      "True\n"
     ]
    }
   ],
   "source": [
    "import numpy as np\n",
    "import os\n",
    "a=np.array([1,2,3,4,5,6])\n",
    "print(\"orginal array\")\n",
    "print(a)\n",
    "a_bytes=a.tobytes()\n",
    "a2=np.frombuffer(a_bytes,dtype=a.dtype)\n",
    "print(\"After loading,content of the text file:\")\n",
    "print(a2)\n",
    "print(np.array_equal(a,a2))"
   ]
  },
  {
   "cell_type": "code",
   "execution_count": 12,
   "id": "f8ab4428",
   "metadata": {},
   "outputs": [
    {
     "name": "stdout",
     "output_type": "stream",
     "text": [
      "True\n"
     ]
    }
   ],
   "source": [
    "import numpy as np\n",
    "a=[[1,2],[3,4]]\n",
    "x=np.array(a)\n",
    "a2=x.tolist()\n",
    "print(a==a2)"
   ]
  },
  {
   "cell_type": "code",
   "execution_count": 14,
   "id": "d90b3f41",
   "metadata": {},
   "outputs": [
    {
     "name": "stdout",
     "output_type": "stream",
     "text": [
      "plot the points using matplotlib:\n"
     ]
    },
    {
     "data": {
      "image/png": "[encoded data removed]",
      "text/plain": [
       "<Figure size 432x288 with 1 Axes>"
      ]
     },
     "metadata": {
      "needs_background": "light"
     },
     "output_type": "display_data"
    }
   ],
   "source": [
    "import numpy as np\n",
    "import matplotlib.pyplot as plt\n",
    "x=np.arange(0,3*np.pi,0.2)\n",
    "y=np.sin(x)\n",
    "print(\"plot the points using matplotlib:\")\n",
    "plt.plot(x,y)\n",
    "plt.show()"
   ]
  },
  {
   "cell_type": "code",
   "execution_count": 18,
   "id": "da38c085",
   "metadata": {},
   "outputs": [
    {
     "name": "stdout",
     "output_type": "stream",
     "text": [
      "orginal array:\n",
      "[[ 1.  2. nan  4.]\n",
      " [ 4. nan nan  7.]\n",
      " [ 1.  2.  3.  4.]]\n",
      "\n",
      "find the missing data of the array:\n",
      "[[False False  True False]\n",
      " [False  True  True False]\n",
      " [False False False False]]\n"
     ]
    }
   ],
   "source": [
    "import numpy as np\n",
    "nums=np.array([[1,2,np.nan,4],\n",
    "              [4,np.nan,np.nan,7],\n",
    "              [1,2,3,4]])\n",
    "print(\"orginal array:\")\n",
    "print(nums)\n",
    "print(\"\\nfind the missing data of the array:\")\n",
    "print(np.isnan(nums))"
   ]
  },
  {
   "cell_type": "code",
   "execution_count": 20,
   "id": "5f627a60",
   "metadata": {},
   "outputs": [
    {
     "name": "stdout",
     "output_type": "stream",
     "text": [
      "orginal array:\n",
      "[0.5 1.5 0.2]\n",
      "[0.499999 1.5      0.2     ]\n",
      "\n",
      "Test said two arrays are equal(element wise) or not:?\n",
      "[False  True  True]\n"
     ]
    }
   ],
   "source": [
    "import numpy as np\n",
    "nums1=np.array([0.5,1.5,0.2])\n",
    "nums2=np.array([0.499999,1.500,0.2])\n",
    "np.set_printoptions(precision=15)\n",
    "print(\"orginal array:\")\n",
    "print(nums1)\n",
    "print(nums2)\n",
    "print(\"\\nTest said two arrays are equal(element wise) or not:?\")\n",
    "print(nums1==nums2)"
   ]
  },
  {
   "cell_type": "code",
   "execution_count": 21,
   "id": "07a16335",
   "metadata": {},
   "outputs": [
    {
     "name": "stdout",
     "output_type": "stream",
     "text": [
      "one-dimentional array of single digit numbers:\n",
      "[ 1  2  3  4  5  6  7  8  9 10 11 12 13 14 15 16 17 18 19 20]\n",
      "\n",
      "one-dimentional array of two digit number:\n",
      "[10 11 12 13 14 15 16 17 18 19 20]\n",
      "\n",
      "one-dimentional array of three digit number:\n",
      "[100 101 102 103 104 105 106 107 108 109 110 111 112 113 114 115 116 117\n",
      " 118 119 120 121 122 123 124 125 126 127 128 129 130 131 132 133 134 135\n",
      " 136 137 138 139 140 141 142 143 144 145 146 147 148 149 150 151 152 153\n",
      " 154 155 156 157 158 159 160 161 162 163 164 165 166 167 168 169 170 171\n",
      " 172 173 174 175 176 177 178 179 180 181 182 183 184 185 186 187 188 189\n",
      " 190 191 192 193 194 195 196 197 198 199 200]\n"
     ]
    }
   ],
   "source": [
    "import numpy as np\n",
    "nums=np.arange(1,21)\n",
    "print(\"one-dimentional array of single digit numbers:\")\n",
    "print(nums)\n",
    "nums=np.arange(10,21)\n",
    "print(\"\\none-dimentional array of two digit number:\")\n",
    "print(nums)\n",
    "nums=np.arange(100,201)\n",
    "print(\"\\none-dimentional array of three digit number:\")\n",
    "print(nums)"
   ]
  },
  {
   "cell_type": "code",
   "execution_count": 28,
   "id": "cbd7c6bc",
   "metadata": {},
   "outputs": [
    {
     "name": "stdout",
     "output_type": "stream",
     "text": [
      "Create an array of shape(15,10):\n",
      "Command-1\n",
      "[[  1   2   3   4   5   6   7   8   9  10]\n",
      " [ 11  12  13  14  15  16  17  18  19  20]\n",
      " [ 21  22  23  24  25  26  27  28  29  30]\n",
      " [ 31  32  33  34  35  36  37  38  39  40]\n",
      " [ 41  42  43  44  45  46  47  48  49  50]\n",
      " [ 51  52  53  54  55  56  57  58  59  60]\n",
      " [ 61  62  63  64  65  66  67  68  69  70]\n",
      " [ 71  72  73  74  75  76  77  78  79  80]\n",
      " [ 81  82  83  84  85  86  87  88  89  90]\n",
      " [ 91  92  93  94  95  96  97  98  99 100]\n",
      " [101 102 103 104 105 106 107 108 109 110]\n",
      " [111 112 113 114 115 116 117 118 119 120]\n",
      " [121 122 123 124 125 126 127 128 129 130]\n",
      " [131 132 133 134 135 136 137 138 139 140]\n",
      " [141 142 143 144 145 146 147 148 149 150]]\n",
      "\n",
      "Command-2\n",
      "[[  1   2   3   4   5   6   7   8   9  10]\n",
      " [ 11  12  13  14  15  16  17  18  19  20]\n",
      " [ 21  22  23  24  25  26  27  28  29  30]\n",
      " [ 31  32  33  34  35  36  37  38  39  40]\n",
      " [ 41  42  43  44  45  46  47  48  49  50]\n",
      " [ 51  52  53  54  55  56  57  58  59  60]\n",
      " [ 61  62  63  64  65  66  67  68  69  70]\n",
      " [ 71  72  73  74  75  76  77  78  79  80]\n",
      " [ 81  82  83  84  85  86  87  88  89  90]\n",
      " [ 91  92  93  94  95  96  97  98  99 100]\n",
      " [101 102 103 104 105 106 107 108 109 110]\n",
      " [111 112 113 114 115 116 117 118 119 120]\n",
      " [121 122 123 124 125 126 127 128 129 130]\n",
      " [131 132 133 134 135 136 137 138 139 140]\n",
      " [141 142 143 144 145 146 147 148 149 150]]\n",
      "\n",
      "Command-3\n",
      "[[  1   2   3   4   5   6   7   8   9  10]\n",
      " [ 11  12  13  14  15  16  17  18  19  20]\n",
      " [ 21  22  23  24  25  26  27  28  29  30]\n",
      " [ 31  32  33  34  35  36  37  38  39  40]\n",
      " [ 41  42  43  44  45  46  47  48  49  50]\n",
      " [ 51  52  53  54  55  56  57  58  59  60]\n",
      " [ 61  62  63  64  65  66  67  68  69  70]\n",
      " [ 71  72  73  74  75  76  77  78  79  80]\n",
      " [ 81  82  83  84  85  86  87  88  89  90]\n",
      " [ 91  92  93  94  95  96  97  98  99 100]\n",
      " [101 102 103 104 105 106 107 108 109 110]\n",
      " [111 112 113 114 115 116 117 118 119 120]\n",
      " [121 122 123 124 125 126 127 128 129 130]\n",
      " [131 132 133 134 135 136 137 138 139 140]\n",
      " [141 142 143 144 145 146 147 148 149 150]]\n"
     ]
    }
   ],
   "source": [
    "import numpy as np\n",
    "print(\"Create an array of shape(15,10):\")\n",
    "print(\"Command-1\")\n",
    "print(np.arange(1, 151).reshape(15, 10))\n",
    "print(\"\\nCommand-2\")\n",
    "print(np.arange(1, 151).reshape(-1, 10))\n",
    "print(\"\\nCommand-3\")\n",
    "print(np.arange(1, 151).reshape(15, -1))"
   ]
  },
  {
   "cell_type": "code",
   "execution_count": 30,
   "id": "31d83fbf",
   "metadata": {},
   "outputs": [
    {
     "name": "stdout",
     "output_type": "stream",
     "text": [
      "[0.771320643266746 0.020751949359402 0.633648234926275 0.748803882538612\n",
      " 0.49850701230259  0.224796645530848 0.198062864759624 0.760530712198959\n",
      " 0.169110836562535 0.08833981417401  0.685359818367797 0.953393346194937\n",
      " 0.003948266327914 0.512192263385777 0.812620961652114 0.612526066829388\n",
      " 0.7217553174318   0.291876068170633 0.917774122512943 0.714575783397691\n",
      " 0.542544368011261 0.142170047601527 0.373340760051469 0.674133615066345\n",
      " 0.441833174422996 0.434013993333294 0.617766978469317 0.513138242554391\n",
      " 0.650397181931467 0.601038953404544 0.805223196832746 0.521647152393634\n",
      " 0.908648880808668 0.319236088988545 0.090459349270907 0.300700056636203\n",
      " 0.11398436186355  0.828681326307677 0.04689631938925  0.626287148311393]\n"
     ]
    }
   ],
   "source": [
    "import numpy as np\n",
    "np.random.seed(10)\n",
    "print(np.random.rand(40))"
   ]
  },
  {
   "cell_type": "code",
   "execution_count": 2,
   "id": "a2b28401",
   "metadata": {},
   "outputs": [
    {
     "name": "stdout",
     "output_type": "stream",
     "text": [
      "[[201.6908267  200.37467631 200.68394275 195.51750123]\n",
      " [197.92478992 201.07066048 201.79714021 198.1282331 ]\n",
      " [200.96238963 200.77744291 200.61875865 199.05613894]\n",
      " [198.48492638 198.38860811 197.55239946 200.47003621]\n",
      " [199.91545839 202.99877319 202.01069857 200.77735483]\n",
      " [199.67739161 193.89831807 202.14273593 202.54951299]\n",
      " [199.53450969 199.7512602  199.79145727 202.97687757]\n",
      " [200.24634413 196.04606934 198.30611253 197.88701546]\n",
      " [201.78450912 203.94032834 198.21152803 196.91446071]\n",
      " [201.0082481  197.03285104 200.63052763 197.82590294]]\n"
     ]
    }
   ],
   "source": [
    "import numpy as np\n",
    "np.random.seed(20)\n",
    "cbrt=np.cbrt(7)\n",
    "nd1=200\n",
    "print(cbrt*np.random.randn(10,4)+nd1)"
   ]
  },
  {
   "cell_type": "code",
   "execution_count": 6,
   "id": "352aae2c",
   "metadata": {},
   "outputs": [
    {
     "name": "stdout",
     "output_type": "stream",
     "text": [
      "orginal array\n",
      "[[ 0  1  2  3]\n",
      " [ 4  5  6  7]\n",
      " [ 8  9 10 11]\n",
      " [12 13 14 15]]\n",
      "\n",
      "New array after swpping first and last rows of the array:\n",
      "[[ 8  9 10 11]\n",
      " [ 4  5  6  7]\n",
      " [ 0  1  2  3]\n",
      " [12 13 14 15]]\n"
     ]
    }
   ],
   "source": [
    "import numpy as np\n",
    "nums=np.arange(16,dtype='int').reshape(-1,4)\n",
    "print(\"orginal array\")\n",
    "print(nums)\n",
    "print(\"\\nNew array after swpping first and last rows of the array:\")\n",
    "nums[[0,-2],:]=nums[[-2,0],:]\n",
    "print(nums)"
   ]
  },
  {
   "cell_type": "code",
   "execution_count": 7,
   "id": "83529d76",
   "metadata": {},
   "outputs": [
    {
     "name": "stdout",
     "output_type": "stream",
     "text": [
      "orginal array\n",
      "[[0 0 0 0 0 0]\n",
      " [0 0 0 0 0 0]\n",
      " [0 0 0 0 0 0]\n",
      " [0 0 0 0 0 0]\n",
      " [0 0 0 0 0 0]]\n",
      "[[3 0 3 0 3 0]\n",
      " [0 7 0 7 0 7]\n",
      " [3 0 3 0 3 0]\n",
      " [0 7 0 7 0 7]\n",
      " [3 0 3 0 3 0]]\n"
     ]
    }
   ],
   "source": [
    "import numpy as np\n",
    "nums=np.zeros(shape=(5,6),dtype='int')\n",
    "print(\"orginal array\")\n",
    "print(nums)\n",
    "nums[::2,::2]=3\n",
    "nums[1::2,::2]=7\n",
    "print(nums)"
   ]
  },
  {
   "cell_type": "code",
   "execution_count": 10,
   "id": "4bf0bda8",
   "metadata": {},
   "outputs": [
    {
     "name": "stdout",
     "output_type": "stream",
     "text": [
      "orginal array\n",
      "[[2.4 7.3 3.3]\n",
      " [8.6 2.1 9.3]\n",
      " [4.3 2.2 1.9]]\n",
      "\n",
      "sort the array in row asending order:\n",
      "[[2.4 3.3 7.3]\n",
      " [2.1 8.6 9.3]\n",
      " [1.9 2.2 4.3]]\n",
      "\n",
      "sort the array in column in asending order:\n",
      "[[2.4 2.1 1.9]\n",
      " [4.3 2.2 3.3]\n",
      " [8.6 7.3 9.3]]\n"
     ]
    }
   ],
   "source": [
    "import numpy as np\n",
    "nums=np.array([[2.4,7.3,3.3],\n",
    "              [8.6,2.1,9.3],\n",
    "              [4.3,2.2,1.9]])\n",
    "print(\"orginal array\")\n",
    "print(nums)\n",
    "print(\"\\nsort the array in row asending order:\")\n",
    "print(np.sort(nums))\n",
    "print(\"\\nsort the array in column in asending order:\")\n",
    "print(np.sort(nums,axis=0))"
   ]
  },
  {
   "cell_type": "code",
   "execution_count": 15,
   "id": "e510aef6",
   "metadata": {},
   "outputs": [
    {
     "name": "stdout",
     "output_type": "stream",
     "text": [
      "orginal array\n",
      "[[5.54 3.38 7.99]\n",
      " [3.54 4.38 6.99]\n",
      " [1.54 2.39 9.29]]\n",
      "\n",
      "elements of the array is greater than 5\n",
      "[5.54 7.99 6.99 9.29]\n",
      "\n",
      "element of the array is less than 6\n",
      "[5.54 3.38 3.54 4.38 1.54 2.39]\n"
     ]
    }
   ],
   "source": [
    "import numpy as np\n",
    "nums=np.array([[5.54,3.38,7.99],\n",
    "              [3.54,4.38,6.99],\n",
    "              [1.54,2.39,9.29]])\n",
    "print(\"orginal array\")\n",
    "print(nums)\n",
    "n=5\n",
    "print(\"\\nelements of the array is greater than\",n)\n",
    "print(nums[nums>n])\n",
    "n=6\n",
    "print(\"\\nelement of the array is less than\",n)\n",
    "print(nums[nums<n])\n"
   ]
  },
  {
   "cell_type": "code",
   "execution_count": 16,
   "id": "6013bc30",
   "metadata": {},
   "outputs": [
    {
     "name": "stdout",
     "output_type": "stream",
     "text": [
      "orginal array:\n",
      "[[5.54 3.38 7.99]\n",
      " [3.54 4.38 6.99]\n",
      " [1.54 2.39 9.29]]\n",
      "\n",
      "sort the array by row is ascending order:\n",
      "[[3.38 5.54 7.99]\n",
      " [3.54 4.38 6.99]\n",
      " [1.54 2.39 9.29]]\n",
      "\n",
      "sort the array by column in ascending order:\n",
      "[[1.54 2.39 6.99]\n",
      " [3.54 3.38 7.99]\n",
      " [5.54 4.38 9.29]]\n"
     ]
    }
   ],
   "source": [
    "import numpy as np\n",
    "nums=np.array([[5.54,3.38,7.99],\n",
    "              [3.54,4.38,6.99],\n",
    "              [1.54,2.39,9.29]])\n",
    "print(\"orginal array:\")\n",
    "print(nums)\n",
    "print(\"\\nsort the array by row is ascending order:\")\n",
    "print(np.sort(nums))\n",
    "print(\"\\nsort the array by column in ascending order:\")\n",
    "print(np.sort(nums,axis=0))"
   ]
  },
  {
   "cell_type": "code",
   "execution_count": 17,
   "id": "01b23390",
   "metadata": {},
   "outputs": [
    {
     "name": "stdout",
     "output_type": "stream",
     "text": [
      "array1:\n",
      "[[2 5 2]\n",
      " [1 5 5]]\n",
      "array2:\n",
      "[[5 3 4]\n",
      " [3 2 5]]\n",
      "\n",
      "Multiply arrays of same size element by element:\n",
      "[[10 15  8]\n",
      " [ 3 10 25]]\n"
     ]
    }
   ],
   "source": [
    "import numpy as np\n",
    "nums1=np.array([[2,5,2],\n",
    "               [1,5,5]])\n",
    "nums2=np.array([[5,3,4],\n",
    "               [3,2,5]])\n",
    "print(\"array1:\")\n",
    "print(nums1)\n",
    "print(\"array2:\")\n",
    "print(nums2)\n",
    "print(\"\\nMultiply arrays of same size element by element:\")\n",
    "print(np.multiply(nums1,nums2))"
   ]
  },
  {
   "cell_type": "markdown",
   "id": "0f00ee10",
   "metadata": {},
   "source": [
    "# Pandas:"
   ]
  },
  {
   "cell_type": "code",
   "execution_count": 19,
   "id": "7bbc4e71",
   "metadata": {},
   "outputs": [
    {
     "name": "stdout",
     "output_type": "stream",
     "text": [
      "0     2\n",
      "1     4\n",
      "2     6\n",
      "3     8\n",
      "4    10\n",
      "dtype: int64\n"
     ]
    }
   ],
   "source": [
    "import pandas as pd\n",
    "ds=pd.Series([2,4,6,8,10])\n",
    "print(ds)"
   ]
  },
  {
   "cell_type": "code",
   "execution_count": 20,
   "id": "4acee41a",
   "metadata": {},
   "outputs": [
    {
     "name": "stdout",
     "output_type": "stream",
     "text": [
      "pandas Series and type\n",
      "0     2\n",
      "1     4\n",
      "2     6\n",
      "3     8\n",
      "4    10\n",
      "dtype: int64\n",
      "<class 'pandas.core.series.Series'>\n",
      "Convert Pandas Series to python list\n",
      "[2, 4, 6, 8, 10]\n",
      "<class 'list'>\n"
     ]
    }
   ],
   "source": [
    "import pandas as pd\n",
    "ds=pd.Series([2,4,6,8,10])\n",
    "print(\"pandas Series and type\")\n",
    "print(ds)\n",
    "print(type(ds))\n",
    "print(\"Convert Pandas Series to python list\")\n",
    "print(ds.tolist())\n",
    "print(type(ds.tolist()))"
   ]
  },
  {
   "cell_type": "code",
   "execution_count": 21,
   "id": "4f6b0dcf",
   "metadata": {},
   "outputs": [
    {
     "name": "stdout",
     "output_type": "stream",
     "text": [
      "Add two Series:\n",
      "0     3\n",
      "1     7\n",
      "2    11\n",
      "3    15\n",
      "4    19\n",
      "dtype: int64\n",
      "subtract two Series:\n",
      "0    1\n",
      "1    1\n",
      "2    1\n",
      "3    1\n",
      "4    1\n",
      "dtype: int64\n",
      "multiply two Series:\n",
      "0     2\n",
      "1    12\n",
      "2    30\n",
      "3    56\n",
      "4    90\n",
      "dtype: int64\n",
      "divide Series1 by Series2:\n",
      "0    2.000000\n",
      "1    1.333333\n",
      "2    1.200000\n",
      "3    1.142857\n",
      "4    1.111111\n",
      "dtype: float64\n"
     ]
    }
   ],
   "source": [
    "import pandas as pd\n",
    "ds1=pd.Series([2,4,6,8,10])\n",
    "ds2=pd.Series([1,3,5,7,9])\n",
    "ds=ds1+ds2\n",
    "print(\"Add two Series:\")\n",
    "print(ds)\n",
    "print(\"subtract two Series:\")\n",
    "ds=ds1-ds2\n",
    "print(ds)\n",
    "print(\"multiply two Series:\")\n",
    "ds=ds1*ds2\n",
    "print(ds)\n",
    "print(\"divide Series1 by Series2:\")\n",
    "ds=ds1/ds2\n",
    "print(ds)"
   ]
  },
  {
   "cell_type": "code",
   "execution_count": 24,
   "id": "b33071f1",
   "metadata": {},
   "outputs": [
    {
     "name": "stdout",
     "output_type": "stream",
     "text": [
      "Series1:\n",
      "0     2\n",
      "1     4\n",
      "2     6\n",
      "3     8\n",
      "4    10\n",
      "dtype: int64\n",
      "Series2:\n",
      "0     1\n",
      "1     3\n",
      "2     5\n",
      "3     7\n",
      "4    10\n",
      "dtype: int64\n",
      "compare the elements of the series:\n",
      "equals:\n",
      "0    False\n",
      "1    False\n",
      "2    False\n",
      "3    False\n",
      "4     True\n",
      "dtype: bool\n",
      "greater than:\n",
      "0     True\n",
      "1     True\n",
      "2     True\n",
      "3     True\n",
      "4    False\n",
      "dtype: bool\n",
      "less than:\n",
      "0    False\n",
      "1    False\n",
      "2    False\n",
      "3    False\n",
      "4    False\n",
      "dtype: bool\n"
     ]
    }
   ],
   "source": [
    "import pandas as pd\n",
    "ds1=pd.Series([2,4,6,8,10])\n",
    "ds2=pd.Series([1,3,5,7,10])\n",
    "print(\"Series1:\")\n",
    "print(ds1)\n",
    "print(\"Series2:\")\n",
    "print(ds2)\n",
    "print(\"compare the elements of the series:\")\n",
    "print(\"equals:\")\n",
    "print(ds1==ds2)\n",
    "print(\"greater than:\")\n",
    "print(ds1>ds2)\n",
    "print(\"less than:\")\n",
    "print(ds1<ds2)"
   ]
  },
  {
   "cell_type": "code",
   "execution_count": 28,
   "id": "99a15023",
   "metadata": {},
   "outputs": [
    {
     "name": "stdout",
     "output_type": "stream",
     "text": [
      "orginal dictionary:\n",
      "{'a': 100, 'b': 200, 'c': 300, 'd': 400, 'e': 800}\n",
      "converted series:\n",
      "a    100\n",
      "b    200\n",
      "c    300\n",
      "d    400\n",
      "e    800\n",
      "dtype: int64\n"
     ]
    }
   ],
   "source": [
    "import pandas as pd\n",
    "d1={'a':100,'b':200,'c':300,'d':400,'e':800}\n",
    "print(\"orginal dictionary:\")\n",
    "print(d1)\n",
    "new_series=pd.Series(d1)\n",
    "print(\"converted series:\")\n",
    "print(new_series)"
   ]
  },
  {
   "cell_type": "code",
   "execution_count": 32,
   "id": "64c8f88d",
   "metadata": {},
   "outputs": [
    {
     "name": "stdout",
     "output_type": "stream",
     "text": [
      "orginal data series:\n",
      "0       100\n",
      "1       200\n",
      "2    python\n",
      "3    300.12\n",
      "4       400\n",
      "dtype: object\n",
      "change the data type to numeric:\n",
      "0    100.00\n",
      "1    200.00\n",
      "2       NaN\n",
      "3    300.12\n",
      "4    400.00\n",
      "dtype: float64\n"
     ]
    }
   ],
   "source": [
    "import pandas as pd\n",
    "s1=pd.Series(['100','200','python','300.12','400'])\n",
    "print(\"orginal data series:\")\n",
    "print(s1)\n",
    "print(\"change the data type to numeric:\")\n",
    "s2 = pd.to_numeric(s1, errors='coerce')\n",
    "print(s2)"
   ]
  },
  {
   "cell_type": "code",
   "execution_count": 3,
   "id": "ddbb8118",
   "metadata": {},
   "outputs": [
    {
     "name": "stdout",
     "output_type": "stream",
     "text": [
      "orginal data series:\n",
      "0       100\n",
      "1       200\n",
      "2    python\n",
      "3    300.12\n",
      "4       400\n",
      "dtype: object\n",
      "series to an array\n",
      "['100' '200' 'python' '300.12' '400']\n"
     ]
    }
   ],
   "source": [
    "import pandas as pd\n",
    "import numpy as np\n",
    "s1=pd.Series(['100','200','python','300.12','400'])\n",
    "print(\"orginal data series:\")\n",
    "print(s1)\n",
    "print(\"series to an array\")\n",
    "a=np.array(s1.values.tolist())\n",
    "print(a)"
   ]
  },
  {
   "cell_type": "code",
   "execution_count": 8,
   "id": "fd92d307",
   "metadata": {},
   "outputs": [
    {
     "name": "stdout",
     "output_type": "stream",
     "text": [
      "orginal Series of list\n",
      "0    [red, green, white]\n",
      "1           [red, black]\n",
      "2               [yellow]\n",
      "dtype: object\n",
      "one series\n",
      "0       red\n",
      "1     green\n",
      "2     white\n",
      "3       red\n",
      "4     black\n",
      "5    yellow\n",
      "dtype: object\n"
     ]
    }
   ],
   "source": [
    "import pandas as pd\n",
    "s=pd.Series([\n",
    "    ['red','green','white'],\n",
    "    ['red','black'],\n",
    "    ['yellow']])\n",
    "print(\"orginal Series of list\")\n",
    "print(s)\n",
    "s=s.apply(pd.Series).stack().reset_index(drop=True)\n",
    "print(\"one series\")\n",
    "print(s)"
   ]
  },
  {
   "cell_type": "code",
   "execution_count": 10,
   "id": "374a6658",
   "metadata": {},
   "outputs": [
    {
     "name": "stdout",
     "output_type": "stream",
     "text": [
      "orginal data series:\n",
      "0       100\n",
      "1       200\n",
      "2    python\n",
      "3    300.12\n",
      "4       400\n",
      "dtype: object\n",
      "0       100\n",
      "1       200\n",
      "3    300.12\n",
      "4       400\n",
      "2    python\n",
      "dtype: object\n"
     ]
    }
   ],
   "source": [
    "import pandas as pd\n",
    "s=pd.Series(['100','200','python','300.12','400'])\n",
    "print(\"orginal data series:\")\n",
    "print(s)\n",
    "new_s=pd.Series(s).sort_values()\n",
    "print(new_s)"
   ]
  },
  {
   "cell_type": "code",
   "execution_count": 11,
   "id": "c094753b",
   "metadata": {},
   "outputs": [
    {
     "name": "stdout",
     "output_type": "stream",
     "text": [
      "orginal data series:\n",
      "0       100\n",
      "1       200\n",
      "2    python\n",
      "3    300.12\n",
      "4       400\n",
      "dtype: object\n",
      "\n",
      "data series after adding some data:\n",
      "0       100\n",
      "1       200\n",
      "2    python\n",
      "3    300.12\n",
      "4       400\n",
      "0       500\n",
      "1       php\n",
      "dtype: object\n"
     ]
    }
   ],
   "source": [
    "import pandas as pd\n",
    "s=pd.Series(['100','200','python','300.12','400'])\n",
    "print(\"orginal data series:\")\n",
    "print(s)\n",
    "print(\"\\ndata series after adding some data:\")\n",
    "new_s=s.append(pd.Series(['500','php']))\n",
    "print(new_s)"
   ]
  },
  {
   "cell_type": "code",
   "execution_count": 13,
   "id": "a1894ea3",
   "metadata": {},
   "outputs": [
    {
     "name": "stdout",
     "output_type": "stream",
     "text": [
      "orginal data series:\n",
      "0      0\n",
      "1      1\n",
      "2      2\n",
      "3      3\n",
      "4      4\n",
      "5      5\n",
      "6      6\n",
      "7      7\n",
      "8      8\n",
      "9      9\n",
      "10    10\n",
      "dtype: int64\n",
      "\n",
      "subset of the above data series:\n",
      "0    0\n",
      "1    1\n",
      "2    2\n",
      "3    3\n",
      "4    4\n",
      "5    5\n",
      "dtype: int64\n"
     ]
    }
   ],
   "source": [
    "import pandas as np\n",
    "s=pd.Series([0,1,2,3,4,5,6,7,8,9,10])\n",
    "print(\"orginal data series:\")\n",
    "print(s)\n",
    "print(\"\\nsubset of the above data series:\")\n",
    "n=6\n",
    "new_s=s[s < n]\n",
    "print(new_s)"
   ]
  },
  {
   "cell_type": "code",
   "execution_count": 18,
   "id": "ce9a78e9",
   "metadata": {},
   "outputs": [
    {
     "name": "stdout",
     "output_type": "stream",
     "text": [
      "orginal data Series:\n",
      "A    1\n",
      "B    2\n",
      "C    3\n",
      "D    4\n",
      "E    5\n",
      "dtype: int64\n",
      "data series after changong the order of index:\n",
      "E    5\n",
      "D    4\n",
      "C    3\n",
      "B    2\n",
      "A    1\n",
      "dtype: int64\n"
     ]
    }
   ],
   "source": [
    "import numpy as np\n",
    "s=pd.Series(data=[1,2,3,4,5],index=['A','B','C','D','E'])\n",
    "print(\"orginal data Series:\")\n",
    "print(s)\n",
    "s=s.reindex(index=['E','D','C','B','A'])\n",
    "print(\"data series after changong the order of index:\")\n",
    "print(s)"
   ]
  },
  {
   "cell_type": "code",
   "execution_count": null,
   "id": "ba46dfdd",
   "metadata": {},
   "outputs": [],
   "source": []
  }
 ],
 "metadata": {
  "kernelspec": {
   "display_name": "Python 3 (ipykernel)",
   "language": "python",
   "name": "python3"
  },
  "language_info": {
   "codemirror_mode": {
    "name": "ipython",
    "version": 3
   },
   "file_extension": ".py",
   "mimetype": "text/x-python",
   "name": "python",
   "nbconvert_exporter": "python",
   "pygments_lexer": "ipython3",
   "version": "3.9.7"
  }
 },
 "nbformat": 4,
 "nbformat_minor": 5
}
