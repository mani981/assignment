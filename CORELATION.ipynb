{
 "cells": [
  {
   "cell_type": "code",
   "execution_count": 1,
   "id": "8e867825",
   "metadata": {},
   "outputs": [
    {
     "data": {
      "text/html": [
       "<div>\n",
       "<style scoped>\n",
       "    .dataframe tbody tr th:only-of-type {\n",
       "        vertical-align: middle;\n",
       "    }\n",
       "\n",
       "    .dataframe tbody tr th {\n",
       "        vertical-align: top;\n",
       "    }\n",
       "\n",
       "    .dataframe thead th {\n",
       "        text-align: right;\n",
       "    }\n",
       "</style>\n",
       "<table border=\"1\" class=\"dataframe\">\n",
       "  <thead>\n",
       "    <tr style=\"text-align: right;\">\n",
       "      <th></th>\n",
       "      <th>number</th>\n",
       "      <th>name</th>\n",
       "      <th>age</th>\n",
       "      <th>marks</th>\n",
       "      <th>branch</th>\n",
       "      <th>gender</th>\n",
       "    </tr>\n",
       "  </thead>\n",
       "  <tbody>\n",
       "    <tr>\n",
       "      <th>0</th>\n",
       "      <td>1</td>\n",
       "      <td>rani</td>\n",
       "      <td>12</td>\n",
       "      <td>10</td>\n",
       "      <td>cse</td>\n",
       "      <td>f</td>\n",
       "    </tr>\n",
       "    <tr>\n",
       "      <th>1</th>\n",
       "      <td>2</td>\n",
       "      <td>vani</td>\n",
       "      <td>16</td>\n",
       "      <td>15</td>\n",
       "      <td>cse</td>\n",
       "      <td>f</td>\n",
       "    </tr>\n",
       "    <tr>\n",
       "      <th>2</th>\n",
       "      <td>3</td>\n",
       "      <td>ramya</td>\n",
       "      <td>19</td>\n",
       "      <td>20</td>\n",
       "      <td>ece</td>\n",
       "      <td>f</td>\n",
       "    </tr>\n",
       "    <tr>\n",
       "      <th>3</th>\n",
       "      <td>4</td>\n",
       "      <td>kavya</td>\n",
       "      <td>17</td>\n",
       "      <td>22</td>\n",
       "      <td>ece</td>\n",
       "      <td>f</td>\n",
       "    </tr>\n",
       "    <tr>\n",
       "      <th>4</th>\n",
       "      <td>5</td>\n",
       "      <td>bhavya</td>\n",
       "      <td>11</td>\n",
       "      <td>17</td>\n",
       "      <td>me</td>\n",
       "      <td>f</td>\n",
       "    </tr>\n",
       "    <tr>\n",
       "      <th>5</th>\n",
       "      <td>6</td>\n",
       "      <td>ravi</td>\n",
       "      <td>10</td>\n",
       "      <td>16</td>\n",
       "      <td>me</td>\n",
       "      <td>m</td>\n",
       "    </tr>\n",
       "    <tr>\n",
       "      <th>6</th>\n",
       "      <td>7</td>\n",
       "      <td>ragu</td>\n",
       "      <td>18</td>\n",
       "      <td>15</td>\n",
       "      <td>eee</td>\n",
       "      <td>m</td>\n",
       "    </tr>\n",
       "    <tr>\n",
       "      <th>7</th>\n",
       "      <td>8</td>\n",
       "      <td>swami</td>\n",
       "      <td>13</td>\n",
       "      <td>19</td>\n",
       "      <td>eee</td>\n",
       "      <td>m</td>\n",
       "    </tr>\n",
       "    <tr>\n",
       "      <th>8</th>\n",
       "      <td>9</td>\n",
       "      <td>bhadra</td>\n",
       "      <td>14</td>\n",
       "      <td>22</td>\n",
       "      <td>cse</td>\n",
       "      <td>m</td>\n",
       "    </tr>\n",
       "  </tbody>\n",
       "</table>\n",
       "</div>"
      ],
      "text/plain": [
       "   number    name  age  marks branch gender\n",
       "0       1    rani   12     10    cse      f\n",
       "1       2    vani   16     15    cse      f\n",
       "2       3   ramya   19     20    ece      f\n",
       "3       4   kavya   17     22    ece      f\n",
       "4       5  bhavya   11     17     me      f\n",
       "5       6    ravi   10     16     me      m\n",
       "6       7    ragu   18     15    eee      m\n",
       "7       8   swami   13     19    eee      m\n",
       "8       9  bhadra   14     22    cse      m"
      ]
     },
     "execution_count": 1,
     "metadata": {},
     "output_type": "execute_result"
    }
   ],
   "source": [
    "import pandas as pd\n",
    "df=pd.read_csv(\"info.csv\")\n",
    "df"
   ]
  },
  {
   "cell_type": "code",
   "execution_count": 6,
   "id": "3a7d00f9",
   "metadata": {},
   "outputs": [
    {
     "name": "stdout",
     "output_type": "stream",
     "text": [
      "<pandas.core.groupby.generic.DataFrameGroupBy object at 0x000001FDCED67940>\n"
     ]
    }
   ],
   "source": [
    "print(df.groupby([\"gender\"]))"
   ]
  },
  {
   "cell_type": "code",
   "execution_count": 61,
   "id": "eea6e236",
   "metadata": {},
   "outputs": [
    {
     "data": {
      "text/plain": [
       "<pandas.core.groupby.generic.DataFrameGroupBy object at 0x000001C53C244F70>"
      ]
     },
     "execution_count": 61,
     "metadata": {},
     "output_type": "execute_result"
    }
   ],
   "source": [
    "a=df.groupby([\"gender\",\"branch\"])\n",
    "a"
   ]
  },
  {
   "cell_type": "code",
   "execution_count": 50,
   "id": "eb8c57e8",
   "metadata": {},
   "outputs": [
    {
     "name": "stdout",
     "output_type": "stream",
     "text": [
      "{('cse', 'f'): [0, 1], ('cse', 'm'): [8], ('ece', 'f'): [2, 3], ('eee', 'm'): [6, 7], ('me', 'f'): [4], ('me', 'm'): [5]}\n"
     ]
    }
   ],
   "source": [
    "print(a.groups)"
   ]
  },
  {
   "cell_type": "code",
   "execution_count": 58,
   "id": "86eb863b",
   "metadata": {},
   "outputs": [
    {
     "name": "stdout",
     "output_type": "stream",
     "text": [
      "              number    name  age gender\n",
      "branch marks                            \n",
      "cse    10          1    rani   12      f\n",
      "       15          2    vani   16      f\n",
      "       22          9  bhadra   14      m\n",
      "ece    20          3   ramya   19      f\n",
      "       22          4   kavya   17      f\n",
      "eee    15          7    ragu   18      m\n",
      "       19          8   swami   13      m\n",
      "me     16          6    ravi   10      m\n",
      "       17          5  bhavya   11      f\n"
     ]
    }
   ],
   "source": [
    "import pandas as pd\n",
    "print(df.groupby([\"branch\",\"marks\"]).max())"
   ]
  },
  {
   "cell_type": "code",
   "execution_count": 16,
   "id": "24543083",
   "metadata": {},
   "outputs": [
    {
     "name": "stdout",
     "output_type": "stream",
     "text": [
      "        number    name  age  marks gender\n",
      "branch                                   \n",
      "cse          1  bhadra   12     10      f\n",
      "ece          3   kavya   17     20      f\n",
      "eee          7    ragu   13     15      m\n",
      "me           5  bhavya   10     16      f\n"
     ]
    }
   ],
   "source": [
    "print(df.groupby(\"branch\").min())"
   ]
  },
  {
   "cell_type": "code",
   "execution_count": 9,
   "id": "38e70173",
   "metadata": {},
   "outputs": [
    {
     "name": "stdout",
     "output_type": "stream",
     "text": [
      "        number    age  marks\n",
      "gender                      \n",
      "f          3.0  15.00   16.8\n",
      "m          7.5  13.75   18.0\n"
     ]
    }
   ],
   "source": [
    "print(df.groupby(\"gender\").mean())"
   ]
  },
  {
   "cell_type": "code",
   "execution_count": 63,
   "id": "9ca4a36a",
   "metadata": {},
   "outputs": [
    {
     "name": "stdout",
     "output_type": "stream",
     "text": [
      "        number  age  marks\n",
      "branch                    \n",
      "cse         12   42     47\n",
      "ece          7   36     42\n",
      "eee         15   31     34\n",
      "me          11   21     33\n"
     ]
    }
   ],
   "source": [
    "print(df.groupby([\"branch\"]).sum())"
   ]
  },
  {
   "cell_type": "code",
   "execution_count": 20,
   "id": "d0f18e8f",
   "metadata": {},
   "outputs": [
    {
     "name": "stdout",
     "output_type": "stream",
     "text": [
      "{'cse': [0, 1, 8], 'ece': [2, 3], 'eee': [6, 7], 'me': [4, 5]}\n"
     ]
    }
   ],
   "source": [
    "print(df.groupby([\"branch\"]).groups)"
   ]
  },
  {
   "cell_type": "code",
   "execution_count": 22,
   "id": "fd2b82df",
   "metadata": {},
   "outputs": [
    {
     "name": "stdout",
     "output_type": "stream",
     "text": [
      "{'f': [0, 1, 2, 3, 4], 'm': [5, 6, 7, 8]}\n"
     ]
    }
   ],
   "source": [
    "print(df.groupby([\"gender\"]).groups)"
   ]
  },
  {
   "cell_type": "code",
   "execution_count": 23,
   "id": "3fb489a9",
   "metadata": {},
   "outputs": [
    {
     "name": "stdout",
     "output_type": "stream",
     "text": [
      "{10: [5], 11: [4], 12: [0], 13: [7], 14: [8], 16: [1], 17: [3], 18: [6], 19: [2]}\n"
     ]
    }
   ],
   "source": [
    "print(df.groupby([\"age\"]).groups)"
   ]
  },
  {
   "cell_type": "code",
   "execution_count": 24,
   "id": "0373dcd1",
   "metadata": {},
   "outputs": [
    {
     "name": "stdout",
     "output_type": "stream",
     "text": [
      "{10: [0], 15: [1, 6], 16: [5], 17: [4], 19: [7], 20: [2], 22: [3, 8]}\n"
     ]
    }
   ],
   "source": [
    "print(df.groupby([\"marks\"]).groups)"
   ]
  },
  {
   "cell_type": "code",
   "execution_count": 84,
   "id": "dca74dfe",
   "metadata": {},
   "outputs": [
    {
     "name": "stdout",
     "output_type": "stream",
     "text": [
      "   number    name  age  marks branch gender\n",
      "5       6    ravi   10     16     me      m\n",
      "6       7    ragu   18     15    eee      m\n",
      "7       8   swami   13     19    eee      m\n",
      "8       9  bhadra   14     22    cse      m\n"
     ]
    }
   ],
   "source": [
    "x=df.groupby([\"gender\"])\n",
    "print(x.get_group(\"m\"))"
   ]
  },
  {
   "cell_type": "code",
   "execution_count": 27,
   "id": "c8cdd23d",
   "metadata": {},
   "outputs": [
    {
     "name": "stdout",
     "output_type": "stream",
     "text": [
      "   number    name  age  marks branch gender\n",
      "0       1    rani   12     10    cse      f\n",
      "1       2    vani   16     15    cse      f\n",
      "2       3   ramya   19     20    ece      f\n",
      "3       4   kavya   17     22    ece      f\n",
      "4       5  bhavya   11     17     me      f\n"
     ]
    }
   ],
   "source": [
    "print(g.get_group(\"f\"))"
   ]
  },
  {
   "cell_type": "code",
   "execution_count": 68,
   "id": "57fc4a89",
   "metadata": {},
   "outputs": [
    {
     "name": "stdout",
     "output_type": "stream",
     "text": [
      "   number  name  age  marks branch gender\n",
      "6       7  ragu   18     15    eee      m\n"
     ]
    }
   ],
   "source": [
    "g=df.groupby([\"age\"])\n",
    "print(g.get_group(18))"
   ]
  },
  {
   "cell_type": "code",
   "execution_count": 34,
   "id": "2f77dab0",
   "metadata": {},
   "outputs": [
    {
     "name": "stdout",
     "output_type": "stream",
     "text": [
      "   number  name  age  marks branch gender\n",
      "5       6  ravi   10     16     me      m\n"
     ]
    }
   ],
   "source": [
    "print(g.get_group(10))"
   ]
  },
  {
   "cell_type": "code",
   "execution_count": 35,
   "id": "0a55eaa5",
   "metadata": {},
   "outputs": [
    {
     "data": {
      "text/plain": [
       "f    5\n",
       "m    4\n",
       "Name: gender, dtype: int64"
      ]
     },
     "execution_count": 35,
     "metadata": {},
     "output_type": "execute_result"
    }
   ],
   "source": [
    "df[\"gender\"].value_counts()"
   ]
  },
  {
   "cell_type": "code",
   "execution_count": 36,
   "id": "d489d849",
   "metadata": {},
   "outputs": [
    {
     "data": {
      "text/plain": [
       "15    2\n",
       "22    2\n",
       "10    1\n",
       "20    1\n",
       "17    1\n",
       "16    1\n",
       "19    1\n",
       "Name: marks, dtype: int64"
      ]
     },
     "execution_count": 36,
     "metadata": {},
     "output_type": "execute_result"
    }
   ],
   "source": [
    "df[\"marks\"].value_counts()"
   ]
  },
  {
   "cell_type": "code",
   "execution_count": 37,
   "id": "d7a6400a",
   "metadata": {},
   "outputs": [
    {
     "data": {
      "text/plain": [
       "12    1\n",
       "16    1\n",
       "19    1\n",
       "17    1\n",
       "11    1\n",
       "10    1\n",
       "18    1\n",
       "13    1\n",
       "14    1\n",
       "Name: age, dtype: int64"
      ]
     },
     "execution_count": 37,
     "metadata": {},
     "output_type": "execute_result"
    }
   ],
   "source": [
    "df[\"age\"].value_counts()"
   ]
  },
  {
   "cell_type": "code",
   "execution_count": 39,
   "id": "9316c2fe",
   "metadata": {},
   "outputs": [
    {
     "data": {
      "text/plain": [
       "rani      1\n",
       "vani      1\n",
       "ramya     1\n",
       "kavya     1\n",
       "bhavya    1\n",
       "ravi      1\n",
       "ragu      1\n",
       "swami     1\n",
       "bhadra    1\n",
       "Name: name, dtype: int64"
      ]
     },
     "execution_count": 39,
     "metadata": {},
     "output_type": "execute_result"
    }
   ],
   "source": [
    "df[\"name\"].value_counts()"
   ]
  },
  {
   "cell_type": "code",
   "execution_count": 49,
   "id": "8d6617b9",
   "metadata": {},
   "outputs": [
    {
     "name": "stdout",
     "output_type": "stream",
     "text": [
      "{('cse', 'f'): [0, 1], ('cse', 'm'): [8], ('ece', 'f'): [2, 3], ('eee', 'm'): [6, 7], ('me', 'f'): [4], ('me', 'm'): [5]}\n"
     ]
    }
   ],
   "source": [
    "a=df.groupby([\"branch\",\"gender\"])\n",
    "print(a.groups)"
   ]
  },
  {
   "cell_type": "code",
   "execution_count": 51,
   "id": "46147cad",
   "metadata": {},
   "outputs": [
    {
     "name": "stdout",
     "output_type": "stream",
     "text": [
      "{('bhadra', 14): [8], ('bhavya', 11): [4], ('kavya', 17): [3], ('ragu', 18): [6], ('ramya', 19): [2], ('rani', 12): [0], ('ravi', 10): [5], ('swami', 13): [7], ('vani', 16): [1]}\n"
     ]
    }
   ],
   "source": [
    "a=df.groupby([\"name\",\"age\"])\n",
    "print(a.groups)"
   ]
  },
  {
   "cell_type": "code",
   "execution_count": 53,
   "id": "88a0208c",
   "metadata": {},
   "outputs": [
    {
     "name": "stdout",
     "output_type": "stream",
     "text": [
      "{('cse', 10): [0], ('cse', 15): [1], ('cse', 22): [8], ('ece', 20): [2], ('ece', 22): [3], ('eee', 15): [6], ('eee', 19): [7], ('me', 16): [5], ('me', 17): [4]}\n"
     ]
    }
   ],
   "source": [
    "a=df.groupby([\"branch\",\"marks\"])\n",
    "print(a.groups)"
   ]
  },
  {
   "cell_type": "code",
   "execution_count": 3,
   "id": "4de52f86",
   "metadata": {},
   "outputs": [
    {
     "data": {
      "text/html": [
       "<div>\n",
       "<style scoped>\n",
       "    .dataframe tbody tr th:only-of-type {\n",
       "        vertical-align: middle;\n",
       "    }\n",
       "\n",
       "    .dataframe tbody tr th {\n",
       "        vertical-align: top;\n",
       "    }\n",
       "\n",
       "    .dataframe thead th {\n",
       "        text-align: right;\n",
       "    }\n",
       "</style>\n",
       "<table border=\"1\" class=\"dataframe\">\n",
       "  <thead>\n",
       "    <tr style=\"text-align: right;\">\n",
       "      <th></th>\n",
       "      <th>number</th>\n",
       "      <th>age</th>\n",
       "      <th>marks</th>\n",
       "    </tr>\n",
       "  </thead>\n",
       "  <tbody>\n",
       "    <tr>\n",
       "      <th>number</th>\n",
       "      <td>1.000000</td>\n",
       "      <td>-0.142374</td>\n",
       "      <td>0.518545</td>\n",
       "    </tr>\n",
       "    <tr>\n",
       "      <th>age</th>\n",
       "      <td>-0.142374</td>\n",
       "      <td>1.000000</td>\n",
       "      <td>0.328866</td>\n",
       "    </tr>\n",
       "    <tr>\n",
       "      <th>marks</th>\n",
       "      <td>0.518545</td>\n",
       "      <td>0.328866</td>\n",
       "      <td>1.000000</td>\n",
       "    </tr>\n",
       "  </tbody>\n",
       "</table>\n",
       "</div>"
      ],
      "text/plain": [
       "          number       age     marks\n",
       "number  1.000000 -0.142374  0.518545\n",
       "age    -0.142374  1.000000  0.328866\n",
       "marks   0.518545  0.328866  1.000000"
      ]
     },
     "execution_count": 3,
     "metadata": {},
     "output_type": "execute_result"
    }
   ],
   "source": [
    "import pandas as pd\n",
    "df=pd.read_csv(\"info.csv\")\n",
    "df.corr()"
   ]
  },
  {
   "cell_type": "code",
   "execution_count": 30,
   "id": "9750cf3f",
   "metadata": {},
   "outputs": [
    {
     "name": "stdout",
     "output_type": "stream",
     "text": [
      "gender\n",
      "f    84\n",
      "m    72\n",
      "Name: marks, dtype: int64\n"
     ]
    }
   ],
   "source": [
    "x=df.groupby([\"gender\"])\n",
    "print(x[\"marks\"].sum())"
   ]
  },
  {
   "cell_type": "code",
   "execution_count": 47,
   "id": "ca4dd4d3",
   "metadata": {},
   "outputs": [
    {
     "ename": "TypeError",
     "evalue": "'>' not supported between instances of 'list' and 'int'",
     "output_type": "error",
     "traceback": [
      "\u001b[1;31m---------------------------------------------------------------------------\u001b[0m",
      "\u001b[1;31mTypeError\u001b[0m                                 Traceback (most recent call last)",
      "\u001b[1;32m~\\AppData\\Local\\Temp/ipykernel_784/4021912346.py\u001b[0m in \u001b[0;36m<module>\u001b[1;34m\u001b[0m\n\u001b[1;32m----> 1\u001b[1;33m \u001b[0mx\u001b[0m\u001b[1;33m=\u001b[0m\u001b[0mdf\u001b[0m\u001b[1;33m(\u001b[0m\u001b[1;33m[\u001b[0m\u001b[1;34m\"age\"\u001b[0m\u001b[1;33m]\u001b[0m\u001b[1;33m>\u001b[0m\u001b[1;36m18\u001b[0m\u001b[1;33m)\u001b[0m\u001b[1;33m\u001b[0m\u001b[1;33m\u001b[0m\u001b[0m\n\u001b[0m\u001b[0;32m      2\u001b[0m \u001b[0my\u001b[0m\u001b[1;33m=\u001b[0m\u001b[0mdf\u001b[0m\u001b[1;33m[\u001b[0m\u001b[1;34m\"name\"\u001b[0m\u001b[1;33m,\u001b[0m\u001b[0mx\u001b[0m\u001b[1;33m]\u001b[0m\u001b[1;33m\u001b[0m\u001b[1;33m\u001b[0m\u001b[0m\n\u001b[0;32m      3\u001b[0m \u001b[0mprint\u001b[0m\u001b[1;33m(\u001b[0m\u001b[0my\u001b[0m\u001b[1;33m)\u001b[0m\u001b[1;33m\u001b[0m\u001b[1;33m\u001b[0m\u001b[0m\n",
      "\u001b[1;31mTypeError\u001b[0m: '>' not supported between instances of 'list' and 'int'"
     ]
    }
   ],
   "source": [
    "x=df([\"age\"]>18)\n",
    "y=df[\"name\",x]\n",
    "print(y)"
   ]
  },
  {
   "cell_type": "code",
   "execution_count": 75,
   "id": "9d1ac19e",
   "metadata": {},
   "outputs": [
    {
     "name": "stdout",
     "output_type": "stream",
     "text": [
      "        number  age  marks\n",
      "name                      \n",
      "bhadra       9   14     22\n",
      "bhavya       5   11     17\n",
      "kavya        4   17     22\n",
      "ragu         7   18     15\n",
      "ramya        3   19     20\n",
      "rani         1   12     10\n",
      "ravi         6   10     16\n",
      "swami        8   13     19\n",
      "vani         2   16     15\n"
     ]
    }
   ],
   "source": [
    "print(df.groupby([\"name\"]).sum())"
   ]
  },
  {
   "cell_type": "code",
   "execution_count": 100,
   "id": "0de462dc",
   "metadata": {},
   "outputs": [
    {
     "ename": "TypeError",
     "evalue": "'DataFrame' object is not callable",
     "output_type": "error",
     "traceback": [
      "\u001b[1;31m---------------------------------------------------------------------------\u001b[0m",
      "\u001b[1;31mTypeError\u001b[0m                                 Traceback (most recent call last)",
      "\u001b[1;32m~\\AppData\\Local\\Temp/ipykernel_784/469098874.py\u001b[0m in \u001b[0;36m<module>\u001b[1;34m\u001b[0m\n\u001b[1;32m----> 1\u001b[1;33m \u001b[0mx\u001b[0m\u001b[1;33m=\u001b[0m\u001b[0mdf\u001b[0m\u001b[1;33m(\u001b[0m\u001b[1;33m[\u001b[0m\u001b[1;34m\"name\"\u001b[0m\u001b[1;33m]\u001b[0m\u001b[1;33m,\u001b[0m\u001b[1;33m[\u001b[0m\u001b[1;34m\"marks\"\u001b[0m\u001b[1;33m]\u001b[0m\u001b[1;33m)\u001b[0m\u001b[1;33m\u001b[0m\u001b[1;33m\u001b[0m\u001b[0m\n\u001b[0m\u001b[0;32m      2\u001b[0m \u001b[0mx\u001b[0m\u001b[1;33m\u001b[0m\u001b[1;33m\u001b[0m\u001b[0m\n",
      "\u001b[1;31mTypeError\u001b[0m: 'DataFrame' object is not callable"
     ]
    }
   ],
   "source": [
    "x=df([\"name\"],[\"marks\"])\n",
    "x"
   ]
  },
  {
   "cell_type": "code",
   "execution_count": null,
   "id": "0e275a78",
   "metadata": {},
   "outputs": [],
   "source": []
  }
 ],
 "metadata": {
  "kernelspec": {
   "display_name": "Python 3 (ipykernel)",
   "language": "python",
   "name": "python3"
  },
  "language_info": {
   "codemirror_mode": {
    "name": "ipython",
    "version": 3
   },
   "file_extension": ".py",
   "mimetype": "text/x-python",
   "name": "python",
   "nbconvert_exporter": "python",
   "pygments_lexer": "ipython3",
   "version": "3.9.7"
  }
 },
 "nbformat": 4,
 "nbformat_minor": 5
}
